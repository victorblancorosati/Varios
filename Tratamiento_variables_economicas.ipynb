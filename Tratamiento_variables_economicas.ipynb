{
 "cells": [
  {
   "cell_type": "code",
   "execution_count": 28,
   "id": "34153f8a",
   "metadata": {},
   "outputs": [],
   "source": [
    "from dateutil.parser import parse\n",
    "import matplotlib as mpl\n",
    "import matplotlib.pyplot as plt\n",
    "import seaborn as sns\n",
    "import numpy as np\n",
    "import pandas as pd\n",
    "plt.rcParams.update({'figure.figsize': (10, 7), 'figure.dpi': 120})\n",
    "\n",
    "\n",
    "from IPython.display import set_matplotlib_formats, display\n",
    "from cycler import cycler\n",
    "import warnings\n",
    "import seaborn as sns\n",
    "\n",
    "from statsmodels.graphics.tsaplots import plot_acf, plot_pacf\n",
    "\n",
    "warnings.filterwarnings(\"ignore\")\n",
    "set_matplotlib_formats('pdf', 'png')\n",
    "plt.rcParams['savefig.dpi'] = 300\n",
    "plt.rcParams['image.cmap'] = \"viridis\"\n",
    "plt.rcParams['image.interpolation'] = \"none\"\n",
    "plt.rcParams['savefig.bbox'] = \"tight\"\n",
    "plt.rcParams['lines.linewidth'] = 2\n",
    "plt.rcParams['legend.numpoints'] = 1\n",
    "plt.rc('axes', prop_cycle=(\n",
    "  #  cycler('color', mglearn.plot_helpers.cm_cycle.colors) +\n",
    "    cycler('linestyle', ['-', '-', \"--\", (0, (3, 3)), (0, (1.5, 1.5))])))\n",
    "\n",
    "np.set_printoptions(precision=3, suppress=True)\n",
    "\n",
    "pd.set_option(\"display.max_columns\", 8)\n",
    "pd.set_option('precision', 2)\n",
    "\n",
    "_all_ = ['np', #'mglearn', \n",
    "         'display', 'plt', 'pd']"
   ]
  },
  {
   "cell_type": "code",
   "execution_count": 29,
   "id": "aa1b03de",
   "metadata": {},
   "outputs": [],
   "source": [
    "# importar data\n",
    "df = pd.read_csv('df_m.csv', delimiter=',', index_col=0 ,parse_dates=True, decimal='.')\n",
    "#df.head()\n",
    "#df= df_t.sort_index()\n",
    "df= df.drop(['rho_hs', 'rho_hp', 'mes'], axis=1)\n",
    "#df.info()\n",
    "#df.shape"
   ]
  },
  {
   "cell_type": "code",
   "execution_count": 30,
   "id": "be396713",
   "metadata": {},
   "outputs": [
    {
     "data": {
      "text/plain": [
       "Index(['mora', 'mora_privada', 'mora_factoring', 'mora_mepresto', 'mora_pp',\n",
       "       'mora_tdc', 'mora_hip', 'mora_sobreg', 'mora_pyme', 'mora_agro',\n",
       "       'mora_com', 'mora_gan', 'mora_cons', 'mora_g1', 'mora_g11', 'mora_g2',\n",
       "       'mora_g21', 'mora_g3', 'mora_g4', 'mora_g5'],\n",
       "      dtype='object')"
      ]
     },
     "execution_count": 30,
     "metadata": {},
     "output_type": "execute_result"
    }
   ],
   "source": [
    "sub = 'mora'\n",
    "mora=df.columns[df.columns.str.startswith(sub)]\n",
    "mora"
   ]
  },
  {
   "cell_type": "code",
   "execution_count": 31,
   "id": "e42789f7",
   "metadata": {},
   "outputs": [],
   "source": [
    "df = df.drop(mora, axis=1)"
   ]
  },
  {
   "cell_type": "code",
   "execution_count": 32,
   "id": "ac4bb94e",
   "metadata": {},
   "outputs": [
    {
     "data": {
      "text/plain": [
       "deuda          0\n",
       "pib_const_f    0\n",
       "pib_const_e    0\n",
       "pib_const_d    0\n",
       "pib_corr       0\n",
       "              ..\n",
       "licor          0\n",
       "cerveza        0\n",
       "pollo          0\n",
       "pib_const_c    0\n",
       "pib_const_h    0\n",
       "Length: 80, dtype: int64"
      ]
     },
     "execution_count": 32,
     "metadata": {},
     "output_type": "execute_result"
    }
   ],
   "source": [
    "valores_null = df.isnull().sum()\n",
    "valores_null.sort_values() "
   ]
  },
  {
   "cell_type": "markdown",
   "id": "29bc2911",
   "metadata": {},
   "source": [
    "## Ajuste por IPC"
   ]
  },
  {
   "cell_type": "code",
   "execution_count": 33,
   "id": "e19f043c",
   "metadata": {},
   "outputs": [
    {
     "data": {
      "text/plain": [
       "Index(['deuda', 'imae', 'imae_s', 'ipc', 'bvpsi', 'fob', 'zl_mtm', 'zl_impm',\n",
       "       'zl_rexm', 'acp_pm', 'acp_tbm', 'acp_tnm', 'mcp', 'visitas', 'entrada',\n",
       "       'gastotur', 'ibm', 'iim', 'banano', 'vacuno', 'porcino', 'pollo',\n",
       "       'cerveza', 'licor', 'gasolina', 'diesel', 'pconst', 'pconst_cdad',\n",
       "       'pconst_interior', 'concreto', 'cemento', 'itmbs', 'autos', 'apuestas',\n",
       "       'g_electricidad', 'f_electricidad', 'depósitos', 'préstamos',\n",
       "       'hipotecarios', 'comercio', 'consumo', 'construcción', 'primas', 'itm',\n",
       "       'itdm', 'intm', 'activan', 'pasivan', 'activar', 'pasivar', 'dp_pib',\n",
       "       'sob_consumo', 'sob_corpo', 'pib_cons', 'pib_corr', 'pib_const_d',\n",
       "       'pib_const_e', 'pib_const_f', 'pib_const_g', 'pib_const_i',\n",
       "       'pib_const_j', 'pib_const_m', 'ingresos_ind', 'ingresos_cmayor',\n",
       "       'ingresos_cmenor', 'ingresos_hot', 'ingresos_serv', 'ingresos_tot',\n",
       "       'rem_ind', 'rem_cmayor', 'rem_cmenor', 'rem_hot', 'rem_serv', 'rem_tot',\n",
       "       'ied', 'ied_empresas', 'ied_bancos', 'pib_const_a', 'pib_const_c',\n",
       "       'pib_const_h'],\n",
       "      dtype='object')"
      ]
     },
     "execution_count": 33,
     "metadata": {},
     "output_type": "execute_result"
    }
   ],
   "source": [
    "df.columns"
   ]
  },
  {
   "cell_type": "code",
   "execution_count": 34,
   "id": "62c85dce",
   "metadata": {},
   "outputs": [],
   "source": [
    "var = ['deuda', 'ipc', 'fob', 'zl_impm', 'zl_rexm', 'acp_pm', 'gastotur', 'ibm', 'iim','banano',\n",
    "       'gasolina', 'diesel', 'itmbs', 'apuestas', 'depósitos', 'préstamos', 'hipotecarios', 'comercio', 'consumo', \n",
    "       'construcción','itm', 'itdm', 'intm', 'activan', 'pasivan', 'activar', 'pasivar', 'dp_pib','pib_corr', \n",
    "       'ingresos_ind','ingresos_cmayor','ingresos_cmenor', 'ingresos_hot', 'ingresos_serv', 'ingresos_tot', 'rem_ind',\n",
    "       'rem_cmayor', 'rem_cmenor', 'rem_hot','rem_serv', 'rem_tot', 'ied', 'ied_empresas', 'ied_bancos']"
   ]
  },
  {
   "cell_type": "code",
   "execution_count": 35,
   "id": "abb0c772",
   "metadata": {},
   "outputs": [],
   "source": [
    "df_ipc = df[var]\n",
    "#df_ipc.info()"
   ]
  },
  {
   "cell_type": "code",
   "execution_count": 36,
   "id": "ad5c0f01",
   "metadata": {},
   "outputs": [],
   "source": [
    "df_ipc1 =df_ipc.apply(lambda x: x /df_ipc['ipc']) "
   ]
  },
  {
   "cell_type": "code",
   "execution_count": 37,
   "id": "f4975c98",
   "metadata": {},
   "outputs": [],
   "source": [
    "#sns.lineplot( x = df.index, y = np.log(df_ipc1.loc[:,'ingresos_cmenor']), data = df_ipc1, color = 'y')\n",
    "#sns.lineplot( x = df.index, y = np.log(df_ipc.loc[:,'ingresos_cmenor']), data = df_ipc, color = 'y')"
   ]
  },
  {
   "cell_type": "code",
   "execution_count": 38,
   "id": "ba99926f",
   "metadata": {},
   "outputs": [
    {
     "data": {
      "text/plain": [
       "Index(['imae', 'imae_s', 'bvpsi', 'zl_mtm', 'acp_tbm', 'acp_tnm', 'mcp',\n",
       "       'visitas', 'entrada', 'vacuno', 'porcino', 'pollo', 'cerveza', 'licor',\n",
       "       'pconst', 'pconst_cdad', 'pconst_interior', 'concreto', 'cemento',\n",
       "       'autos', 'g_electricidad', 'f_electricidad', 'primas', 'sob_consumo',\n",
       "       'sob_corpo', 'pib_cons', 'pib_const_d', 'pib_const_e', 'pib_const_f',\n",
       "       'pib_const_g', 'pib_const_i', 'pib_const_j', 'pib_const_m',\n",
       "       'pib_const_a', 'pib_const_c', 'pib_const_h'],\n",
       "      dtype='object')"
      ]
     },
     "execution_count": 38,
     "metadata": {},
     "output_type": "execute_result"
    }
   ],
   "source": [
    "df_noipc = df[df.columns[~df.columns.isin(var)]]\n",
    "df_noipc.columns"
   ]
  },
  {
   "cell_type": "code",
   "execution_count": 60,
   "id": "4f6c4e48",
   "metadata": {},
   "outputs": [],
   "source": [
    "df_1 = pd.concat([df_ipc1,df_noipc], axis=1)\n",
    "df_1 =df_1.sort_index()\n",
    "#df_1.info()"
   ]
  },
  {
   "cell_type": "markdown",
   "id": "19de321a",
   "metadata": {},
   "source": [
    "## Tratamiento de Variables"
   ]
  },
  {
   "cell_type": "code",
   "execution_count": 40,
   "id": "7fba2d74",
   "metadata": {},
   "outputs": [],
   "source": [
    "# Pruebas de Estacionariedad\n",
    "from statsmodels.tsa.stattools import adfuller, kpss\n",
    "resultado_adf = { 'variable' : ['variable'],\n",
    "                  'estadistico ADF': 0,\n",
    "                  'p-valor': 0,\n",
    "                  'critico 1%': 0,\n",
    "                  'critico 5%': 0,\n",
    "                  'critico 10%': 0}\n",
    "resultado_adf = pd.DataFrame( data = resultado_adf)\n",
    "resultado_adf\n",
    "\n",
    "resultado_kpss = {'variable' : ['variable'],\n",
    "                  'estadistico KPSS': 0,\n",
    "                  'p-valor': 0,\n",
    "                  'critico 1%': 0,\n",
    "                  'critico 5%': 0,\n",
    "                  'critico 10%': 0}\n",
    "resultado_kpss = pd.DataFrame( data = resultado_kpss)\n",
    "resultado_kpss\n",
    "\n",
    "def estacionariedad(data):\n",
    "# ADF\n",
    "    global resultado_adf\n",
    "    result_adf = adfuller(data[variable].values, autolag='AIC')\n",
    "    resultado1 = { 'variable' : variable\n",
    "                  ,'estadistico ADF':result_adf[0]\n",
    "                  ,'p-valor': result_adf[1]\n",
    "                  ,'critico 1%': result_adf[4]['1%']\n",
    "                  ,'critico 5%': result_adf[4]['5%']\n",
    "                  ,'critico 10%':result_adf[4]['10%']}\n",
    "    \n",
    "    resultado_adf = resultado_adf.append(resultado1, ignore_index=True)\n",
    "# KPSS Test    \n",
    "#    global resultado_kpss\n",
    "#    result_kpss = kpss(data[variable].values, regression='c')\n",
    "#    resultado2 = { 'variable' : variable\n",
    "#                  ,'estadistico KPSS':result_kpss[0]\n",
    "#                  ,'p-valor': result_kpss[1]\n",
    "#                  ,'critico 1%': result_kpss[3]['1%']\n",
    "#                  ,'critico 5%': result_kpss[3]['5%']\n",
    "#                  ,'critico 10%':result_kpss[3]['10%']}\n",
    "    \n",
    "#    resultado_kpss = resultado_kpss.append(resultado2, ignore_index=True)"
   ]
  },
  {
   "cell_type": "code",
   "execution_count": 41,
   "id": "971339e3",
   "metadata": {},
   "outputs": [
    {
     "data": {
      "text/plain": [
       "deuda          0\n",
       "licor          0\n",
       "cerveza        0\n",
       "pollo          0\n",
       "porcino        0\n",
       "              ..\n",
       "activan        0\n",
       "intm           0\n",
       "itdm           0\n",
       "pib_const_c    0\n",
       "pib_const_h    0\n",
       "Length: 80, dtype: int64"
      ]
     },
     "execution_count": 41,
     "metadata": {},
     "output_type": "execute_result"
    }
   ],
   "source": [
    "valores_null = df_1.isnull().sum()\n",
    "valores_null.sort_values() "
   ]
  },
  {
   "cell_type": "code",
   "execution_count": 42,
   "id": "70864ab7",
   "metadata": {},
   "outputs": [
    {
     "name": "stdout",
     "output_type": "stream",
     "text": [
      "       variable  estadistico ADF  p-valor  critico 1%  critico 5%  critico 10%\n",
      "0      variable             0.00     0.00        0.00        0.00         0.00\n",
      "1         deuda             1.54     1.00       -3.51       -2.90        -2.59\n",
      "2           ipc              NaN      NaN       -3.50       -2.89        -2.58\n",
      "3           fob             1.55     1.00       -3.51       -2.90        -2.59\n",
      "4       zl_impm            -2.08     0.25       -3.51       -2.90        -2.58\n",
      "..          ...              ...      ...         ...         ...          ...\n",
      "76  pib_const_j            -1.42     0.57       -3.51       -2.90        -2.59\n",
      "77  pib_const_m            -2.06     0.26       -3.51       -2.90        -2.59\n",
      "78  pib_const_a             0.57     0.99       -3.51       -2.90        -2.59\n",
      "79  pib_const_c             2.57     1.00       -3.51       -2.90        -2.59\n",
      "80  pib_const_h            -1.45     0.56       -3.51       -2.90        -2.59\n",
      "\n",
      "[81 rows x 6 columns]\n"
     ]
    }
   ],
   "source": [
    "for variable in df_1:\n",
    "    estacionariedad(data=df_1)\n",
    "print(resultado_adf)\n",
    "#print(resultado_kpss)"
   ]
  },
  {
   "cell_type": "code",
   "execution_count": 43,
   "id": "425956b4",
   "metadata": {},
   "outputs": [],
   "source": [
    "#resultado_adf[resultado_adf['variable'] == 'deuda']"
   ]
  },
  {
   "cell_type": "code",
   "execution_count": 44,
   "id": "b70eb0cc",
   "metadata": {},
   "outputs": [],
   "source": [
    "#resultado_adf[resultado_adf['p-valor'] > 0.05].sort_values('p-valor')"
   ]
  },
  {
   "cell_type": "code",
   "execution_count": 45,
   "id": "73c6ba40",
   "metadata": {},
   "outputs": [],
   "source": [
    "adf_5 = resultado_adf[resultado_adf['p-valor'] > 0.05]  # variables a diferenciar\n",
    "adf_4 = resultado_adf[resultado_adf['p-valor'] <= 0.05]"
   ]
  },
  {
   "cell_type": "code",
   "execution_count": 46,
   "id": "79ccbee0",
   "metadata": {},
   "outputs": [],
   "source": [
    "df_1log = np.log(df_1+1)\n",
    "#df_1log.head()"
   ]
  },
  {
   "cell_type": "code",
   "execution_count": 47,
   "id": "66195cee",
   "metadata": {},
   "outputs": [],
   "source": [
    "#valores_null = df_1log.isnull().sum()\n",
    "#valores_null.sort_values() "
   ]
  },
  {
   "cell_type": "code",
   "execution_count": 48,
   "id": "55eb5346",
   "metadata": {},
   "outputs": [],
   "source": [
    "#sns.lineplot( x = df_1.index, y = np.log(df_1.loc[:,'ied_empresas']), data = df_1, color = 'y')"
   ]
  },
  {
   "cell_type": "code",
   "execution_count": 49,
   "id": "0a098daa",
   "metadata": {},
   "outputs": [
    {
     "data": {
      "text/html": [
       "<div>\n",
       "<style scoped>\n",
       "    .dataframe tbody tr th:only-of-type {\n",
       "        vertical-align: middle;\n",
       "    }\n",
       "\n",
       "    .dataframe tbody tr th {\n",
       "        vertical-align: top;\n",
       "    }\n",
       "\n",
       "    .dataframe thead th {\n",
       "        text-align: right;\n",
       "    }\n",
       "</style>\n",
       "<table border=\"1\" class=\"dataframe\">\n",
       "  <thead>\n",
       "    <tr style=\"text-align: right;\">\n",
       "      <th></th>\n",
       "      <th>deuda</th>\n",
       "      <th>fob</th>\n",
       "      <th>zl_impm</th>\n",
       "      <th>acp_pm</th>\n",
       "      <th>...</th>\n",
       "      <th>pib_const_m</th>\n",
       "      <th>pib_const_a</th>\n",
       "      <th>pib_const_c</th>\n",
       "      <th>pib_const_h</th>\n",
       "    </tr>\n",
       "    <tr>\n",
       "      <th>mes_ano</th>\n",
       "      <th></th>\n",
       "      <th></th>\n",
       "      <th></th>\n",
       "      <th></th>\n",
       "      <th></th>\n",
       "      <th></th>\n",
       "      <th></th>\n",
       "      <th></th>\n",
       "      <th></th>\n",
       "    </tr>\n",
       "  </thead>\n",
       "  <tbody>\n",
       "    <tr>\n",
       "      <th>2014-02-01</th>\n",
       "      <td>-4.18e-04</td>\n",
       "      <td>7.49e-03</td>\n",
       "      <td>-0.16</td>\n",
       "      <td>-5.44e-02</td>\n",
       "      <td>...</td>\n",
       "      <td>-3.92e-03</td>\n",
       "      <td>0.02</td>\n",
       "      <td>0.02</td>\n",
       "      <td>-1.43e-01</td>\n",
       "    </tr>\n",
       "    <tr>\n",
       "      <th>2014-03-01</th>\n",
       "      <td>3.54e-02</td>\n",
       "      <td>4.16e-02</td>\n",
       "      <td>-0.07</td>\n",
       "      <td>4.39e-02</td>\n",
       "      <td>...</td>\n",
       "      <td>9.32e-02</td>\n",
       "      <td>0.16</td>\n",
       "      <td>0.15</td>\n",
       "      <td>2.20e-02</td>\n",
       "    </tr>\n",
       "    <tr>\n",
       "      <th>2014-04-01</th>\n",
       "      <td>1.48e-02</td>\n",
       "      <td>-2.67e-02</td>\n",
       "      <td>0.34</td>\n",
       "      <td>-2.32e-02</td>\n",
       "      <td>...</td>\n",
       "      <td>-7.91e-02</td>\n",
       "      <td>-0.07</td>\n",
       "      <td>-0.21</td>\n",
       "      <td>-2.26e-01</td>\n",
       "    </tr>\n",
       "    <tr>\n",
       "      <th>2014-05-01</th>\n",
       "      <td>2.28e-03</td>\n",
       "      <td>1.33e-02</td>\n",
       "      <td>-0.16</td>\n",
       "      <td>2.56e-03</td>\n",
       "      <td>...</td>\n",
       "      <td>-5.91e-03</td>\n",
       "      <td>0.01</td>\n",
       "      <td>0.01</td>\n",
       "      <td>-1.54e-01</td>\n",
       "    </tr>\n",
       "    <tr>\n",
       "      <th>2014-06-01</th>\n",
       "      <td>7.59e-03</td>\n",
       "      <td>7.55e-02</td>\n",
       "      <td>0.10</td>\n",
       "      <td>-5.01e-02</td>\n",
       "      <td>...</td>\n",
       "      <td>3.48e-02</td>\n",
       "      <td>0.10</td>\n",
       "      <td>0.10</td>\n",
       "      <td>9.14e-03</td>\n",
       "    </tr>\n",
       "  </tbody>\n",
       "</table>\n",
       "<p>5 rows × 66 columns</p>\n",
       "</div>"
      ],
      "text/plain": [
       "               deuda       fob  zl_impm    acp_pm  ...  pib_const_m  \\\n",
       "mes_ano                                            ...                \n",
       "2014-02-01 -4.18e-04  7.49e-03    -0.16 -5.44e-02  ...    -3.92e-03   \n",
       "2014-03-01  3.54e-02  4.16e-02    -0.07  4.39e-02  ...     9.32e-02   \n",
       "2014-04-01  1.48e-02 -2.67e-02     0.34 -2.32e-02  ...    -7.91e-02   \n",
       "2014-05-01  2.28e-03  1.33e-02    -0.16  2.56e-03  ...    -5.91e-03   \n",
       "2014-06-01  7.59e-03  7.55e-02     0.10 -5.01e-02  ...     3.48e-02   \n",
       "\n",
       "            pib_const_a  pib_const_c  pib_const_h  \n",
       "mes_ano                                            \n",
       "2014-02-01         0.02         0.02    -1.43e-01  \n",
       "2014-03-01         0.16         0.15     2.20e-02  \n",
       "2014-04-01        -0.07        -0.21    -2.26e-01  \n",
       "2014-05-01         0.01         0.01    -1.54e-01  \n",
       "2014-06-01         0.10         0.10     9.14e-03  \n",
       "\n",
       "[5 rows x 66 columns]"
      ]
     },
     "execution_count": 49,
     "metadata": {},
     "output_type": "execute_result"
    }
   ],
   "source": [
    "var_diff = adf_5['variable'].unique()\n",
    "df_1diff = df_1log[var_diff].diff().dropna()\n",
    "df_1diff.head()"
   ]
  },
  {
   "cell_type": "code",
   "execution_count": 50,
   "id": "264db4ba",
   "metadata": {},
   "outputs": [
    {
     "data": {
      "text/html": [
       "<div>\n",
       "<style scoped>\n",
       "    .dataframe tbody tr th:only-of-type {\n",
       "        vertical-align: middle;\n",
       "    }\n",
       "\n",
       "    .dataframe tbody tr th {\n",
       "        vertical-align: top;\n",
       "    }\n",
       "\n",
       "    .dataframe thead th {\n",
       "        text-align: right;\n",
       "    }\n",
       "</style>\n",
       "<table border=\"1\" class=\"dataframe\">\n",
       "  <thead>\n",
       "    <tr style=\"text-align: right;\">\n",
       "      <th></th>\n",
       "      <th>ipc</th>\n",
       "      <th>zl_rexm</th>\n",
       "      <th>diesel</th>\n",
       "      <th>hipotecarios</th>\n",
       "      <th>...</th>\n",
       "      <th>pconst_interior</th>\n",
       "      <th>f_electricidad</th>\n",
       "      <th>sob_consumo</th>\n",
       "      <th>sob_corpo</th>\n",
       "    </tr>\n",
       "    <tr>\n",
       "      <th>mes_ano</th>\n",
       "      <th></th>\n",
       "      <th></th>\n",
       "      <th></th>\n",
       "      <th></th>\n",
       "      <th></th>\n",
       "      <th></th>\n",
       "      <th></th>\n",
       "      <th></th>\n",
       "      <th></th>\n",
       "    </tr>\n",
       "  </thead>\n",
       "  <tbody>\n",
       "    <tr>\n",
       "      <th>2014-01-01</th>\n",
       "      <td>0.69</td>\n",
       "      <td>1.89</td>\n",
       "      <td>1.96</td>\n",
       "      <td>4.23</td>\n",
       "      <td>...</td>\n",
       "      <td>12.97</td>\n",
       "      <td>6.45</td>\n",
       "      <td>0.01</td>\n",
       "      <td>0.00e+00</td>\n",
       "    </tr>\n",
       "    <tr>\n",
       "      <th>2014-02-01</th>\n",
       "      <td>0.69</td>\n",
       "      <td>1.90</td>\n",
       "      <td>1.97</td>\n",
       "      <td>4.24</td>\n",
       "      <td>...</td>\n",
       "      <td>12.91</td>\n",
       "      <td>6.43</td>\n",
       "      <td>0.01</td>\n",
       "      <td>2.90e-03</td>\n",
       "    </tr>\n",
       "    <tr>\n",
       "      <th>2014-03-01</th>\n",
       "      <td>0.69</td>\n",
       "      <td>1.92</td>\n",
       "      <td>1.95</td>\n",
       "      <td>4.24</td>\n",
       "      <td>...</td>\n",
       "      <td>12.78</td>\n",
       "      <td>6.49</td>\n",
       "      <td>0.06</td>\n",
       "      <td>1.48e-02</td>\n",
       "    </tr>\n",
       "    <tr>\n",
       "      <th>2014-04-01</th>\n",
       "      <td>0.69</td>\n",
       "      <td>2.22</td>\n",
       "      <td>2.10</td>\n",
       "      <td>4.25</td>\n",
       "      <td>...</td>\n",
       "      <td>12.69</td>\n",
       "      <td>6.48</td>\n",
       "      <td>0.05</td>\n",
       "      <td>1.96e-02</td>\n",
       "    </tr>\n",
       "    <tr>\n",
       "      <th>2014-05-01</th>\n",
       "      <td>0.69</td>\n",
       "      <td>2.04</td>\n",
       "      <td>2.12</td>\n",
       "      <td>4.26</td>\n",
       "      <td>...</td>\n",
       "      <td>12.57</td>\n",
       "      <td>6.47</td>\n",
       "      <td>0.03</td>\n",
       "      <td>1.26e-02</td>\n",
       "    </tr>\n",
       "  </tbody>\n",
       "</table>\n",
       "<p>5 rows × 14 columns</p>\n",
       "</div>"
      ],
      "text/plain": [
       "             ipc  zl_rexm  diesel  hipotecarios  ...  pconst_interior  \\\n",
       "mes_ano                                          ...                    \n",
       "2014-01-01  0.69     1.89    1.96          4.23  ...            12.97   \n",
       "2014-02-01  0.69     1.90    1.97          4.24  ...            12.91   \n",
       "2014-03-01  0.69     1.92    1.95          4.24  ...            12.78   \n",
       "2014-04-01  0.69     2.22    2.10          4.25  ...            12.69   \n",
       "2014-05-01  0.69     2.04    2.12          4.26  ...            12.57   \n",
       "\n",
       "            f_electricidad  sob_consumo  sob_corpo  \n",
       "mes_ano                                             \n",
       "2014-01-01            6.45         0.01   0.00e+00  \n",
       "2014-02-01            6.43         0.01   2.90e-03  \n",
       "2014-03-01            6.49         0.06   1.48e-02  \n",
       "2014-04-01            6.48         0.05   1.96e-02  \n",
       "2014-05-01            6.47         0.03   1.26e-02  \n",
       "\n",
       "[5 rows x 14 columns]"
      ]
     },
     "execution_count": 50,
     "metadata": {},
     "output_type": "execute_result"
    }
   ],
   "source": [
    "df_1nodiff = df_1log[df_1log.columns[~df_1log.columns.isin(var_diff)]]\n",
    "df_1nodiff.head()"
   ]
  },
  {
   "cell_type": "code",
   "execution_count": 51,
   "id": "f73f3cbd",
   "metadata": {},
   "outputs": [
    {
     "data": {
      "text/html": [
       "<div>\n",
       "<style scoped>\n",
       "    .dataframe tbody tr th:only-of-type {\n",
       "        vertical-align: middle;\n",
       "    }\n",
       "\n",
       "    .dataframe tbody tr th {\n",
       "        vertical-align: top;\n",
       "    }\n",
       "\n",
       "    .dataframe thead th {\n",
       "        text-align: right;\n",
       "    }\n",
       "</style>\n",
       "<table border=\"1\" class=\"dataframe\">\n",
       "  <thead>\n",
       "    <tr style=\"text-align: right;\">\n",
       "      <th></th>\n",
       "      <th>ipc</th>\n",
       "      <th>zl_rexm</th>\n",
       "      <th>diesel</th>\n",
       "      <th>hipotecarios</th>\n",
       "      <th>...</th>\n",
       "      <th>pib_const_m</th>\n",
       "      <th>pib_const_a</th>\n",
       "      <th>pib_const_c</th>\n",
       "      <th>pib_const_h</th>\n",
       "    </tr>\n",
       "    <tr>\n",
       "      <th>mes_ano</th>\n",
       "      <th></th>\n",
       "      <th></th>\n",
       "      <th></th>\n",
       "      <th></th>\n",
       "      <th></th>\n",
       "      <th></th>\n",
       "      <th></th>\n",
       "      <th></th>\n",
       "      <th></th>\n",
       "    </tr>\n",
       "  </thead>\n",
       "  <tbody>\n",
       "    <tr>\n",
       "      <th>2014-02-01</th>\n",
       "      <td>0.69</td>\n",
       "      <td>1.90</td>\n",
       "      <td>1.97</td>\n",
       "      <td>4.24</td>\n",
       "      <td>...</td>\n",
       "      <td>-3.92e-03</td>\n",
       "      <td>0.02</td>\n",
       "      <td>0.02</td>\n",
       "      <td>-1.43e-01</td>\n",
       "    </tr>\n",
       "    <tr>\n",
       "      <th>2014-03-01</th>\n",
       "      <td>0.69</td>\n",
       "      <td>1.92</td>\n",
       "      <td>1.95</td>\n",
       "      <td>4.24</td>\n",
       "      <td>...</td>\n",
       "      <td>9.32e-02</td>\n",
       "      <td>0.16</td>\n",
       "      <td>0.15</td>\n",
       "      <td>2.20e-02</td>\n",
       "    </tr>\n",
       "    <tr>\n",
       "      <th>2014-04-01</th>\n",
       "      <td>0.69</td>\n",
       "      <td>2.22</td>\n",
       "      <td>2.10</td>\n",
       "      <td>4.25</td>\n",
       "      <td>...</td>\n",
       "      <td>-7.91e-02</td>\n",
       "      <td>-0.07</td>\n",
       "      <td>-0.21</td>\n",
       "      <td>-2.26e-01</td>\n",
       "    </tr>\n",
       "    <tr>\n",
       "      <th>2014-05-01</th>\n",
       "      <td>0.69</td>\n",
       "      <td>2.04</td>\n",
       "      <td>2.12</td>\n",
       "      <td>4.26</td>\n",
       "      <td>...</td>\n",
       "      <td>-5.91e-03</td>\n",
       "      <td>0.01</td>\n",
       "      <td>0.01</td>\n",
       "      <td>-1.54e-01</td>\n",
       "    </tr>\n",
       "    <tr>\n",
       "      <th>2014-06-01</th>\n",
       "      <td>0.69</td>\n",
       "      <td>2.18</td>\n",
       "      <td>1.93</td>\n",
       "      <td>4.26</td>\n",
       "      <td>...</td>\n",
       "      <td>3.48e-02</td>\n",
       "      <td>0.10</td>\n",
       "      <td>0.10</td>\n",
       "      <td>9.14e-03</td>\n",
       "    </tr>\n",
       "  </tbody>\n",
       "</table>\n",
       "<p>5 rows × 80 columns</p>\n",
       "</div>"
      ],
      "text/plain": [
       "             ipc  zl_rexm  diesel  hipotecarios  ...  pib_const_m  \\\n",
       "mes_ano                                          ...                \n",
       "2014-02-01  0.69     1.90    1.97          4.24  ...    -3.92e-03   \n",
       "2014-03-01  0.69     1.92    1.95          4.24  ...     9.32e-02   \n",
       "2014-04-01  0.69     2.22    2.10          4.25  ...    -7.91e-02   \n",
       "2014-05-01  0.69     2.04    2.12          4.26  ...    -5.91e-03   \n",
       "2014-06-01  0.69     2.18    1.93          4.26  ...     3.48e-02   \n",
       "\n",
       "            pib_const_a  pib_const_c  pib_const_h  \n",
       "mes_ano                                            \n",
       "2014-02-01         0.02         0.02    -1.43e-01  \n",
       "2014-03-01         0.16         0.15     2.20e-02  \n",
       "2014-04-01        -0.07        -0.21    -2.26e-01  \n",
       "2014-05-01         0.01         0.01    -1.54e-01  \n",
       "2014-06-01         0.10         0.10     9.14e-03  \n",
       "\n",
       "[5 rows x 80 columns]"
      ]
     },
     "execution_count": 51,
     "metadata": {},
     "output_type": "execute_result"
    }
   ],
   "source": [
    "data_modelo = df_1nodiff.merge(df_1diff, how='inner', on='mes_ano')\n",
    "data_modelo.head()"
   ]
  },
  {
   "cell_type": "code",
   "execution_count": 52,
   "id": "d6a92cb3",
   "metadata": {},
   "outputs": [
    {
     "data": {
      "text/plain": [
       "(88, 80)"
      ]
     },
     "execution_count": 52,
     "metadata": {},
     "output_type": "execute_result"
    }
   ],
   "source": [
    "data_modelo.shape"
   ]
  },
  {
   "cell_type": "code",
   "execution_count": 53,
   "id": "882488cc",
   "metadata": {},
   "outputs": [],
   "source": [
    "# viendo el fac de la variable construcción  y consumo la misma debe ser tratada en segunda diferencia\n",
    "data_modelo['construcción'] = data_modelo['construcción'].diff()\n",
    "data_modelo['consumo'] = data_modelo['consumo'].diff()\n",
    "data_modelo['bvpsi'] = data_modelo['bvpsi'].diff()"
   ]
  },
  {
   "cell_type": "code",
   "execution_count": 54,
   "id": "d70750ae",
   "metadata": {},
   "outputs": [
    {
     "data": {
      "text/plain": [
       "(87, 80)"
      ]
     },
     "execution_count": 54,
     "metadata": {},
     "output_type": "execute_result"
    }
   ],
   "source": [
    "data_modelo = data_modelo.dropna()\n",
    "data_modelo.shape"
   ]
  },
  {
   "cell_type": "markdown",
   "id": "c776051f",
   "metadata": {},
   "source": [
    "### Para grafica se debe cambiar el dataframe"
   ]
  },
  {
   "cell_type": "code",
   "execution_count": 67,
   "id": "b81a9275",
   "metadata": {},
   "outputs": [
    {
     "data": {
      "text/plain": [
       "range(0, 93)"
      ]
     },
     "execution_count": 67,
     "metadata": {},
     "output_type": "execute_result"
    }
   ],
   "source": [
    "index = range(df_1.shape[0])\n",
    "index"
   ]
  },
  {
   "cell_type": "code",
   "execution_count": 68,
   "id": "4f0f81e6",
   "metadata": {},
   "outputs": [
    {
     "data": {
      "text/html": [
       "<div>\n",
       "<style scoped>\n",
       "    .dataframe tbody tr th:only-of-type {\n",
       "        vertical-align: middle;\n",
       "    }\n",
       "\n",
       "    .dataframe tbody tr th {\n",
       "        vertical-align: top;\n",
       "    }\n",
       "\n",
       "    .dataframe thead th {\n",
       "        text-align: right;\n",
       "    }\n",
       "</style>\n",
       "<table border=\"1\" class=\"dataframe\">\n",
       "  <thead>\n",
       "    <tr style=\"text-align: right;\">\n",
       "      <th></th>\n",
       "      <th>deuda</th>\n",
       "      <th>ipc</th>\n",
       "      <th>fob</th>\n",
       "      <th>zl_impm</th>\n",
       "      <th>...</th>\n",
       "      <th>pib_const_m</th>\n",
       "      <th>pib_const_a</th>\n",
       "      <th>pib_const_c</th>\n",
       "      <th>pib_const_h</th>\n",
       "    </tr>\n",
       "  </thead>\n",
       "  <tbody>\n",
       "    <tr>\n",
       "      <th>0</th>\n",
       "      <td>108.34</td>\n",
       "      <td>1.0</td>\n",
       "      <td>0.39</td>\n",
       "      <td>5.94</td>\n",
       "      <td>...</td>\n",
       "      <td>27.20</td>\n",
       "      <td>52.15</td>\n",
       "      <td>43.85</td>\n",
       "      <td>101.93</td>\n",
       "    </tr>\n",
       "    <tr>\n",
       "      <th>1</th>\n",
       "      <td>108.29</td>\n",
       "      <td>1.0</td>\n",
       "      <td>0.41</td>\n",
       "      <td>4.94</td>\n",
       "      <td>...</td>\n",
       "      <td>27.09</td>\n",
       "      <td>53.30</td>\n",
       "      <td>44.81</td>\n",
       "      <td>88.21</td>\n",
       "    </tr>\n",
       "    <tr>\n",
       "      <th>2</th>\n",
       "      <td>112.23</td>\n",
       "      <td>1.0</td>\n",
       "      <td>0.47</td>\n",
       "      <td>4.52</td>\n",
       "      <td>...</td>\n",
       "      <td>29.83</td>\n",
       "      <td>62.42</td>\n",
       "      <td>52.48</td>\n",
       "      <td>90.20</td>\n",
       "    </tr>\n",
       "    <tr>\n",
       "      <th>3</th>\n",
       "      <td>113.92</td>\n",
       "      <td>1.0</td>\n",
       "      <td>0.43</td>\n",
       "      <td>6.79</td>\n",
       "      <td>...</td>\n",
       "      <td>27.49</td>\n",
       "      <td>58.38</td>\n",
       "      <td>42.46</td>\n",
       "      <td>71.75</td>\n",
       "    </tr>\n",
       "    <tr>\n",
       "      <th>4</th>\n",
       "      <td>114.19</td>\n",
       "      <td>1.0</td>\n",
       "      <td>0.45</td>\n",
       "      <td>5.66</td>\n",
       "      <td>...</td>\n",
       "      <td>27.32</td>\n",
       "      <td>59.18</td>\n",
       "      <td>43.04</td>\n",
       "      <td>61.37</td>\n",
       "    </tr>\n",
       "    <tr>\n",
       "      <th>...</th>\n",
       "      <td>...</td>\n",
       "      <td>...</td>\n",
       "      <td>...</td>\n",
       "      <td>...</td>\n",
       "      <td>...</td>\n",
       "      <td>...</td>\n",
       "      <td>...</td>\n",
       "      <td>...</td>\n",
       "      <td>...</td>\n",
       "    </tr>\n",
       "    <tr>\n",
       "      <th>88</th>\n",
       "      <td>247.24</td>\n",
       "      <td>1.0</td>\n",
       "      <td>1.02</td>\n",
       "      <td>4.56</td>\n",
       "      <td>...</td>\n",
       "      <td>29.72</td>\n",
       "      <td>73.94</td>\n",
       "      <td>170.38</td>\n",
       "      <td>26.56</td>\n",
       "    </tr>\n",
       "    <tr>\n",
       "      <th>89</th>\n",
       "      <td>255.53</td>\n",
       "      <td>1.0</td>\n",
       "      <td>2.71</td>\n",
       "      <td>4.76</td>\n",
       "      <td>...</td>\n",
       "      <td>30.81</td>\n",
       "      <td>81.98</td>\n",
       "      <td>188.90</td>\n",
       "      <td>26.81</td>\n",
       "    </tr>\n",
       "    <tr>\n",
       "      <th>90</th>\n",
       "      <td>254.12</td>\n",
       "      <td>1.0</td>\n",
       "      <td>1.80</td>\n",
       "      <td>4.67</td>\n",
       "      <td>...</td>\n",
       "      <td>31.50</td>\n",
       "      <td>103.01</td>\n",
       "      <td>293.74</td>\n",
       "      <td>37.44</td>\n",
       "    </tr>\n",
       "    <tr>\n",
       "      <th>91</th>\n",
       "      <td>254.46</td>\n",
       "      <td>1.0</td>\n",
       "      <td>2.06</td>\n",
       "      <td>5.07</td>\n",
       "      <td>...</td>\n",
       "      <td>32.22</td>\n",
       "      <td>99.53</td>\n",
       "      <td>283.83</td>\n",
       "      <td>36.06</td>\n",
       "    </tr>\n",
       "    <tr>\n",
       "      <th>92</th>\n",
       "      <td>256.08</td>\n",
       "      <td>1.0</td>\n",
       "      <td>2.04</td>\n",
       "      <td>5.83</td>\n",
       "      <td>...</td>\n",
       "      <td>31.82</td>\n",
       "      <td>101.34</td>\n",
       "      <td>289.00</td>\n",
       "      <td>30.89</td>\n",
       "    </tr>\n",
       "  </tbody>\n",
       "</table>\n",
       "<p>93 rows × 80 columns</p>\n",
       "</div>"
      ],
      "text/plain": [
       "     deuda  ipc   fob  zl_impm  ...  pib_const_m  pib_const_a  pib_const_c  \\\n",
       "0   108.34  1.0  0.39     5.94  ...        27.20        52.15        43.85   \n",
       "1   108.29  1.0  0.41     4.94  ...        27.09        53.30        44.81   \n",
       "2   112.23  1.0  0.47     4.52  ...        29.83        62.42        52.48   \n",
       "3   113.92  1.0  0.43     6.79  ...        27.49        58.38        42.46   \n",
       "4   114.19  1.0  0.45     5.66  ...        27.32        59.18        43.04   \n",
       "..     ...  ...   ...      ...  ...          ...          ...          ...   \n",
       "88  247.24  1.0  1.02     4.56  ...        29.72        73.94       170.38   \n",
       "89  255.53  1.0  2.71     4.76  ...        30.81        81.98       188.90   \n",
       "90  254.12  1.0  1.80     4.67  ...        31.50       103.01       293.74   \n",
       "91  254.46  1.0  2.06     5.07  ...        32.22        99.53       283.83   \n",
       "92  256.08  1.0  2.04     5.83  ...        31.82       101.34       289.00   \n",
       "\n",
       "    pib_const_h  \n",
       "0        101.93  \n",
       "1         88.21  \n",
       "2         90.20  \n",
       "3         71.75  \n",
       "4         61.37  \n",
       "..          ...  \n",
       "88        26.56  \n",
       "89        26.81  \n",
       "90        37.44  \n",
       "91        36.06  \n",
       "92        30.89  \n",
       "\n",
       "[93 rows x 80 columns]"
      ]
     },
     "execution_count": 68,
     "metadata": {},
     "output_type": "execute_result"
    }
   ],
   "source": [
    "df_2 = df_1.copy()\n",
    "df_2.index = index \n",
    "df_2"
   ]
  },
  {
   "cell_type": "code",
   "execution_count": 69,
   "id": "14ce98c2",
   "metadata": {},
   "outputs": [],
   "source": [
    "#from statsmodels.graphics.tsaplots import plot_acf, plot_pacf\n",
    "#plt.rcParams.update({'figure.figsize':(9,7), 'figure.dpi':120})\n",
    "\n",
    "def fac(data,variable):\n",
    "# Original Series\n",
    "    fig, axes = plt.subplots(3, 2, sharex=True)\n",
    "    axes[0, 0].plot(data[variable]); axes[0, 0].set_title('Original Series')\n",
    "    plot_acf(data[variable], ax=axes[0, 1])\n",
    "\n",
    "# 1st Differencing\n",
    "    axes[1, 0].plot(data[variable].diff()); axes[1, 0].set_title('1st Order Differencing')\n",
    "    plot_acf(data[variable].diff().dropna(), ax=axes[1, 1])\n",
    "\n",
    "# 2nd Differencing\n",
    "    axes[2, 0].plot(data[variable].diff().diff()); axes[2, 0].set_title('2nd Order Differencing')\n",
    "    plot_acf(data[variable].diff().diff().dropna(), ax=axes[2, 1])\n",
    "\n",
    "    plt.show()"
   ]
  },
  {
   "cell_type": "code",
   "execution_count": 70,
   "id": "febd6c1e",
   "metadata": {},
   "outputs": [
    {
     "data": {
      "application/pdf": "[encoded data removed]",
      "image/png": "[encoded data removed]",
      "text/plain": [
       "<Figure size 1200x840 with 6 Axes>"
      ]
     },
     "metadata": {
      "needs_background": "light"
     },
     "output_type": "display_data"
    }
   ],
   "source": [
    "fac(df_2,'bvpsi')"
   ]
  },
  {
   "cell_type": "code",
   "execution_count": null,
   "id": "cf62996b",
   "metadata": {},
   "outputs": [],
   "source": [
    "index = range(df_1.shape[1]+2)\n",
    "df_ipc2 = df_ipc\n",
    "#df_ipc2.columns =['ipc']\n",
    "df_ipc2.index = index \n",
    "df_ipc2"
   ]
  },
  {
   "cell_type": "code",
   "execution_count": null,
   "id": "9f885b3f",
   "metadata": {},
   "outputs": [],
   "source": [
    "fac(df_ipc2,'ipc')"
   ]
  }
 ],
 "metadata": {
  "kernelspec": {
   "display_name": "Python 3",
   "language": "python",
   "name": "python3"
  },
  "language_info": {
   "codemirror_mode": {
    "name": "ipython",
    "version": 3
   },
   "file_extension": ".py",
   "mimetype": "text/x-python",
   "name": "python",
   "nbconvert_exporter": "python",
   "pygments_lexer": "ipython3",
   "version": "3.8.8"
  }
 },
 "nbformat": 4,
 "nbformat_minor": 5
}

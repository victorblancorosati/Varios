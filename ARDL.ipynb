{
 "cells": [
  {
   "cell_type": "code",
   "execution_count": 35,
   "id": "9def83f5",
   "metadata": {},
   "outputs": [],
   "source": [
    "# Modelo ARDL"
   ]
  },
  {
   "cell_type": "code",
   "execution_count": 36,
   "id": "820bc8ac",
   "metadata": {},
   "outputs": [],
   "source": [
    "import numpy as np\n",
    "import pandas as pd\n",
    "import statsmodels.api as sm\n",
    "import seaborn as sns\n",
    "from statsmodels.stats.stattools import durbin_watson\n",
    "from statsmodels.tsa.vector_ar.vecm import coint_johansen\n",
    "\n",
    "import plotly.express as px \n",
    "import matplotlib\n",
    "#%matplotlib inline \n",
    "#assert matplotlib.__version__ == \"3.1.0\""
   ]
  },
  {
   "cell_type": "code",
   "execution_count": 37,
   "id": "1a2d330e",
   "metadata": {},
   "outputs": [
    {
     "data": {
      "text/plain": [
       "Index(['zl_rexm', 'diesel', 'hipotecarios', 'consumo', 'itm', 'zl_mtm',\n",
       "       'entrada', 'pollo', 'licor', 'pconst_interior', 'f_electricidad',\n",
       "       'deuda', 'fob', 'zl_impm', 'acp_pm', 'gastotur', 'ibm', 'iim', 'banano',\n",
       "       'gasolina', 'itmbs', 'apuestas', 'depósitos', 'préstamos', 'comercio',\n",
       "       'construcción', 'itdm', 'intm', 'activan', 'pasivan', 'dp_pib',\n",
       "       'pib_corr', 'ingresos_ind', 'ingresos_cmayor', 'ingresos_cmenor',\n",
       "       'ingresos_hot', 'ingresos_serv', 'ingresos_tot', 'rem_ind',\n",
       "       'rem_cmayor', 'rem_cmenor', 'rem_hot', 'rem_serv', 'rem_tot', 'ied',\n",
       "       'ied_empresas', 'ied_bancos', 'imae', 'imae_s', 'bvpsi', 'acp_tbm',\n",
       "       'acp_tnm', 'mcp', 'visitas', 'vacuno', 'porcino', 'cerveza', 'pconst',\n",
       "       'pconst_cdad', 'concreto', 'cemento', 'autos', 'g_electricidad',\n",
       "       'primas', 'activar', 'pasivar', 'pib_cons', 'pib_const_d',\n",
       "       'pib_const_e', 'pib_const_f', 'pib_const_g', 'pib_const_i',\n",
       "       'pib_const_j', 'pib_const_m', 'pib_const_a', 'pib_const_c',\n",
       "       'pib_const_h'],\n",
       "      dtype='object')"
      ]
     },
     "execution_count": 37,
     "metadata": {},
     "output_type": "execute_result"
    }
   ],
   "source": [
    "data = pd.read_csv('data1.csv', delimiter=',', index_col=0 ,parse_dates=True, decimal='.')\n",
    "data.columns\n"
   ]
  },
  {
   "cell_type": "markdown",
   "id": "372d1263",
   "metadata": {},
   "source": [
    "## Modelaje sin pandemia"
   ]
  },
  {
   "cell_type": "code",
   "execution_count": 38,
   "id": "8ed843ef",
   "metadata": {},
   "outputs": [
    {
     "data": {
      "text/html": [
       "<div>\n",
       "<style scoped>\n",
       "    .dataframe tbody tr th:only-of-type {\n",
       "        vertical-align: middle;\n",
       "    }\n",
       "\n",
       "    .dataframe tbody tr th {\n",
       "        vertical-align: top;\n",
       "    }\n",
       "\n",
       "    .dataframe thead th {\n",
       "        text-align: right;\n",
       "    }\n",
       "</style>\n",
       "<table border=\"1\" class=\"dataframe\">\n",
       "  <thead>\n",
       "    <tr style=\"text-align: right;\">\n",
       "      <th></th>\n",
       "      <th>zl_rexm</th>\n",
       "      <th>diesel</th>\n",
       "      <th>hipotecarios</th>\n",
       "      <th>consumo</th>\n",
       "      <th>itm</th>\n",
       "      <th>zl_mtm</th>\n",
       "      <th>entrada</th>\n",
       "      <th>pollo</th>\n",
       "      <th>licor</th>\n",
       "      <th>pconst_interior</th>\n",
       "      <th>...</th>\n",
       "      <th>pib_const_d</th>\n",
       "      <th>pib_const_e</th>\n",
       "      <th>pib_const_f</th>\n",
       "      <th>pib_const_g</th>\n",
       "      <th>pib_const_i</th>\n",
       "      <th>pib_const_j</th>\n",
       "      <th>pib_const_m</th>\n",
       "      <th>pib_const_a</th>\n",
       "      <th>pib_const_c</th>\n",
       "      <th>pib_const_h</th>\n",
       "    </tr>\n",
       "    <tr>\n",
       "      <th>mes_ano</th>\n",
       "      <th></th>\n",
       "      <th></th>\n",
       "      <th></th>\n",
       "      <th></th>\n",
       "      <th></th>\n",
       "      <th></th>\n",
       "      <th></th>\n",
       "      <th></th>\n",
       "      <th></th>\n",
       "      <th></th>\n",
       "      <th></th>\n",
       "      <th></th>\n",
       "      <th></th>\n",
       "      <th></th>\n",
       "      <th></th>\n",
       "      <th></th>\n",
       "      <th></th>\n",
       "      <th></th>\n",
       "      <th></th>\n",
       "      <th></th>\n",
       "      <th></th>\n",
       "    </tr>\n",
       "  </thead>\n",
       "  <tbody>\n",
       "    <tr>\n",
       "      <th>2019-11-01</th>\n",
       "      <td>1.908437</td>\n",
       "      <td>1.687143</td>\n",
       "      <td>4.752651</td>\n",
       "      <td>0.010207</td>\n",
       "      <td>1.159008</td>\n",
       "      <td>7.311686</td>\n",
       "      <td>6.489205</td>\n",
       "      <td>9.572689</td>\n",
       "      <td>6.970730</td>\n",
       "      <td>10.462217</td>\n",
       "      <td>...</td>\n",
       "      <td>-0.038362</td>\n",
       "      <td>-0.038325</td>\n",
       "      <td>-0.038501</td>\n",
       "      <td>-0.038514</td>\n",
       "      <td>-0.038501</td>\n",
       "      <td>-0.038435</td>\n",
       "      <td>-0.037599</td>\n",
       "      <td>-0.221838</td>\n",
       "      <td>-0.223200</td>\n",
       "      <td>0.041685</td>\n",
       "    </tr>\n",
       "    <tr>\n",
       "      <th>2019-12-01</th>\n",
       "      <td>1.799792</td>\n",
       "      <td>1.713972</td>\n",
       "      <td>4.753268</td>\n",
       "      <td>-0.002305</td>\n",
       "      <td>1.663804</td>\n",
       "      <td>7.238138</td>\n",
       "      <td>6.616065</td>\n",
       "      <td>9.679531</td>\n",
       "      <td>7.020459</td>\n",
       "      <td>10.672067</td>\n",
       "      <td>...</td>\n",
       "      <td>0.006835</td>\n",
       "      <td>0.006828</td>\n",
       "      <td>0.006860</td>\n",
       "      <td>0.006862</td>\n",
       "      <td>0.006860</td>\n",
       "      <td>0.006848</td>\n",
       "      <td>0.006697</td>\n",
       "      <td>0.601842</td>\n",
       "      <td>0.604935</td>\n",
       "      <td>0.233267</td>\n",
       "    </tr>\n",
       "    <tr>\n",
       "      <th>2020-01-01</th>\n",
       "      <td>1.703459</td>\n",
       "      <td>1.710006</td>\n",
       "      <td>4.756502</td>\n",
       "      <td>0.000374</td>\n",
       "      <td>1.270463</td>\n",
       "      <td>7.197585</td>\n",
       "      <td>6.634633</td>\n",
       "      <td>9.607572</td>\n",
       "      <td>7.098376</td>\n",
       "      <td>11.497599</td>\n",
       "      <td>...</td>\n",
       "      <td>-0.056213</td>\n",
       "      <td>-0.033656</td>\n",
       "      <td>0.008925</td>\n",
       "      <td>-0.100001</td>\n",
       "      <td>-0.064076</td>\n",
       "      <td>-0.101889</td>\n",
       "      <td>0.102986</td>\n",
       "      <td>-0.607858</td>\n",
       "      <td>-0.338087</td>\n",
       "      <td>-0.004906</td>\n",
       "    </tr>\n",
       "    <tr>\n",
       "      <th>2020-02-01</th>\n",
       "      <td>1.679609</td>\n",
       "      <td>1.730987</td>\n",
       "      <td>4.760495</td>\n",
       "      <td>0.005924</td>\n",
       "      <td>1.235554</td>\n",
       "      <td>7.091243</td>\n",
       "      <td>5.857933</td>\n",
       "      <td>9.597234</td>\n",
       "      <td>6.945051</td>\n",
       "      <td>10.451436</td>\n",
       "      <td>...</td>\n",
       "      <td>-0.004039</td>\n",
       "      <td>-0.004035</td>\n",
       "      <td>-0.004055</td>\n",
       "      <td>-0.004056</td>\n",
       "      <td>-0.004055</td>\n",
       "      <td>-0.004046</td>\n",
       "      <td>-0.003969</td>\n",
       "      <td>0.021292</td>\n",
       "      <td>0.021491</td>\n",
       "      <td>-0.143011</td>\n",
       "    </tr>\n",
       "    <tr>\n",
       "      <th>2020-03-01</th>\n",
       "      <td>1.659341</td>\n",
       "      <td>1.617844</td>\n",
       "      <td>4.768669</td>\n",
       "      <td>0.005476</td>\n",
       "      <td>1.172844</td>\n",
       "      <td>6.971856</td>\n",
       "      <td>5.880533</td>\n",
       "      <td>9.626745</td>\n",
       "      <td>6.823286</td>\n",
       "      <td>10.646710</td>\n",
       "      <td>...</td>\n",
       "      <td>0.095921</td>\n",
       "      <td>0.095840</td>\n",
       "      <td>0.096288</td>\n",
       "      <td>0.096305</td>\n",
       "      <td>0.096277</td>\n",
       "      <td>0.096092</td>\n",
       "      <td>0.094332</td>\n",
       "      <td>0.155511</td>\n",
       "      <td>0.156843</td>\n",
       "      <td>0.021967</td>\n",
       "    </tr>\n",
       "  </tbody>\n",
       "</table>\n",
       "<p>5 rows × 77 columns</p>\n",
       "</div>"
      ],
      "text/plain": [
       "             zl_rexm    diesel  hipotecarios   consumo       itm    zl_mtm  \\\n",
       "mes_ano                                                                      \n",
       "2019-11-01  1.908437  1.687143      4.752651  0.010207  1.159008  7.311686   \n",
       "2019-12-01  1.799792  1.713972      4.753268 -0.002305  1.663804  7.238138   \n",
       "2020-01-01  1.703459  1.710006      4.756502  0.000374  1.270463  7.197585   \n",
       "2020-02-01  1.679609  1.730987      4.760495  0.005924  1.235554  7.091243   \n",
       "2020-03-01  1.659341  1.617844      4.768669  0.005476  1.172844  6.971856   \n",
       "\n",
       "             entrada     pollo     licor  pconst_interior  ...  pib_const_d  \\\n",
       "mes_ano                                                    ...                \n",
       "2019-11-01  6.489205  9.572689  6.970730        10.462217  ...    -0.038362   \n",
       "2019-12-01  6.616065  9.679531  7.020459        10.672067  ...     0.006835   \n",
       "2020-01-01  6.634633  9.607572  7.098376        11.497599  ...    -0.056213   \n",
       "2020-02-01  5.857933  9.597234  6.945051        10.451436  ...    -0.004039   \n",
       "2020-03-01  5.880533  9.626745  6.823286        10.646710  ...     0.095921   \n",
       "\n",
       "            pib_const_e  pib_const_f  pib_const_g  pib_const_i  pib_const_j  \\\n",
       "mes_ano                                                                       \n",
       "2019-11-01    -0.038325    -0.038501    -0.038514    -0.038501    -0.038435   \n",
       "2019-12-01     0.006828     0.006860     0.006862     0.006860     0.006848   \n",
       "2020-01-01    -0.033656     0.008925    -0.100001    -0.064076    -0.101889   \n",
       "2020-02-01    -0.004035    -0.004055    -0.004056    -0.004055    -0.004046   \n",
       "2020-03-01     0.095840     0.096288     0.096305     0.096277     0.096092   \n",
       "\n",
       "            pib_const_m  pib_const_a  pib_const_c  pib_const_h  \n",
       "mes_ano                                                         \n",
       "2019-11-01    -0.037599    -0.221838    -0.223200     0.041685  \n",
       "2019-12-01     0.006697     0.601842     0.604935     0.233267  \n",
       "2020-01-01     0.102986    -0.607858    -0.338087    -0.004906  \n",
       "2020-02-01    -0.003969     0.021292     0.021491    -0.143011  \n",
       "2020-03-01     0.094332     0.155511     0.156843     0.021967  \n",
       "\n",
       "[5 rows x 77 columns]"
      ]
     },
     "execution_count": 38,
     "metadata": {},
     "output_type": "execute_result"
    }
   ],
   "source": [
    "data11 = data['2014-02-01':'2020-03-01']\n",
    "data11.tail()"
   ]
  },
  {
   "cell_type": "code",
   "execution_count": 39,
   "id": "271d42f8",
   "metadata": {},
   "outputs": [],
   "source": [
    "def cointegration_test(df, alpha=0.05): \n",
    "    \"\"\"Perform Johanson's Cointegration Test and Report Summary\"\"\"\n",
    "    out = coint_johansen(df,-1,5)\n",
    "    d = {'0.90':0, '0.95':1, '0.99':2}\n",
    "    traces = out.lr1\n",
    "    cvts = out.cvt[:, d[str(1-alpha)]]\n",
    "    def adjust(val, length= 6): return str(val).ljust(length)\n",
    "\n",
    "    # Summary\n",
    "    print('Name   ::  Test Stat > C(95%)    =>   Signif  \\n', '--'*20)\n",
    "    for col, trace, cvt in zip(df.columns, traces, cvts):\n",
    "        print(adjust(col), ':: ', adjust(round(trace,2), 9), \">\", adjust(cvt, 8), ' =>  ' , trace > cvt)"
   ]
  },
  {
   "cell_type": "code",
   "execution_count": 40,
   "id": "e87e0c11",
   "metadata": {},
   "outputs": [],
   "source": [
    "#cointegration_test(data11)"
   ]
  },
  {
   "cell_type": "code",
   "execution_count": 41,
   "id": "074afe37",
   "metadata": {},
   "outputs": [],
   "source": [
    "#pip install statsmodels\n",
    "from statsmodels.tsa.api import ARDL\n",
    "from statsmodels.tsa.ardl import ardl_select_order"
   ]
  },
  {
   "cell_type": "code",
   "execution_count": 42,
   "id": "584bc1a5",
   "metadata": {},
   "outputs": [],
   "source": [
    "# Muchas variables se decide buscar el mejor lag por subconjunto"
   ]
  },
  {
   "cell_type": "code",
   "execution_count": 43,
   "id": "be2e63a9",
   "metadata": {},
   "outputs": [],
   "source": [
    " from sklearn.model_selection import train_test_split\n",
    "# Método de la exclusión\n",
    " X_train, X_test, y_train, y_test = train_test_split(data11, \n",
    "                                                    data11.activar,\n",
    "                                                    random_state=0)"
   ]
  },
  {
   "cell_type": "code",
   "execution_count": 44,
   "id": "d805adf8",
   "metadata": {},
   "outputs": [
    {
     "data": {
      "text/plain": [
       "RFE(estimator=RandomForestRegressor(random_state=42), n_features_to_select=10)"
      ]
     },
     "execution_count": 44,
     "metadata": {},
     "output_type": "execute_result"
    }
   ],
   "source": [
    "# Recursive Feature Elimination (RFE)\n",
    "from sklearn.feature_selection import RFE\n",
    "from sklearn.ensemble import RandomForestRegressor\n",
    "\n",
    "select = RFE(RandomForestRegressor(random_state=42), \n",
    "             n_features_to_select=10)\n",
    "select.fit(X_train,y_train)"
   ]
  },
  {
   "cell_type": "code",
   "execution_count": 45,
   "id": "4ad11eea",
   "metadata": {},
   "outputs": [
    {
     "data": {
      "text/html": [
       "<div>\n",
       "<style scoped>\n",
       "    .dataframe tbody tr th:only-of-type {\n",
       "        vertical-align: middle;\n",
       "    }\n",
       "\n",
       "    .dataframe tbody tr th {\n",
       "        vertical-align: top;\n",
       "    }\n",
       "\n",
       "    .dataframe thead th {\n",
       "        text-align: right;\n",
       "    }\n",
       "</style>\n",
       "<table border=\"1\" class=\"dataframe\">\n",
       "  <thead>\n",
       "    <tr style=\"text-align: right;\">\n",
       "      <th></th>\n",
       "      <th>variable</th>\n",
       "      <th>decision</th>\n",
       "    </tr>\n",
       "  </thead>\n",
       "  <tbody>\n",
       "    <tr>\n",
       "      <th>7</th>\n",
       "      <td>pollo</td>\n",
       "      <td>True</td>\n",
       "    </tr>\n",
       "    <tr>\n",
       "      <th>9</th>\n",
       "      <td>pconst_interior</td>\n",
       "      <td>True</td>\n",
       "    </tr>\n",
       "    <tr>\n",
       "      <th>13</th>\n",
       "      <td>zl_impm</td>\n",
       "      <td>True</td>\n",
       "    </tr>\n",
       "    <tr>\n",
       "      <th>25</th>\n",
       "      <td>construcción</td>\n",
       "      <td>True</td>\n",
       "    </tr>\n",
       "    <tr>\n",
       "      <th>27</th>\n",
       "      <td>intm</td>\n",
       "      <td>True</td>\n",
       "    </tr>\n",
       "    <tr>\n",
       "      <th>49</th>\n",
       "      <td>bvpsi</td>\n",
       "      <td>True</td>\n",
       "    </tr>\n",
       "    <tr>\n",
       "      <th>54</th>\n",
       "      <td>vacuno</td>\n",
       "      <td>True</td>\n",
       "    </tr>\n",
       "    <tr>\n",
       "      <th>62</th>\n",
       "      <td>g_electricidad</td>\n",
       "      <td>True</td>\n",
       "    </tr>\n",
       "    <tr>\n",
       "      <th>64</th>\n",
       "      <td>activar</td>\n",
       "      <td>True</td>\n",
       "    </tr>\n",
       "    <tr>\n",
       "      <th>65</th>\n",
       "      <td>pasivar</td>\n",
       "      <td>True</td>\n",
       "    </tr>\n",
       "  </tbody>\n",
       "</table>\n",
       "</div>"
      ],
      "text/plain": [
       "           variable  decision\n",
       "7             pollo      True\n",
       "9   pconst_interior      True\n",
       "13          zl_impm      True\n",
       "25     construcción      True\n",
       "27             intm      True\n",
       "49            bvpsi      True\n",
       "54           vacuno      True\n",
       "62   g_electricidad      True\n",
       "64          activar      True\n",
       "65          pasivar      True"
      ]
     },
     "execution_count": 45,
     "metadata": {},
     "output_type": "execute_result"
    }
   ],
   "source": [
    "d = { 'variable':data11.columns,'decision':select.support_}\n",
    "select_RFE = pd.DataFrame(data =d)\n",
    "select_RFE.head()\n",
    "seleccionadas = select_RFE[select_RFE['decision']==True]\n",
    "seleccionadas"
   ]
  },
  {
   "cell_type": "code",
   "execution_count": 46,
   "id": "e5312ba5",
   "metadata": {},
   "outputs": [],
   "source": [
    "seleccionadas = ['pollo','pconst_interior','zl_impm','construcción','intm','bvpsi','vacuno',\n",
    "                 'g_electricidad','activar','pasivar']\n",
    "data2 = data11[seleccionadas]"
   ]
  },
  {
   "cell_type": "code",
   "execution_count": 49,
   "id": "f39f6c81",
   "metadata": {},
   "outputs": [
    {
     "name": "stderr",
     "output_type": "stream",
     "text": [
      "C:\\Users\\vblanco\\Anaconda3\\lib\\site-packages\\statsmodels\\tsa\\base\\tsa_model.py:536: ValueWarning: No frequency information was provided, so inferred frequency MS will be used.\n",
      "  warnings.warn('No frequency information was'\n",
      "C:\\Users\\vblanco\\Anaconda3\\lib\\site-packages\\statsmodels\\tsa\\base\\tsa_model.py:536: ValueWarning: No frequency information was provided, so inferred frequency MS will be used.\n",
      "  warnings.warn('No frequency information was'\n"
     ]
    },
    {
     "data": {
      "text/plain": [
       "{'pollo': [0, 1, 2], 'pconst_interior': [0, 1, 2], 'zl_impm': [0, 1, 2, 3, 4]}"
      ]
     },
     "execution_count": 49,
     "metadata": {},
     "output_type": "execute_result"
    }
   ],
   "source": [
    "sel_res = ardl_select_order(\n",
    "    data2.activar,6, data2[['pollo','pconst_interior','zl_impm','construcción']], 6, ic=\"aic\", trend=\"c\"\n",
    ")\n",
    "sel_res.dl_lags"
   ]
  },
  {
   "cell_type": "code",
   "execution_count": 51,
   "id": "70b787cd",
   "metadata": {},
   "outputs": [
    {
     "name": "stderr",
     "output_type": "stream",
     "text": [
      "C:\\Users\\vblanco\\Anaconda3\\lib\\site-packages\\statsmodels\\tsa\\base\\tsa_model.py:536: ValueWarning: No frequency information was provided, so inferred frequency MS will be used.\n",
      "  warnings.warn('No frequency information was'\n",
      "C:\\Users\\vblanco\\Anaconda3\\lib\\site-packages\\statsmodels\\tsa\\base\\tsa_model.py:536: ValueWarning: No frequency information was provided, so inferred frequency MS will be used.\n",
      "  warnings.warn('No frequency information was'\n"
     ]
    },
    {
     "data": {
      "text/plain": [
       "{'vacuno': [0], 'g_electricidad': [0, 1], 'pasivar': [0, 1, 2, 3, 4]}"
      ]
     },
     "execution_count": 51,
     "metadata": {},
     "output_type": "execute_result"
    }
   ],
   "source": [
    "sel_res = ardl_select_order(\n",
    "    data2.activar,6, data2[['intm','bvpsi','vacuno', 'g_electricidad','pasivar']], 6, ic=\"aic\", trend=\"c\"\n",
    ")\n",
    "sel_res.dl_lags"
   ]
  },
  {
   "cell_type": "code",
   "execution_count": 57,
   "id": "588ffe96",
   "metadata": {},
   "outputs": [
    {
     "name": "stdout",
     "output_type": "stream",
     "text": [
      "El valor de DW =  2.2024629101232835\n",
      "Test de Heterocedasticidad       ARCH-LM   P-value  DF\n",
      "Lag                        \n",
      "1    0.386783  0.533995   1\n",
      "2    2.550605  0.279346   2\n",
      "3    2.702703  0.439768   3\n",
      "4    3.032409  0.552417   4\n",
      "5    3.987872  0.551163   5\n",
      "6    4.245136  0.643541   6\n",
      "7    7.552726  0.373679   7\n",
      "8    8.467150  0.389216   8\n",
      "9    9.071176  0.430730   9\n",
      "10   9.657196  0.471066  10\n",
      "Test de Normalidad Jarque-Bera    1.050503\n",
      "P-value        0.591407\n",
      "Skewness       0.300639\n",
      "Kurtosis       2.937903\n",
      "dtype: float64\n"
     ]
    },
    {
     "name": "stderr",
     "output_type": "stream",
     "text": [
      "C:\\Users\\vblanco\\Anaconda3\\lib\\site-packages\\statsmodels\\tsa\\base\\tsa_model.py:536: ValueWarning:\n",
      "\n",
      "No frequency information was provided, so inferred frequency MS will be used.\n",
      "\n"
     ]
    }
   ],
   "source": [
    "modelo = ARDL(\n",
    "    data2.activar, 2,\n",
    "    data2[['pollo', 'pconst_interior', 'zl_impm', 'vacuno', 'g_electricidad','pasivar']],\n",
    "            {'pollo':2, 'pconst_interior':2, 'zl_impm':4, 'vacuno':0, 'g_electricidad':1,'pasivar':4},\n",
    "    trend=\"c\",\n",
    "    seasonal=True,\n",
    "    period= 12\n",
    ").fit()\n",
    "heterocedasticidad = modelo.test_heteroskedasticity()\n",
    "normalidad = modelo.test_normality()\n",
    "dw = durbin_watson(modelo.resid)\n",
    "print('El valor de DW = ', dw)\n",
    "print('Test de Heterocedasticidad',heterocedasticidad)\n",
    "print('Test de Normalidad',normalidad)"
   ]
  },
  {
   "cell_type": "code",
   "execution_count": 58,
   "id": "05df3568",
   "metadata": {},
   "outputs": [
    {
     "data": {
      "text/html": [
       "<table class=\"simpletable\">\n",
       "<caption>ARDL Model Results</caption>\n",
       "<tr>\n",
       "  <th>Dep. Variable:</th>             <td>activar</td>             <th>  No. Observations:  </th>    <td>73</td>   \n",
       "</tr>\n",
       "<tr>\n",
       "  <th>Model:</th>         <td>Seas. ARDL(2, 2, 2, 4, 0, 1, 4)</td> <th>  Log Likelihood     </th>  <td>308.274</td>\n",
       "</tr>\n",
       "<tr>\n",
       "  <th>Method:</th>                <td>Conditional MLE</td>         <th>  S.D. of innovations</th>   <td>0.003</td> \n",
       "</tr>\n",
       "<tr>\n",
       "  <th>Date:</th>                 <td>Fri, 22 Apr 2022</td>         <th>  AIC                </th> <td>-548.547</td>\n",
       "</tr>\n",
       "<tr>\n",
       "  <th>Time:</th>                     <td>15:34:34</td>             <th>  BIC                </th> <td>-471.616</td>\n",
       "</tr>\n",
       "<tr>\n",
       "  <th>Sample:</th>                  <td>07-01-2014</td>            <th>  HQIC               </th> <td>-517.954</td>\n",
       "</tr>\n",
       "<tr>\n",
       "  <th></th>                        <td>- 03-01-2020</td>           <th>                     </th>     <td> </td>   \n",
       "</tr>\n",
       "</table>\n",
       "<table class=\"simpletable\">\n",
       "<tr>\n",
       "           <td></td>             <th>coef</th>     <th>std err</th>      <th>z</th>      <th>P>|z|</th>  <th>[0.025</th>    <th>0.975]</th>  \n",
       "</tr>\n",
       "<tr>\n",
       "  <th>const</th>              <td>   -0.0017</td> <td>    0.027</td> <td>   -0.064</td> <td> 0.950</td> <td>   -0.057</td> <td>    0.054</td>\n",
       "</tr>\n",
       "<tr>\n",
       "  <th>s(2,12)</th>            <td>    0.0021</td> <td>    0.006</td> <td>    0.340</td> <td> 0.736</td> <td>   -0.010</td> <td>    0.015</td>\n",
       "</tr>\n",
       "<tr>\n",
       "  <th>s(3,12)</th>            <td>    0.0067</td> <td>    0.005</td> <td>    1.467</td> <td> 0.151</td> <td>   -0.003</td> <td>    0.016</td>\n",
       "</tr>\n",
       "<tr>\n",
       "  <th>s(4,12)</th>            <td>    0.0011</td> <td>    0.005</td> <td>    0.234</td> <td> 0.817</td> <td>   -0.009</td> <td>    0.011</td>\n",
       "</tr>\n",
       "<tr>\n",
       "  <th>s(5,12)</th>            <td>    0.0066</td> <td>    0.004</td> <td>    1.517</td> <td> 0.138</td> <td>   -0.002</td> <td>    0.015</td>\n",
       "</tr>\n",
       "<tr>\n",
       "  <th>s(6,12)</th>            <td>    0.0021</td> <td>    0.004</td> <td>    0.499</td> <td> 0.621</td> <td>   -0.006</td> <td>    0.011</td>\n",
       "</tr>\n",
       "<tr>\n",
       "  <th>s(7,12)</th>            <td>    0.0063</td> <td>    0.005</td> <td>    1.286</td> <td> 0.206</td> <td>   -0.004</td> <td>    0.016</td>\n",
       "</tr>\n",
       "<tr>\n",
       "  <th>s(8,12)</th>            <td>    0.0001</td> <td>    0.004</td> <td>    0.033</td> <td> 0.973</td> <td>   -0.007</td> <td>    0.008</td>\n",
       "</tr>\n",
       "<tr>\n",
       "  <th>s(9,12)</th>            <td>    0.0015</td> <td>    0.005</td> <td>    0.281</td> <td> 0.780</td> <td>   -0.009</td> <td>    0.012</td>\n",
       "</tr>\n",
       "<tr>\n",
       "  <th>s(10,12)</th>           <td>    0.0061</td> <td>    0.004</td> <td>    1.613</td> <td> 0.115</td> <td>   -0.002</td> <td>    0.014</td>\n",
       "</tr>\n",
       "<tr>\n",
       "  <th>s(11,12)</th>           <td>    0.0035</td> <td>    0.005</td> <td>    0.685</td> <td> 0.497</td> <td>   -0.007</td> <td>    0.014</td>\n",
       "</tr>\n",
       "<tr>\n",
       "  <th>s(12,12)</th>           <td>    0.0076</td> <td>    0.006</td> <td>    1.252</td> <td> 0.218</td> <td>   -0.005</td> <td>    0.020</td>\n",
       "</tr>\n",
       "<tr>\n",
       "  <th>activar.L1</th>         <td>   -0.0952</td> <td>    0.168</td> <td>   -0.566</td> <td> 0.574</td> <td>   -0.435</td> <td>    0.245</td>\n",
       "</tr>\n",
       "<tr>\n",
       "  <th>activar.L2</th>         <td>   -0.1863</td> <td>    0.146</td> <td>   -1.272</td> <td> 0.211</td> <td>   -0.483</td> <td>    0.110</td>\n",
       "</tr>\n",
       "<tr>\n",
       "  <th>pollo.L0</th>           <td>    0.0005</td> <td>    0.001</td> <td>    0.801</td> <td> 0.428</td> <td>   -0.001</td> <td>    0.002</td>\n",
       "</tr>\n",
       "<tr>\n",
       "  <th>pollo.L1</th>           <td>   -0.0008</td> <td>    0.001</td> <td>   -1.210</td> <td> 0.234</td> <td>   -0.002</td> <td>    0.001</td>\n",
       "</tr>\n",
       "<tr>\n",
       "  <th>pollo.L2</th>           <td>    0.0008</td> <td>    0.001</td> <td>    1.064</td> <td> 0.294</td> <td>   -0.001</td> <td>    0.002</td>\n",
       "</tr>\n",
       "<tr>\n",
       "  <th>pconst_interior.L0</th> <td>   -0.0006</td> <td>    0.002</td> <td>   -0.326</td> <td> 0.746</td> <td>   -0.004</td> <td>    0.003</td>\n",
       "</tr>\n",
       "<tr>\n",
       "  <th>pconst_interior.L1</th> <td>   -0.0034</td> <td>    0.002</td> <td>   -1.933</td> <td> 0.061</td> <td>   -0.007</td> <td>    0.000</td>\n",
       "</tr>\n",
       "<tr>\n",
       "  <th>pconst_interior.L2</th> <td>    0.0035</td> <td>    0.002</td> <td>    2.126</td> <td> 0.040</td> <td>    0.000</td> <td>    0.007</td>\n",
       "</tr>\n",
       "<tr>\n",
       "  <th>zl_impm.L0</th>         <td>   -0.0090</td> <td>    0.006</td> <td>   -1.415</td> <td> 0.165</td> <td>   -0.022</td> <td>    0.004</td>\n",
       "</tr>\n",
       "<tr>\n",
       "  <th>zl_impm.L1</th>         <td>    0.0165</td> <td>    0.008</td> <td>    2.070</td> <td> 0.045</td> <td>    0.000</td> <td>    0.033</td>\n",
       "</tr>\n",
       "<tr>\n",
       "  <th>zl_impm.L2</th>         <td>    0.0059</td> <td>    0.010</td> <td>    0.575</td> <td> 0.568</td> <td>   -0.015</td> <td>    0.027</td>\n",
       "</tr>\n",
       "<tr>\n",
       "  <th>zl_impm.L3</th>         <td>    0.0138</td> <td>    0.009</td> <td>    1.495</td> <td> 0.143</td> <td>   -0.005</td> <td>    0.032</td>\n",
       "</tr>\n",
       "<tr>\n",
       "  <th>zl_impm.L4</th>         <td>   -0.0128</td> <td>    0.008</td> <td>   -1.641</td> <td> 0.109</td> <td>   -0.029</td> <td>    0.003</td>\n",
       "</tr>\n",
       "<tr>\n",
       "  <th>vacuno.L0</th>          <td>    0.0132</td> <td>    0.013</td> <td>    1.034</td> <td> 0.307</td> <td>   -0.013</td> <td>    0.039</td>\n",
       "</tr>\n",
       "<tr>\n",
       "  <th>g_electricidad.L0</th>  <td>   -0.0148</td> <td>    0.027</td> <td>   -0.543</td> <td> 0.591</td> <td>   -0.070</td> <td>    0.040</td>\n",
       "</tr>\n",
       "<tr>\n",
       "  <th>g_electricidad.L1</th>  <td>   -0.0142</td> <td>    0.035</td> <td>   -0.411</td> <td> 0.683</td> <td>   -0.084</td> <td>    0.056</td>\n",
       "</tr>\n",
       "<tr>\n",
       "  <th>pasivar.L0</th>         <td>    0.4345</td> <td>    0.115</td> <td>    3.788</td> <td> 0.001</td> <td>    0.202</td> <td>    0.667</td>\n",
       "</tr>\n",
       "<tr>\n",
       "  <th>pasivar.L1</th>         <td>    0.3198</td> <td>    0.146</td> <td>    2.192</td> <td> 0.035</td> <td>    0.024</td> <td>    0.615</td>\n",
       "</tr>\n",
       "<tr>\n",
       "  <th>pasivar.L2</th>         <td>    0.2630</td> <td>    0.141</td> <td>    1.860</td> <td> 0.071</td> <td>   -0.023</td> <td>    0.549</td>\n",
       "</tr>\n",
       "<tr>\n",
       "  <th>pasivar.L3</th>         <td>    0.1350</td> <td>    0.134</td> <td>    1.010</td> <td> 0.319</td> <td>   -0.136</td> <td>    0.406</td>\n",
       "</tr>\n",
       "<tr>\n",
       "  <th>pasivar.L4</th>         <td>   -0.0414</td> <td>    0.116</td> <td>   -0.357</td> <td> 0.723</td> <td>   -0.276</td> <td>    0.194</td>\n",
       "</tr>\n",
       "</table>"
      ],
      "text/plain": [
       "<class 'statsmodels.iolib.summary.Summary'>\n",
       "\"\"\"\n",
       "                                     ARDL Model Results                                    \n",
       "===========================================================================================\n",
       "Dep. Variable:                             activar   No. Observations:                   73\n",
       "Model:             Seas. ARDL(2, 2, 2, 4, 0, 1, 4)   Log Likelihood                 308.274\n",
       "Method:                            Conditional MLE   S.D. of innovations              0.003\n",
       "Date:                             Fri, 22 Apr 2022   AIC                           -548.547\n",
       "Time:                                     15:34:34   BIC                           -471.616\n",
       "Sample:                                 07-01-2014   HQIC                          -517.954\n",
       "                                      - 03-01-2020                                         \n",
       "======================================================================================\n",
       "                         coef    std err          z      P>|z|      [0.025      0.975]\n",
       "--------------------------------------------------------------------------------------\n",
       "const                 -0.0017      0.027     -0.064      0.950      -0.057       0.054\n",
       "s(2,12)                0.0021      0.006      0.340      0.736      -0.010       0.015\n",
       "s(3,12)                0.0067      0.005      1.467      0.151      -0.003       0.016\n",
       "s(4,12)                0.0011      0.005      0.234      0.817      -0.009       0.011\n",
       "s(5,12)                0.0066      0.004      1.517      0.138      -0.002       0.015\n",
       "s(6,12)                0.0021      0.004      0.499      0.621      -0.006       0.011\n",
       "s(7,12)                0.0063      0.005      1.286      0.206      -0.004       0.016\n",
       "s(8,12)                0.0001      0.004      0.033      0.973      -0.007       0.008\n",
       "s(9,12)                0.0015      0.005      0.281      0.780      -0.009       0.012\n",
       "s(10,12)               0.0061      0.004      1.613      0.115      -0.002       0.014\n",
       "s(11,12)               0.0035      0.005      0.685      0.497      -0.007       0.014\n",
       "s(12,12)               0.0076      0.006      1.252      0.218      -0.005       0.020\n",
       "activar.L1            -0.0952      0.168     -0.566      0.574      -0.435       0.245\n",
       "activar.L2            -0.1863      0.146     -1.272      0.211      -0.483       0.110\n",
       "pollo.L0               0.0005      0.001      0.801      0.428      -0.001       0.002\n",
       "pollo.L1              -0.0008      0.001     -1.210      0.234      -0.002       0.001\n",
       "pollo.L2               0.0008      0.001      1.064      0.294      -0.001       0.002\n",
       "pconst_interior.L0    -0.0006      0.002     -0.326      0.746      -0.004       0.003\n",
       "pconst_interior.L1    -0.0034      0.002     -1.933      0.061      -0.007       0.000\n",
       "pconst_interior.L2     0.0035      0.002      2.126      0.040       0.000       0.007\n",
       "zl_impm.L0            -0.0090      0.006     -1.415      0.165      -0.022       0.004\n",
       "zl_impm.L1             0.0165      0.008      2.070      0.045       0.000       0.033\n",
       "zl_impm.L2             0.0059      0.010      0.575      0.568      -0.015       0.027\n",
       "zl_impm.L3             0.0138      0.009      1.495      0.143      -0.005       0.032\n",
       "zl_impm.L4            -0.0128      0.008     -1.641      0.109      -0.029       0.003\n",
       "vacuno.L0              0.0132      0.013      1.034      0.307      -0.013       0.039\n",
       "g_electricidad.L0     -0.0148      0.027     -0.543      0.591      -0.070       0.040\n",
       "g_electricidad.L1     -0.0142      0.035     -0.411      0.683      -0.084       0.056\n",
       "pasivar.L0             0.4345      0.115      3.788      0.001       0.202       0.667\n",
       "pasivar.L1             0.3198      0.146      2.192      0.035       0.024       0.615\n",
       "pasivar.L2             0.2630      0.141      1.860      0.071      -0.023       0.549\n",
       "pasivar.L3             0.1350      0.134      1.010      0.319      -0.136       0.406\n",
       "pasivar.L4            -0.0414      0.116     -0.357      0.723      -0.276       0.194\n",
       "======================================================================================\n",
       "\"\"\""
      ]
     },
     "execution_count": 58,
     "metadata": {},
     "output_type": "execute_result"
    }
   ],
   "source": [
    "modelo.summary()\n",
    "#modelo.plot_diagnostics()\n",
    "#modelo.resid.plot()"
   ]
  },
  {
   "cell_type": "code",
   "execution_count": 64,
   "id": "4b41516e",
   "metadata": {},
   "outputs": [
    {
     "data": {
      "application/vnd.plotly.v1+json": {
       "config": {
        "plotlyServerURL": "https://plot.ly"
       },
       "data": [
        {
         "hovertemplate": "variable=activar<br>mes_ano=%{x}<br>value=%{y}<extra></extra>",
         "legendgroup": "activar",
         "line": {
          "color": "#636efa",
          "dash": "solid"
         },
         "marker": {
          "symbol": "circle"
         },
         "mode": "lines",
         "name": "activar",
         "orientation": "v",
         "showlegend": true,
         "type": "scatter",
         "x": [
          "2014-03-01T00:00:00",
          "2014-04-01T00:00:00",
          "2014-05-01T00:00:00",
          "2014-06-01T00:00:00",
          "2014-07-01T00:00:00",
          "2014-08-01T00:00:00",
          "2014-09-01T00:00:00",
          "2014-10-01T00:00:00",
          "2014-11-01T00:00:00",
          "2014-12-01T00:00:00",
          "2015-01-01T00:00:00",
          "2015-02-01T00:00:00",
          "2015-03-01T00:00:00",
          "2015-04-01T00:00:00",
          "2015-05-01T00:00:00",
          "2015-06-01T00:00:00",
          "2015-07-01T00:00:00",
          "2015-08-01T00:00:00",
          "2015-09-01T00:00:00",
          "2015-10-01T00:00:00",
          "2015-11-01T00:00:00",
          "2015-12-01T00:00:00",
          "2016-01-01T00:00:00",
          "2016-02-01T00:00:00",
          "2016-03-01T00:00:00",
          "2016-04-01T00:00:00",
          "2016-05-01T00:00:00",
          "2016-06-01T00:00:00",
          "2016-07-01T00:00:00",
          "2016-08-01T00:00:00",
          "2016-09-01T00:00:00",
          "2016-10-01T00:00:00",
          "2016-11-01T00:00:00",
          "2016-12-01T00:00:00",
          "2017-01-01T00:00:00",
          "2017-02-01T00:00:00",
          "2017-03-01T00:00:00",
          "2017-04-01T00:00:00",
          "2017-05-01T00:00:00",
          "2017-06-01T00:00:00",
          "2017-07-01T00:00:00",
          "2017-08-01T00:00:00",
          "2017-09-01T00:00:00",
          "2017-10-01T00:00:00",
          "2017-11-01T00:00:00",
          "2017-12-01T00:00:00",
          "2018-01-01T00:00:00",
          "2018-02-01T00:00:00",
          "2018-03-01T00:00:00",
          "2018-04-01T00:00:00",
          "2018-05-01T00:00:00",
          "2018-06-01T00:00:00",
          "2018-07-01T00:00:00",
          "2018-08-01T00:00:00",
          "2018-09-01T00:00:00",
          "2018-10-01T00:00:00",
          "2018-11-01T00:00:00",
          "2018-12-01T00:00:00",
          "2019-01-01T00:00:00",
          "2019-02-01T00:00:00",
          "2019-03-01T00:00:00",
          "2019-04-01T00:00:00",
          "2019-05-01T00:00:00",
          "2019-06-01T00:00:00",
          "2019-07-01T00:00:00",
          "2019-08-01T00:00:00",
          "2019-09-01T00:00:00",
          "2019-10-01T00:00:00",
          "2019-11-01T00:00:00",
          "2019-12-01T00:00:00",
          "2020-01-01T00:00:00",
          "2020-02-01T00:00:00",
          "2020-03-01T00:00:00"
         ],
         "xaxis": "x",
         "y": [
          0,
          0,
          0,
          0,
          0.0100503358535014,
          0,
          -0.0100503358535014,
          0.0100503358535014,
          0.009950330853168,
          0,
          0,
          0.0196084713883763,
          -0.0097561749453646,
          0,
          0,
          0,
          -0.0098522964430116,
          0.0098522964430116,
          0.0097561749453646,
          -0.0097561749453646,
          0,
          0,
          0,
          -0.0098522964430116,
          0.0098522964430116,
          0,
          0,
          0,
          0,
          0,
          -0.0098522964430116,
          0,
          0,
          0,
          0,
          -0.009950330853168,
          0.009950330853168,
          0,
          0,
          0,
          0.0098522964430116,
          -0.0098522964430116,
          0.0098522964430116,
          0,
          0,
          0,
          -0.0098522964430116,
          0,
          0,
          0,
          0,
          0,
          -0.009950330853168,
          0.009950330853168,
          0,
          0,
          0,
          0.0098522964430116,
          0,
          0.0097561749453646,
          -0.0097561749453646,
          0,
          0,
          0.0097561749453646,
          -0.0097561749453646,
          0.0097561749453646,
          0,
          0,
          0,
          -0.0097561749453646,
          0,
          0,
          0.0097561749453646
         ],
         "yaxis": "y"
        },
        {
         "hovertemplate": "variable=estimados<br>mes_ano=%{x}<br>value=%{y}<extra></extra>",
         "legendgroup": "estimados",
         "line": {
          "color": "#EF553B",
          "dash": "solid"
         },
         "marker": {
          "symbol": "circle"
         },
         "mode": "lines",
         "name": "estimados",
         "orientation": "v",
         "showlegend": true,
         "type": "scatter",
         "x": [
          "2014-03-01T00:00:00",
          "2014-04-01T00:00:00",
          "2014-05-01T00:00:00",
          "2014-06-01T00:00:00",
          "2014-07-01T00:00:00",
          "2014-08-01T00:00:00",
          "2014-09-01T00:00:00",
          "2014-10-01T00:00:00",
          "2014-11-01T00:00:00",
          "2014-12-01T00:00:00",
          "2015-01-01T00:00:00",
          "2015-02-01T00:00:00",
          "2015-03-01T00:00:00",
          "2015-04-01T00:00:00",
          "2015-05-01T00:00:00",
          "2015-06-01T00:00:00",
          "2015-07-01T00:00:00",
          "2015-08-01T00:00:00",
          "2015-09-01T00:00:00",
          "2015-10-01T00:00:00",
          "2015-11-01T00:00:00",
          "2015-12-01T00:00:00",
          "2016-01-01T00:00:00",
          "2016-02-01T00:00:00",
          "2016-03-01T00:00:00",
          "2016-04-01T00:00:00",
          "2016-05-01T00:00:00",
          "2016-06-01T00:00:00",
          "2016-07-01T00:00:00",
          "2016-08-01T00:00:00",
          "2016-09-01T00:00:00",
          "2016-10-01T00:00:00",
          "2016-11-01T00:00:00",
          "2016-12-01T00:00:00",
          "2017-01-01T00:00:00",
          "2017-02-01T00:00:00",
          "2017-03-01T00:00:00",
          "2017-04-01T00:00:00",
          "2017-05-01T00:00:00",
          "2017-06-01T00:00:00",
          "2017-07-01T00:00:00",
          "2017-08-01T00:00:00",
          "2017-09-01T00:00:00",
          "2017-10-01T00:00:00",
          "2017-11-01T00:00:00",
          "2017-12-01T00:00:00",
          "2018-01-01T00:00:00",
          "2018-02-01T00:00:00",
          "2018-03-01T00:00:00",
          "2018-04-01T00:00:00",
          "2018-05-01T00:00:00",
          "2018-06-01T00:00:00",
          "2018-07-01T00:00:00",
          "2018-08-01T00:00:00",
          "2018-09-01T00:00:00",
          "2018-10-01T00:00:00",
          "2018-11-01T00:00:00",
          "2018-12-01T00:00:00",
          "2019-01-01T00:00:00",
          "2019-02-01T00:00:00",
          "2019-03-01T00:00:00",
          "2019-04-01T00:00:00",
          "2019-05-01T00:00:00",
          "2019-06-01T00:00:00",
          "2019-07-01T00:00:00",
          "2019-08-01T00:00:00",
          "2019-09-01T00:00:00",
          "2019-10-01T00:00:00",
          "2019-11-01T00:00:00",
          "2019-12-01T00:00:00",
          "2020-01-01T00:00:00",
          "2020-02-01T00:00:00",
          "2020-03-01T00:00:00"
         ],
         "xaxis": "x",
         "y": [
          null,
          null,
          null,
          null,
          0.00970055995654274,
          -0.0008677361360239313,
          0.0014981505471306016,
          0.0036377378375838346,
          0.0026969583495390884,
          0.01015772247719588,
          -0.0028918040004364282,
          0.01787175557579457,
          -0.007005717036945223,
          0.0011141370634068061,
          -0.00028657656218632763,
          -0.0007594257230081685,
          -0.00395168811524496,
          0.0026495492094336342,
          0.008495056047695628,
          -0.0003999296861973067,
          -0.007773709947307855,
          -4.007753132805561e-05,
          -0.00015868916126173544,
          -0.00972786210329727,
          -0.0009059649888913627,
          0.0038076912891450297,
          0.005933641990426107,
          -0.003749009118875668,
          0.004438301859435121,
          -0.004764449814851324,
          0.0037255136499328993,
          -0.0060720265962888875,
          0.00017670988790433078,
          -0.0028362017920895216,
          -0.004464859812327022,
          -0.0007577202421456914,
          0.0074366083934955494,
          -0.005852419245692244,
          0.004229671936100823,
          0.0013182155715256354,
          0.001814585897915791,
          0.004202561162144978,
          -0.0006812697002714449,
          -0.0004318304768991299,
          0.0010596137553819385,
          0.0036161553425363576,
          -0.004207649550302595,
          0.001935545757995613,
          -0.00046192820806652024,
          -0.006406159284667459,
          0.007162473845694292,
          0.0007856674530754197,
          -0.0031533485127525703,
          0.001810842410460248,
          0.005547442804130014,
          -0.004888412966208087,
          0.0035468212910086576,
          -0.0001842971406408569,
          0.0068812634607442035,
          0.0023266095845702523,
          0.0002295822105572296,
          -0.002141993776735906,
          0.001918276699052154,
          0.0024045518172835195,
          0.0006371485336109828,
          0.006185888273761061,
          0.00028359095576601235,
          -0.0013242820665338023,
          0.000382610268179019,
          -0.0011438503395225857,
          -0.004554626707651123,
          -0.0022585882230781143,
          0.010103785401086356
         ],
         "yaxis": "y"
        }
       ],
       "layout": {
        "legend": {
         "title": {
          "text": "variable"
         },
         "tracegroupgap": 0
        },
        "margin": {
         "t": 60
        },
        "template": {
         "data": {
          "bar": [
           {
            "error_x": {
             "color": "#2a3f5f"
            },
            "error_y": {
             "color": "#2a3f5f"
            },
            "marker": {
             "line": {
              "color": "#E5ECF6",
              "width": 0.5
             },
             "pattern": {
              "fillmode": "overlay",
              "size": 10,
              "solidity": 0.2
             }
            },
            "type": "bar"
           }
          ],
          "barpolar": [
           {
            "marker": {
             "line": {
              "color": "#E5ECF6",
              "width": 0.5
             },
             "pattern": {
              "fillmode": "overlay",
              "size": 10,
              "solidity": 0.2
             }
            },
            "type": "barpolar"
           }
          ],
          "carpet": [
           {
            "aaxis": {
             "endlinecolor": "#2a3f5f",
             "gridcolor": "white",
             "linecolor": "white",
             "minorgridcolor": "white",
             "startlinecolor": "#2a3f5f"
            },
            "baxis": {
             "endlinecolor": "#2a3f5f",
             "gridcolor": "white",
             "linecolor": "white",
             "minorgridcolor": "white",
             "startlinecolor": "#2a3f5f"
            },
            "type": "carpet"
           }
          ],
          "choropleth": [
           {
            "colorbar": {
             "outlinewidth": 0,
             "ticks": ""
            },
            "type": "choropleth"
           }
          ],
          "contour": [
           {
            "colorbar": {
             "outlinewidth": 0,
             "ticks": ""
            },
            "colorscale": [
             [
              0,
              "#0d0887"
             ],
             [
              0.1111111111111111,
              "#46039f"
             ],
             [
              0.2222222222222222,
              "#7201a8"
             ],
             [
              0.3333333333333333,
              "#9c179e"
             ],
             [
              0.4444444444444444,
              "#bd3786"
             ],
             [
              0.5555555555555556,
              "#d8576b"
             ],
             [
              0.6666666666666666,
              "#ed7953"
             ],
             [
              0.7777777777777778,
              "#fb9f3a"
             ],
             [
              0.8888888888888888,
              "#fdca26"
             ],
             [
              1,
              "#f0f921"
             ]
            ],
            "type": "contour"
           }
          ],
          "contourcarpet": [
           {
            "colorbar": {
             "outlinewidth": 0,
             "ticks": ""
            },
            "type": "contourcarpet"
           }
          ],
          "heatmap": [
           {
            "colorbar": {
             "outlinewidth": 0,
             "ticks": ""
            },
            "colorscale": [
             [
              0,
              "#0d0887"
             ],
             [
              0.1111111111111111,
              "#46039f"
             ],
             [
              0.2222222222222222,
              "#7201a8"
             ],
             [
              0.3333333333333333,
              "#9c179e"
             ],
             [
              0.4444444444444444,
              "#bd3786"
             ],
             [
              0.5555555555555556,
              "#d8576b"
             ],
             [
              0.6666666666666666,
              "#ed7953"
             ],
             [
              0.7777777777777778,
              "#fb9f3a"
             ],
             [
              0.8888888888888888,
              "#fdca26"
             ],
             [
              1,
              "#f0f921"
             ]
            ],
            "type": "heatmap"
           }
          ],
          "heatmapgl": [
           {
            "colorbar": {
             "outlinewidth": 0,
             "ticks": ""
            },
            "colorscale": [
             [
              0,
              "#0d0887"
             ],
             [
              0.1111111111111111,
              "#46039f"
             ],
             [
              0.2222222222222222,
              "#7201a8"
             ],
             [
              0.3333333333333333,
              "#9c179e"
             ],
             [
              0.4444444444444444,
              "#bd3786"
             ],
             [
              0.5555555555555556,
              "#d8576b"
             ],
             [
              0.6666666666666666,
              "#ed7953"
             ],
             [
              0.7777777777777778,
              "#fb9f3a"
             ],
             [
              0.8888888888888888,
              "#fdca26"
             ],
             [
              1,
              "#f0f921"
             ]
            ],
            "type": "heatmapgl"
           }
          ],
          "histogram": [
           {
            "marker": {
             "pattern": {
              "fillmode": "overlay",
              "size": 10,
              "solidity": 0.2
             }
            },
            "type": "histogram"
           }
          ],
          "histogram2d": [
           {
            "colorbar": {
             "outlinewidth": 0,
             "ticks": ""
            },
            "colorscale": [
             [
              0,
              "#0d0887"
             ],
             [
              0.1111111111111111,
              "#46039f"
             ],
             [
              0.2222222222222222,
              "#7201a8"
             ],
             [
              0.3333333333333333,
              "#9c179e"
             ],
             [
              0.4444444444444444,
              "#bd3786"
             ],
             [
              0.5555555555555556,
              "#d8576b"
             ],
             [
              0.6666666666666666,
              "#ed7953"
             ],
             [
              0.7777777777777778,
              "#fb9f3a"
             ],
             [
              0.8888888888888888,
              "#fdca26"
             ],
             [
              1,
              "#f0f921"
             ]
            ],
            "type": "histogram2d"
           }
          ],
          "histogram2dcontour": [
           {
            "colorbar": {
             "outlinewidth": 0,
             "ticks": ""
            },
            "colorscale": [
             [
              0,
              "#0d0887"
             ],
             [
              0.1111111111111111,
              "#46039f"
             ],
             [
              0.2222222222222222,
              "#7201a8"
             ],
             [
              0.3333333333333333,
              "#9c179e"
             ],
             [
              0.4444444444444444,
              "#bd3786"
             ],
             [
              0.5555555555555556,
              "#d8576b"
             ],
             [
              0.6666666666666666,
              "#ed7953"
             ],
             [
              0.7777777777777778,
              "#fb9f3a"
             ],
             [
              0.8888888888888888,
              "#fdca26"
             ],
             [
              1,
              "#f0f921"
             ]
            ],
            "type": "histogram2dcontour"
           }
          ],
          "mesh3d": [
           {
            "colorbar": {
             "outlinewidth": 0,
             "ticks": ""
            },
            "type": "mesh3d"
           }
          ],
          "parcoords": [
           {
            "line": {
             "colorbar": {
              "outlinewidth": 0,
              "ticks": ""
             }
            },
            "type": "parcoords"
           }
          ],
          "pie": [
           {
            "automargin": true,
            "type": "pie"
           }
          ],
          "scatter": [
           {
            "marker": {
             "colorbar": {
              "outlinewidth": 0,
              "ticks": ""
             }
            },
            "type": "scatter"
           }
          ],
          "scatter3d": [
           {
            "line": {
             "colorbar": {
              "outlinewidth": 0,
              "ticks": ""
             }
            },
            "marker": {
             "colorbar": {
              "outlinewidth": 0,
              "ticks": ""
             }
            },
            "type": "scatter3d"
           }
          ],
          "scattercarpet": [
           {
            "marker": {
             "colorbar": {
              "outlinewidth": 0,
              "ticks": ""
             }
            },
            "type": "scattercarpet"
           }
          ],
          "scattergeo": [
           {
            "marker": {
             "colorbar": {
              "outlinewidth": 0,
              "ticks": ""
             }
            },
            "type": "scattergeo"
           }
          ],
          "scattergl": [
           {
            "marker": {
             "colorbar": {
              "outlinewidth": 0,
              "ticks": ""
             }
            },
            "type": "scattergl"
           }
          ],
          "scattermapbox": [
           {
            "marker": {
             "colorbar": {
              "outlinewidth": 0,
              "ticks": ""
             }
            },
            "type": "scattermapbox"
           }
          ],
          "scatterpolar": [
           {
            "marker": {
             "colorbar": {
              "outlinewidth": 0,
              "ticks": ""
             }
            },
            "type": "scatterpolar"
           }
          ],
          "scatterpolargl": [
           {
            "marker": {
             "colorbar": {
              "outlinewidth": 0,
              "ticks": ""
             }
            },
            "type": "scatterpolargl"
           }
          ],
          "scatterternary": [
           {
            "marker": {
             "colorbar": {
              "outlinewidth": 0,
              "ticks": ""
             }
            },
            "type": "scatterternary"
           }
          ],
          "surface": [
           {
            "colorbar": {
             "outlinewidth": 0,
             "ticks": ""
            },
            "colorscale": [
             [
              0,
              "#0d0887"
             ],
             [
              0.1111111111111111,
              "#46039f"
             ],
             [
              0.2222222222222222,
              "#7201a8"
             ],
             [
              0.3333333333333333,
              "#9c179e"
             ],
             [
              0.4444444444444444,
              "#bd3786"
             ],
             [
              0.5555555555555556,
              "#d8576b"
             ],
             [
              0.6666666666666666,
              "#ed7953"
             ],
             [
              0.7777777777777778,
              "#fb9f3a"
             ],
             [
              0.8888888888888888,
              "#fdca26"
             ],
             [
              1,
              "#f0f921"
             ]
            ],
            "type": "surface"
           }
          ],
          "table": [
           {
            "cells": {
             "fill": {
              "color": "#EBF0F8"
             },
             "line": {
              "color": "white"
             }
            },
            "header": {
             "fill": {
              "color": "#C8D4E3"
             },
             "line": {
              "color": "white"
             }
            },
            "type": "table"
           }
          ]
         },
         "layout": {
          "annotationdefaults": {
           "arrowcolor": "#2a3f5f",
           "arrowhead": 0,
           "arrowwidth": 1
          },
          "autotypenumbers": "strict",
          "coloraxis": {
           "colorbar": {
            "outlinewidth": 0,
            "ticks": ""
           }
          },
          "colorscale": {
           "diverging": [
            [
             0,
             "#8e0152"
            ],
            [
             0.1,
             "#c51b7d"
            ],
            [
             0.2,
             "#de77ae"
            ],
            [
             0.3,
             "#f1b6da"
            ],
            [
             0.4,
             "#fde0ef"
            ],
            [
             0.5,
             "#f7f7f7"
            ],
            [
             0.6,
             "#e6f5d0"
            ],
            [
             0.7,
             "#b8e186"
            ],
            [
             0.8,
             "#7fbc41"
            ],
            [
             0.9,
             "#4d9221"
            ],
            [
             1,
             "#276419"
            ]
           ],
           "sequential": [
            [
             0,
             "#0d0887"
            ],
            [
             0.1111111111111111,
             "#46039f"
            ],
            [
             0.2222222222222222,
             "#7201a8"
            ],
            [
             0.3333333333333333,
             "#9c179e"
            ],
            [
             0.4444444444444444,
             "#bd3786"
            ],
            [
             0.5555555555555556,
             "#d8576b"
            ],
            [
             0.6666666666666666,
             "#ed7953"
            ],
            [
             0.7777777777777778,
             "#fb9f3a"
            ],
            [
             0.8888888888888888,
             "#fdca26"
            ],
            [
             1,
             "#f0f921"
            ]
           ],
           "sequentialminus": [
            [
             0,
             "#0d0887"
            ],
            [
             0.1111111111111111,
             "#46039f"
            ],
            [
             0.2222222222222222,
             "#7201a8"
            ],
            [
             0.3333333333333333,
             "#9c179e"
            ],
            [
             0.4444444444444444,
             "#bd3786"
            ],
            [
             0.5555555555555556,
             "#d8576b"
            ],
            [
             0.6666666666666666,
             "#ed7953"
            ],
            [
             0.7777777777777778,
             "#fb9f3a"
            ],
            [
             0.8888888888888888,
             "#fdca26"
            ],
            [
             1,
             "#f0f921"
            ]
           ]
          },
          "colorway": [
           "#636efa",
           "#EF553B",
           "#00cc96",
           "#ab63fa",
           "#FFA15A",
           "#19d3f3",
           "#FF6692",
           "#B6E880",
           "#FF97FF",
           "#FECB52"
          ],
          "font": {
           "color": "#2a3f5f"
          },
          "geo": {
           "bgcolor": "white",
           "lakecolor": "white",
           "landcolor": "#E5ECF6",
           "showlakes": true,
           "showland": true,
           "subunitcolor": "white"
          },
          "hoverlabel": {
           "align": "left"
          },
          "hovermode": "closest",
          "mapbox": {
           "style": "light"
          },
          "paper_bgcolor": "white",
          "plot_bgcolor": "#E5ECF6",
          "polar": {
           "angularaxis": {
            "gridcolor": "white",
            "linecolor": "white",
            "ticks": ""
           },
           "bgcolor": "#E5ECF6",
           "radialaxis": {
            "gridcolor": "white",
            "linecolor": "white",
            "ticks": ""
           }
          },
          "scene": {
           "xaxis": {
            "backgroundcolor": "#E5ECF6",
            "gridcolor": "white",
            "gridwidth": 2,
            "linecolor": "white",
            "showbackground": true,
            "ticks": "",
            "zerolinecolor": "white"
           },
           "yaxis": {
            "backgroundcolor": "#E5ECF6",
            "gridcolor": "white",
            "gridwidth": 2,
            "linecolor": "white",
            "showbackground": true,
            "ticks": "",
            "zerolinecolor": "white"
           },
           "zaxis": {
            "backgroundcolor": "#E5ECF6",
            "gridcolor": "white",
            "gridwidth": 2,
            "linecolor": "white",
            "showbackground": true,
            "ticks": "",
            "zerolinecolor": "white"
           }
          },
          "shapedefaults": {
           "line": {
            "color": "#2a3f5f"
           }
          },
          "ternary": {
           "aaxis": {
            "gridcolor": "white",
            "linecolor": "white",
            "ticks": ""
           },
           "baxis": {
            "gridcolor": "white",
            "linecolor": "white",
            "ticks": ""
           },
           "bgcolor": "#E5ECF6",
           "caxis": {
            "gridcolor": "white",
            "linecolor": "white",
            "ticks": ""
           }
          },
          "title": {
           "x": 0.05
          },
          "xaxis": {
           "automargin": true,
           "gridcolor": "white",
           "linecolor": "white",
           "ticks": "",
           "title": {
            "standoff": 15
           },
           "zerolinecolor": "white",
           "zerolinewidth": 2
          },
          "yaxis": {
           "automargin": true,
           "gridcolor": "white",
           "linecolor": "white",
           "ticks": "",
           "title": {
            "standoff": 15
           },
           "zerolinecolor": "white",
           "zerolinewidth": 2
          }
         }
        },
        "title": {
         "text": "Ajuste Ene-2014, Mar-2020"
        },
        "xaxis": {
         "anchor": "y",
         "domain": [
          0,
          1
         ],
         "title": {
          "text": "mes_ano"
         }
        },
        "yaxis": {
         "anchor": "x",
         "domain": [
          0,
          1
         ],
         "title": {
          "text": "value"
         }
        }
       }
      },
      "text/html": [
       "<div>                            <div id=\"3df9b8e0-747a-49df-9286-10e02d2ec5d1\" class=\"plotly-graph-div\" style=\"height:525px; width:100%;\"></div>            <script type=\"text/javascript\">                require([\"plotly\"], function(Plotly) {                    window.PLOTLYENV=window.PLOTLYENV || {};                                    if (document.getElementById(\"3df9b8e0-747a-49df-9286-10e02d2ec5d1\")) {                    Plotly.newPlot(                        \"3df9b8e0-747a-49df-9286-10e02d2ec5d1\",                        [{\"hovertemplate\":\"variable=activar<br>mes_ano=%{x}<br>value=%{y}<extra></extra>\",\"legendgroup\":\"activar\",\"line\":{\"color\":\"#636efa\",\"dash\":\"solid\"},\"marker\":{\"symbol\":\"circle\"},\"mode\":\"lines\",\"name\":\"activar\",\"orientation\":\"v\",\"showlegend\":true,\"x\":[\"2014-03-01T00:00:00\",\"2014-04-01T00:00:00\",\"2014-05-01T00:00:00\",\"2014-06-01T00:00:00\",\"2014-07-01T00:00:00\",\"2014-08-01T00:00:00\",\"2014-09-01T00:00:00\",\"2014-10-01T00:00:00\",\"2014-11-01T00:00:00\",\"2014-12-01T00:00:00\",\"2015-01-01T00:00:00\",\"2015-02-01T00:00:00\",\"2015-03-01T00:00:00\",\"2015-04-01T00:00:00\",\"2015-05-01T00:00:00\",\"2015-06-01T00:00:00\",\"2015-07-01T00:00:00\",\"2015-08-01T00:00:00\",\"2015-09-01T00:00:00\",\"2015-10-01T00:00:00\",\"2015-11-01T00:00:00\",\"2015-12-01T00:00:00\",\"2016-01-01T00:00:00\",\"2016-02-01T00:00:00\",\"2016-03-01T00:00:00\",\"2016-04-01T00:00:00\",\"2016-05-01T00:00:00\",\"2016-06-01T00:00:00\",\"2016-07-01T00:00:00\",\"2016-08-01T00:00:00\",\"2016-09-01T00:00:00\",\"2016-10-01T00:00:00\",\"2016-11-01T00:00:00\",\"2016-12-01T00:00:00\",\"2017-01-01T00:00:00\",\"2017-02-01T00:00:00\",\"2017-03-01T00:00:00\",\"2017-04-01T00:00:00\",\"2017-05-01T00:00:00\",\"2017-06-01T00:00:00\",\"2017-07-01T00:00:00\",\"2017-08-01T00:00:00\",\"2017-09-01T00:00:00\",\"2017-10-01T00:00:00\",\"2017-11-01T00:00:00\",\"2017-12-01T00:00:00\",\"2018-01-01T00:00:00\",\"2018-02-01T00:00:00\",\"2018-03-01T00:00:00\",\"2018-04-01T00:00:00\",\"2018-05-01T00:00:00\",\"2018-06-01T00:00:00\",\"2018-07-01T00:00:00\",\"2018-08-01T00:00:00\",\"2018-09-01T00:00:00\",\"2018-10-01T00:00:00\",\"2018-11-01T00:00:00\",\"2018-12-01T00:00:00\",\"2019-01-01T00:00:00\",\"2019-02-01T00:00:00\",\"2019-03-01T00:00:00\",\"2019-04-01T00:00:00\",\"2019-05-01T00:00:00\",\"2019-06-01T00:00:00\",\"2019-07-01T00:00:00\",\"2019-08-01T00:00:00\",\"2019-09-01T00:00:00\",\"2019-10-01T00:00:00\",\"2019-11-01T00:00:00\",\"2019-12-01T00:00:00\",\"2020-01-01T00:00:00\",\"2020-02-01T00:00:00\",\"2020-03-01T00:00:00\"],\"xaxis\":\"x\",\"y\":[0.0,0.0,0.0,0.0,0.0100503358535014,0.0,-0.0100503358535014,0.0100503358535014,0.009950330853168,0.0,0.0,0.0196084713883763,-0.0097561749453646,0.0,0.0,0.0,-0.0098522964430116,0.0098522964430116,0.0097561749453646,-0.0097561749453646,0.0,0.0,0.0,-0.0098522964430116,0.0098522964430116,0.0,0.0,0.0,0.0,0.0,-0.0098522964430116,0.0,0.0,0.0,0.0,-0.009950330853168,0.009950330853168,0.0,0.0,0.0,0.0098522964430116,-0.0098522964430116,0.0098522964430116,0.0,0.0,0.0,-0.0098522964430116,0.0,0.0,0.0,0.0,0.0,-0.009950330853168,0.009950330853168,0.0,0.0,0.0,0.0098522964430116,0.0,0.0097561749453646,-0.0097561749453646,0.0,0.0,0.0097561749453646,-0.0097561749453646,0.0097561749453646,0.0,0.0,0.0,-0.0097561749453646,0.0,0.0,0.0097561749453646],\"yaxis\":\"y\",\"type\":\"scatter\"},{\"hovertemplate\":\"variable=estimados<br>mes_ano=%{x}<br>value=%{y}<extra></extra>\",\"legendgroup\":\"estimados\",\"line\":{\"color\":\"#EF553B\",\"dash\":\"solid\"},\"marker\":{\"symbol\":\"circle\"},\"mode\":\"lines\",\"name\":\"estimados\",\"orientation\":\"v\",\"showlegend\":true,\"x\":[\"2014-03-01T00:00:00\",\"2014-04-01T00:00:00\",\"2014-05-01T00:00:00\",\"2014-06-01T00:00:00\",\"2014-07-01T00:00:00\",\"2014-08-01T00:00:00\",\"2014-09-01T00:00:00\",\"2014-10-01T00:00:00\",\"2014-11-01T00:00:00\",\"2014-12-01T00:00:00\",\"2015-01-01T00:00:00\",\"2015-02-01T00:00:00\",\"2015-03-01T00:00:00\",\"2015-04-01T00:00:00\",\"2015-05-01T00:00:00\",\"2015-06-01T00:00:00\",\"2015-07-01T00:00:00\",\"2015-08-01T00:00:00\",\"2015-09-01T00:00:00\",\"2015-10-01T00:00:00\",\"2015-11-01T00:00:00\",\"2015-12-01T00:00:00\",\"2016-01-01T00:00:00\",\"2016-02-01T00:00:00\",\"2016-03-01T00:00:00\",\"2016-04-01T00:00:00\",\"2016-05-01T00:00:00\",\"2016-06-01T00:00:00\",\"2016-07-01T00:00:00\",\"2016-08-01T00:00:00\",\"2016-09-01T00:00:00\",\"2016-10-01T00:00:00\",\"2016-11-01T00:00:00\",\"2016-12-01T00:00:00\",\"2017-01-01T00:00:00\",\"2017-02-01T00:00:00\",\"2017-03-01T00:00:00\",\"2017-04-01T00:00:00\",\"2017-05-01T00:00:00\",\"2017-06-01T00:00:00\",\"2017-07-01T00:00:00\",\"2017-08-01T00:00:00\",\"2017-09-01T00:00:00\",\"2017-10-01T00:00:00\",\"2017-11-01T00:00:00\",\"2017-12-01T00:00:00\",\"2018-01-01T00:00:00\",\"2018-02-01T00:00:00\",\"2018-03-01T00:00:00\",\"2018-04-01T00:00:00\",\"2018-05-01T00:00:00\",\"2018-06-01T00:00:00\",\"2018-07-01T00:00:00\",\"2018-08-01T00:00:00\",\"2018-09-01T00:00:00\",\"2018-10-01T00:00:00\",\"2018-11-01T00:00:00\",\"2018-12-01T00:00:00\",\"2019-01-01T00:00:00\",\"2019-02-01T00:00:00\",\"2019-03-01T00:00:00\",\"2019-04-01T00:00:00\",\"2019-05-01T00:00:00\",\"2019-06-01T00:00:00\",\"2019-07-01T00:00:00\",\"2019-08-01T00:00:00\",\"2019-09-01T00:00:00\",\"2019-10-01T00:00:00\",\"2019-11-01T00:00:00\",\"2019-12-01T00:00:00\",\"2020-01-01T00:00:00\",\"2020-02-01T00:00:00\",\"2020-03-01T00:00:00\"],\"xaxis\":\"x\",\"y\":[null,null,null,null,0.00970055995654274,-0.0008677361360239313,0.0014981505471306016,0.0036377378375838346,0.0026969583495390884,0.01015772247719588,-0.0028918040004364282,0.01787175557579457,-0.007005717036945223,0.0011141370634068061,-0.00028657656218632763,-0.0007594257230081685,-0.00395168811524496,0.0026495492094336342,0.008495056047695628,-0.0003999296861973067,-0.007773709947307855,-4.007753132805561e-05,-0.00015868916126173544,-0.00972786210329727,-0.0009059649888913627,0.0038076912891450297,0.005933641990426107,-0.003749009118875668,0.004438301859435121,-0.004764449814851324,0.0037255136499328993,-0.0060720265962888875,0.00017670988790433078,-0.0028362017920895216,-0.004464859812327022,-0.0007577202421456914,0.0074366083934955494,-0.005852419245692244,0.004229671936100823,0.0013182155715256354,0.001814585897915791,0.004202561162144978,-0.0006812697002714449,-0.0004318304768991299,0.0010596137553819385,0.0036161553425363576,-0.004207649550302595,0.001935545757995613,-0.00046192820806652024,-0.006406159284667459,0.007162473845694292,0.0007856674530754197,-0.0031533485127525703,0.001810842410460248,0.005547442804130014,-0.004888412966208087,0.0035468212910086576,-0.0001842971406408569,0.0068812634607442035,0.0023266095845702523,0.0002295822105572296,-0.002141993776735906,0.001918276699052154,0.0024045518172835195,0.0006371485336109828,0.006185888273761061,0.00028359095576601235,-0.0013242820665338023,0.000382610268179019,-0.0011438503395225857,-0.004554626707651123,-0.0022585882230781143,0.010103785401086356],\"yaxis\":\"y\",\"type\":\"scatter\"}],                        {\"template\":{\"data\":{\"bar\":[{\"error_x\":{\"color\":\"#2a3f5f\"},\"error_y\":{\"color\":\"#2a3f5f\"},\"marker\":{\"line\":{\"color\":\"#E5ECF6\",\"width\":0.5},\"pattern\":{\"fillmode\":\"overlay\",\"size\":10,\"solidity\":0.2}},\"type\":\"bar\"}],\"barpolar\":[{\"marker\":{\"line\":{\"color\":\"#E5ECF6\",\"width\":0.5},\"pattern\":{\"fillmode\":\"overlay\",\"size\":10,\"solidity\":0.2}},\"type\":\"barpolar\"}],\"carpet\":[{\"aaxis\":{\"endlinecolor\":\"#2a3f5f\",\"gridcolor\":\"white\",\"linecolor\":\"white\",\"minorgridcolor\":\"white\",\"startlinecolor\":\"#2a3f5f\"},\"baxis\":{\"endlinecolor\":\"#2a3f5f\",\"gridcolor\":\"white\",\"linecolor\":\"white\",\"minorgridcolor\":\"white\",\"startlinecolor\":\"#2a3f5f\"},\"type\":\"carpet\"}],\"choropleth\":[{\"colorbar\":{\"outlinewidth\":0,\"ticks\":\"\"},\"type\":\"choropleth\"}],\"contour\":[{\"colorbar\":{\"outlinewidth\":0,\"ticks\":\"\"},\"colorscale\":[[0.0,\"#0d0887\"],[0.1111111111111111,\"#46039f\"],[0.2222222222222222,\"#7201a8\"],[0.3333333333333333,\"#9c179e\"],[0.4444444444444444,\"#bd3786\"],[0.5555555555555556,\"#d8576b\"],[0.6666666666666666,\"#ed7953\"],[0.7777777777777778,\"#fb9f3a\"],[0.8888888888888888,\"#fdca26\"],[1.0,\"#f0f921\"]],\"type\":\"contour\"}],\"contourcarpet\":[{\"colorbar\":{\"outlinewidth\":0,\"ticks\":\"\"},\"type\":\"contourcarpet\"}],\"heatmap\":[{\"colorbar\":{\"outlinewidth\":0,\"ticks\":\"\"},\"colorscale\":[[0.0,\"#0d0887\"],[0.1111111111111111,\"#46039f\"],[0.2222222222222222,\"#7201a8\"],[0.3333333333333333,\"#9c179e\"],[0.4444444444444444,\"#bd3786\"],[0.5555555555555556,\"#d8576b\"],[0.6666666666666666,\"#ed7953\"],[0.7777777777777778,\"#fb9f3a\"],[0.8888888888888888,\"#fdca26\"],[1.0,\"#f0f921\"]],\"type\":\"heatmap\"}],\"heatmapgl\":[{\"colorbar\":{\"outlinewidth\":0,\"ticks\":\"\"},\"colorscale\":[[0.0,\"#0d0887\"],[0.1111111111111111,\"#46039f\"],[0.2222222222222222,\"#7201a8\"],[0.3333333333333333,\"#9c179e\"],[0.4444444444444444,\"#bd3786\"],[0.5555555555555556,\"#d8576b\"],[0.6666666666666666,\"#ed7953\"],[0.7777777777777778,\"#fb9f3a\"],[0.8888888888888888,\"#fdca26\"],[1.0,\"#f0f921\"]],\"type\":\"heatmapgl\"}],\"histogram\":[{\"marker\":{\"pattern\":{\"fillmode\":\"overlay\",\"size\":10,\"solidity\":0.2}},\"type\":\"histogram\"}],\"histogram2d\":[{\"colorbar\":{\"outlinewidth\":0,\"ticks\":\"\"},\"colorscale\":[[0.0,\"#0d0887\"],[0.1111111111111111,\"#46039f\"],[0.2222222222222222,\"#7201a8\"],[0.3333333333333333,\"#9c179e\"],[0.4444444444444444,\"#bd3786\"],[0.5555555555555556,\"#d8576b\"],[0.6666666666666666,\"#ed7953\"],[0.7777777777777778,\"#fb9f3a\"],[0.8888888888888888,\"#fdca26\"],[1.0,\"#f0f921\"]],\"type\":\"histogram2d\"}],\"histogram2dcontour\":[{\"colorbar\":{\"outlinewidth\":0,\"ticks\":\"\"},\"colorscale\":[[0.0,\"#0d0887\"],[0.1111111111111111,\"#46039f\"],[0.2222222222222222,\"#7201a8\"],[0.3333333333333333,\"#9c179e\"],[0.4444444444444444,\"#bd3786\"],[0.5555555555555556,\"#d8576b\"],[0.6666666666666666,\"#ed7953\"],[0.7777777777777778,\"#fb9f3a\"],[0.8888888888888888,\"#fdca26\"],[1.0,\"#f0f921\"]],\"type\":\"histogram2dcontour\"}],\"mesh3d\":[{\"colorbar\":{\"outlinewidth\":0,\"ticks\":\"\"},\"type\":\"mesh3d\"}],\"parcoords\":[{\"line\":{\"colorbar\":{\"outlinewidth\":0,\"ticks\":\"\"}},\"type\":\"parcoords\"}],\"pie\":[{\"automargin\":true,\"type\":\"pie\"}],\"scatter\":[{\"marker\":{\"colorbar\":{\"outlinewidth\":0,\"ticks\":\"\"}},\"type\":\"scatter\"}],\"scatter3d\":[{\"line\":{\"colorbar\":{\"outlinewidth\":0,\"ticks\":\"\"}},\"marker\":{\"colorbar\":{\"outlinewidth\":0,\"ticks\":\"\"}},\"type\":\"scatter3d\"}],\"scattercarpet\":[{\"marker\":{\"colorbar\":{\"outlinewidth\":0,\"ticks\":\"\"}},\"type\":\"scattercarpet\"}],\"scattergeo\":[{\"marker\":{\"colorbar\":{\"outlinewidth\":0,\"ticks\":\"\"}},\"type\":\"scattergeo\"}],\"scattergl\":[{\"marker\":{\"colorbar\":{\"outlinewidth\":0,\"ticks\":\"\"}},\"type\":\"scattergl\"}],\"scattermapbox\":[{\"marker\":{\"colorbar\":{\"outlinewidth\":0,\"ticks\":\"\"}},\"type\":\"scattermapbox\"}],\"scatterpolar\":[{\"marker\":{\"colorbar\":{\"outlinewidth\":0,\"ticks\":\"\"}},\"type\":\"scatterpolar\"}],\"scatterpolargl\":[{\"marker\":{\"colorbar\":{\"outlinewidth\":0,\"ticks\":\"\"}},\"type\":\"scatterpolargl\"}],\"scatterternary\":[{\"marker\":{\"colorbar\":{\"outlinewidth\":0,\"ticks\":\"\"}},\"type\":\"scatterternary\"}],\"surface\":[{\"colorbar\":{\"outlinewidth\":0,\"ticks\":\"\"},\"colorscale\":[[0.0,\"#0d0887\"],[0.1111111111111111,\"#46039f\"],[0.2222222222222222,\"#7201a8\"],[0.3333333333333333,\"#9c179e\"],[0.4444444444444444,\"#bd3786\"],[0.5555555555555556,\"#d8576b\"],[0.6666666666666666,\"#ed7953\"],[0.7777777777777778,\"#fb9f3a\"],[0.8888888888888888,\"#fdca26\"],[1.0,\"#f0f921\"]],\"type\":\"surface\"}],\"table\":[{\"cells\":{\"fill\":{\"color\":\"#EBF0F8\"},\"line\":{\"color\":\"white\"}},\"header\":{\"fill\":{\"color\":\"#C8D4E3\"},\"line\":{\"color\":\"white\"}},\"type\":\"table\"}]},\"layout\":{\"annotationdefaults\":{\"arrowcolor\":\"#2a3f5f\",\"arrowhead\":0,\"arrowwidth\":1},\"autotypenumbers\":\"strict\",\"coloraxis\":{\"colorbar\":{\"outlinewidth\":0,\"ticks\":\"\"}},\"colorscale\":{\"diverging\":[[0,\"#8e0152\"],[0.1,\"#c51b7d\"],[0.2,\"#de77ae\"],[0.3,\"#f1b6da\"],[0.4,\"#fde0ef\"],[0.5,\"#f7f7f7\"],[0.6,\"#e6f5d0\"],[0.7,\"#b8e186\"],[0.8,\"#7fbc41\"],[0.9,\"#4d9221\"],[1,\"#276419\"]],\"sequential\":[[0.0,\"#0d0887\"],[0.1111111111111111,\"#46039f\"],[0.2222222222222222,\"#7201a8\"],[0.3333333333333333,\"#9c179e\"],[0.4444444444444444,\"#bd3786\"],[0.5555555555555556,\"#d8576b\"],[0.6666666666666666,\"#ed7953\"],[0.7777777777777778,\"#fb9f3a\"],[0.8888888888888888,\"#fdca26\"],[1.0,\"#f0f921\"]],\"sequentialminus\":[[0.0,\"#0d0887\"],[0.1111111111111111,\"#46039f\"],[0.2222222222222222,\"#7201a8\"],[0.3333333333333333,\"#9c179e\"],[0.4444444444444444,\"#bd3786\"],[0.5555555555555556,\"#d8576b\"],[0.6666666666666666,\"#ed7953\"],[0.7777777777777778,\"#fb9f3a\"],[0.8888888888888888,\"#fdca26\"],[1.0,\"#f0f921\"]]},\"colorway\":[\"#636efa\",\"#EF553B\",\"#00cc96\",\"#ab63fa\",\"#FFA15A\",\"#19d3f3\",\"#FF6692\",\"#B6E880\",\"#FF97FF\",\"#FECB52\"],\"font\":{\"color\":\"#2a3f5f\"},\"geo\":{\"bgcolor\":\"white\",\"lakecolor\":\"white\",\"landcolor\":\"#E5ECF6\",\"showlakes\":true,\"showland\":true,\"subunitcolor\":\"white\"},\"hoverlabel\":{\"align\":\"left\"},\"hovermode\":\"closest\",\"mapbox\":{\"style\":\"light\"},\"paper_bgcolor\":\"white\",\"plot_bgcolor\":\"#E5ECF6\",\"polar\":{\"angularaxis\":{\"gridcolor\":\"white\",\"linecolor\":\"white\",\"ticks\":\"\"},\"bgcolor\":\"#E5ECF6\",\"radialaxis\":{\"gridcolor\":\"white\",\"linecolor\":\"white\",\"ticks\":\"\"}},\"scene\":{\"xaxis\":{\"backgroundcolor\":\"#E5ECF6\",\"gridcolor\":\"white\",\"gridwidth\":2,\"linecolor\":\"white\",\"showbackground\":true,\"ticks\":\"\",\"zerolinecolor\":\"white\"},\"yaxis\":{\"backgroundcolor\":\"#E5ECF6\",\"gridcolor\":\"white\",\"gridwidth\":2,\"linecolor\":\"white\",\"showbackground\":true,\"ticks\":\"\",\"zerolinecolor\":\"white\"},\"zaxis\":{\"backgroundcolor\":\"#E5ECF6\",\"gridcolor\":\"white\",\"gridwidth\":2,\"linecolor\":\"white\",\"showbackground\":true,\"ticks\":\"\",\"zerolinecolor\":\"white\"}},\"shapedefaults\":{\"line\":{\"color\":\"#2a3f5f\"}},\"ternary\":{\"aaxis\":{\"gridcolor\":\"white\",\"linecolor\":\"white\",\"ticks\":\"\"},\"baxis\":{\"gridcolor\":\"white\",\"linecolor\":\"white\",\"ticks\":\"\"},\"bgcolor\":\"#E5ECF6\",\"caxis\":{\"gridcolor\":\"white\",\"linecolor\":\"white\",\"ticks\":\"\"}},\"title\":{\"x\":0.05},\"xaxis\":{\"automargin\":true,\"gridcolor\":\"white\",\"linecolor\":\"white\",\"ticks\":\"\",\"title\":{\"standoff\":15},\"zerolinecolor\":\"white\",\"zerolinewidth\":2},\"yaxis\":{\"automargin\":true,\"gridcolor\":\"white\",\"linecolor\":\"white\",\"ticks\":\"\",\"title\":{\"standoff\":15},\"zerolinecolor\":\"white\",\"zerolinewidth\":2}}},\"xaxis\":{\"anchor\":\"y\",\"domain\":[0.0,1.0],\"title\":{\"text\":\"mes_ano\"}},\"yaxis\":{\"anchor\":\"x\",\"domain\":[0.0,1.0],\"title\":{\"text\":\"value\"}},\"legend\":{\"title\":{\"text\":\"variable\"},\"tracegroupgap\":0},\"margin\":{\"t\":60},\"title\":{\"text\":\"Ajuste Ene-2014, Mar-2020\"}},                        {\"responsive\": true}                    ).then(function(){\n",
       "                            \n",
       "var gd = document.getElementById('3df9b8e0-747a-49df-9286-10e02d2ec5d1');\n",
       "var x = new MutationObserver(function (mutations, observer) {{\n",
       "        var display = window.getComputedStyle(gd).display;\n",
       "        if (!display || display === 'none') {{\n",
       "            console.log([gd, 'removed!']);\n",
       "            Plotly.purge(gd);\n",
       "            observer.disconnect();\n",
       "        }}\n",
       "}});\n",
       "\n",
       "// Listen for the removal of the full notebook cells\n",
       "var notebookContainer = gd.closest('#notebook-container');\n",
       "if (notebookContainer) {{\n",
       "    x.observe(notebookContainer, {childList: true});\n",
       "}}\n",
       "\n",
       "// Listen for the clearing of the current output cell\n",
       "var outputEl = gd.closest('.output');\n",
       "if (outputEl) {{\n",
       "    x.observe(outputEl, {childList: true});\n",
       "}}\n",
       "\n",
       "                        })                };                });            </script>        </div>"
      ]
     },
     "metadata": {},
     "output_type": "display_data"
    }
   ],
   "source": [
    "d = {'activar': data2.iloc[:88,9] ,'estimados': modelo.fittedvalues}\n",
    "ajuste = pd.DataFrame(d)\n",
    "fig = px.line(\n",
    "    data_frame=ajuste, \n",
    ")\n",
    "fig.update_layout(title='Ajuste Ene-2014, Mar-2020')\n",
    "fig.show()"
   ]
  },
  {
   "cell_type": "code",
   "execution_count": 15,
   "id": "c7f30fa6",
   "metadata": {},
   "outputs": [],
   "source": [
    "#ajuste.plot()"
   ]
  },
  {
   "cell_type": "code",
   "execution_count": 69,
   "id": "385861df",
   "metadata": {},
   "outputs": [
    {
     "name": "stdout",
     "output_type": "stream",
     "text": [
      "0.005983536798284533\n",
      "5.74162564828901e-05\n"
     ]
    }
   ],
   "source": [
    "from sklearn.metrics import mean_absolute_error\n",
    "neg_mae = mean_absolute_error(data2.iloc[:69,9], modelo.fittedvalues)\n",
    "print(neg_mae)\n",
    "from sklearn.metrics import mean_squared_error\n",
    "neg_msr = mean_squared_error(data2.iloc[:69,9], modelo.fittedvalues)\n",
    "print(neg_msr)\n",
    "# No tomar encuenta por que se dispara cuando los valores son cercanos a 0\n",
    "#from sklearn.metrics import mean_absolute_percentage_error\n",
    "#neg_mape = mean_absolute_percentage_error(data2.iloc[:68,0], modelo.fittedvalues)\n",
    "# print(neg_mape) "
   ]
  },
  {
   "cell_type": "code",
   "execution_count": 70,
   "id": "105e7d52",
   "metadata": {},
   "outputs": [],
   "source": [
    "# Evaluacion de Residuos"
   ]
  },
  {
   "cell_type": "code",
   "execution_count": 68,
   "id": "c245d63d",
   "metadata": {},
   "outputs": [
    {
     "data": {
      "text/plain": [
       "<AxesSubplot:xlabel='mes_ano'>"
      ]
     },
     "execution_count": 68,
     "metadata": {},
     "output_type": "execute_result"
    },
    {
     "data": {
      "image/png": "[encoded data removed]",
      "text/plain": [
       "<Figure size 432x288 with 1 Axes>"
      ]
     },
     "metadata": {
      "needs_background": "light"
     },
     "output_type": "display_data"
    }
   ],
   "source": [
    "#modelo.plot_diagnostics()\n",
    "modelo.resid.plot()"
   ]
  },
  {
   "cell_type": "code",
   "execution_count": 72,
   "id": "f72af460",
   "metadata": {},
   "outputs": [
    {
     "data": {
      "text/plain": [
       "mes_ano\n",
       "2018-05-01   -0.007162\n",
       "2015-07-01   -0.005527\n",
       "2017-01-01   -0.005105\n",
       "2016-08-01   -0.004714\n",
       "2020-01-01   -0.004662\n",
       "                ...   \n",
       "2017-04-01    0.005852\n",
       "2018-11-01    0.005932\n",
       "2016-10-01    0.006072\n",
       "2015-08-01    0.006829\n",
       "2019-07-01    0.008665\n",
       "Length: 69, dtype: float64"
      ]
     },
     "execution_count": 72,
     "metadata": {},
     "output_type": "execute_result"
    }
   ],
   "source": [
    "ver = modelo.resid.dropna().sort_values()\n",
    "ver"
   ]
  },
  {
   "cell_type": "code",
   "execution_count": 27,
   "id": "7e7ef462",
   "metadata": {},
   "outputs": [],
   "source": [
    "# Identificacion de dummies"
   ]
  },
  {
   "cell_type": "code",
   "execution_count": 75,
   "id": "617f2a4c",
   "metadata": {},
   "outputs": [],
   "source": [
    "residuos = pd.Series(modelo.resid)\n",
    "residuos = residuos - residuos\n",
    "#residuos"
   ]
  },
  {
   "cell_type": "code",
   "execution_count": 78,
   "id": "b436994b",
   "metadata": {},
   "outputs": [],
   "source": [
    "z = residuos['2018-05-01':'2018-04-01'] +1\n",
    "z\n",
    "d2018_05 = z+residuos\n",
    "d2018_05 = d2018_05.fillna(0)"
   ]
  },
  {
   "cell_type": "code",
   "execution_count": 80,
   "id": "9406fbf5",
   "metadata": {},
   "outputs": [],
   "source": [
    "z = residuos['2019-07-01':'2019-07-01'] +1\n",
    "z\n",
    "d2019_07 = z+residuos\n",
    "d2019_07 = d2019_07.fillna(0)"
   ]
  },
  {
   "cell_type": "code",
   "execution_count": 81,
   "id": "be5f0b22",
   "metadata": {},
   "outputs": [
    {
     "data": {
      "text/plain": [
       "Index(['pollo', 'pconst_interior', 'zl_impm', 'construcción', 'intm', 'bvpsi',\n",
       "       'vacuno', 'g_electricidad', 'activar', 'pasivar'],\n",
       "      dtype='object')"
      ]
     },
     "execution_count": 81,
     "metadata": {},
     "output_type": "execute_result"
    }
   ],
   "source": [
    "data2.columns"
   ]
  },
  {
   "cell_type": "code",
   "execution_count": null,
   "id": "efcf4ce8",
   "metadata": {},
   "outputs": [],
   "source": []
  },
  {
   "cell_type": "code",
   "execution_count": 82,
   "id": "987f3185",
   "metadata": {},
   "outputs": [
    {
     "data": {
      "text/plain": [
       "Index(['pollo', 'pconst_interior', 'zl_impm', 'construcción', 'intm', 'bvpsi',\n",
       "       'vacuno', 'g_electricidad', 'activar', 'pasivar', 'd2018_05',\n",
       "       'd2019_07'],\n",
       "      dtype='object')"
      ]
     },
     "execution_count": 82,
     "metadata": {},
     "output_type": "execute_result"
    }
   ],
   "source": [
    "data3 = pd.concat([data2,d2018_05,d2019_07], axis = 1)\n",
    "data3.columns= ['pollo', 'pconst_interior', 'zl_impm', 'construcción', 'intm', 'bvpsi',\n",
    "               'vacuno', 'g_electricidad', 'activar', 'pasivar', 'd2018_05','d2019_07']\n",
    "data3['d2018_05'] = data3['d2018_05'].fillna(0)\n",
    "data3['d2019_07'] = data3['d2019_07'].fillna(0)\n",
    "data3.columns"
   ]
  },
  {
   "cell_type": "code",
   "execution_count": 83,
   "id": "269c2ad9",
   "metadata": {},
   "outputs": [
    {
     "name": "stdout",
     "output_type": "stream",
     "text": [
      "El valor de DW =  2.0888219968303243\n",
      "Test de Heterocedasticidad       ARCH-LM   P-value  DF\n",
      "Lag                        \n",
      "1    1.353514  0.244665   1\n",
      "2    1.868187  0.392942   2\n",
      "3    2.854465  0.414612   3\n",
      "4    4.163187  0.384371   4\n",
      "5    4.382078  0.495814   5\n",
      "6    4.316456  0.633935   6\n",
      "7    4.655304  0.701944   7\n",
      "8    4.820298  0.776599   8\n",
      "9    6.423657  0.696881   9\n",
      "10   7.043819  0.721302  10\n",
      "Test de Normalidad Jarque-Bera    0.074152\n",
      "P-value        0.963603\n",
      "Skewness       0.057685\n",
      "Kurtosis       2.884885\n",
      "dtype: float64\n"
     ]
    },
    {
     "name": "stderr",
     "output_type": "stream",
     "text": [
      "C:\\Users\\vblanco\\Anaconda3\\lib\\site-packages\\statsmodels\\tsa\\ardl\\model.py:158: SpecificationWarning:\n",
      "\n",
      "exog contains variables that are missing from the order dictionary.  Missing keys: activar, bvpsi, construcción, intm.\n",
      "\n"
     ]
    }
   ],
   "source": [
    "modelo_1 = ARDL(\n",
    "    data3.activar, 6,\n",
    "    data3[['pollo', 'pconst_interior', 'zl_impm', 'construcción', 'intm', 'bvpsi',\n",
    "               'vacuno', 'g_electricidad', 'activar', 'pasivar', 'd2018_05','d2019_07']],\n",
    "            {'pollo':2, 'pconst_interior':2, 'zl_impm':4, 'vacuno':0, 'g_electricidad':1,\n",
    "             'pasivar':4, 'd2018_05':0,'d2019_07':0},\n",
    "    trend=\"c\",\n",
    "    seasonal=True,\n",
    "    period= 12\n",
    ").fit()\n",
    "heterocedasticidad = modelo_1.test_heteroskedasticity()\n",
    "normalidad = modelo_1.test_normality()\n",
    "dw = durbin_watson(modelo_1.resid)\n",
    "print('El valor de DW = ', dw)\n",
    "print('Test de Heterocedasticidad',heterocedasticidad)\n",
    "print('Test de Normalidad',normalidad)"
   ]
  },
  {
   "cell_type": "code",
   "execution_count": 84,
   "id": "ed724f08",
   "metadata": {},
   "outputs": [
    {
     "data": {
      "text/html": [
       "<table class=\"simpletable\">\n",
       "<caption>ARDL Model Results</caption>\n",
       "<tr>\n",
       "  <th>Dep. Variable:</th>                <td>activar</td>                <th>  No. Observations:  </th>    <td>73</td>   \n",
       "</tr>\n",
       "<tr>\n",
       "  <th>Model:</th>         <td>Seas. ARDL(6, 2, 2, 4, 0, 1, 4, 0, 0)</td> <th>  Log Likelihood     </th>  <td>307.648</td>\n",
       "</tr>\n",
       "<tr>\n",
       "  <th>Method:</th>                   <td>Conditional MLE</td>            <th>  S.D. of innovations</th>   <td>0.002</td> \n",
       "</tr>\n",
       "<tr>\n",
       "  <th>Date:</th>                    <td>Fri, 22 Apr 2022</td>            <th>  AIC                </th> <td>-535.296</td>\n",
       "</tr>\n",
       "<tr>\n",
       "  <th>Time:</th>                        <td>15:44:27</td>                <th>  BIC                </th> <td>-447.108</td>\n",
       "</tr>\n",
       "<tr>\n",
       "  <th>Sample:</th>                     <td>09-01-2014</td>               <th>  HQIC               </th> <td>-500.399</td>\n",
       "</tr>\n",
       "<tr>\n",
       "  <th></th>                           <td>- 03-01-2020</td>              <th>                     </th>     <td> </td>   \n",
       "</tr>\n",
       "</table>\n",
       "<table class=\"simpletable\">\n",
       "<tr>\n",
       "           <td></td>             <th>coef</th>     <th>std err</th>      <th>z</th>      <th>P>|z|</th>  <th>[0.025</th>    <th>0.975]</th>  \n",
       "</tr>\n",
       "<tr>\n",
       "  <th>const</th>              <td>   -0.0024</td> <td>    0.025</td> <td>   -0.095</td> <td> 0.925</td> <td>   -0.054</td> <td>    0.049</td>\n",
       "</tr>\n",
       "<tr>\n",
       "  <th>s(2,12)</th>            <td>    0.0065</td> <td>    0.006</td> <td>    1.018</td> <td> 0.317</td> <td>   -0.007</td> <td>    0.020</td>\n",
       "</tr>\n",
       "<tr>\n",
       "  <th>s(3,12)</th>            <td>    0.0095</td> <td>    0.005</td> <td>    2.088</td> <td> 0.046</td> <td>    0.000</td> <td>    0.019</td>\n",
       "</tr>\n",
       "<tr>\n",
       "  <th>s(4,12)</th>            <td>    0.0045</td> <td>    0.005</td> <td>    1.001</td> <td> 0.326</td> <td>   -0.005</td> <td>    0.014</td>\n",
       "</tr>\n",
       "<tr>\n",
       "  <th>s(5,12)</th>            <td>    0.0051</td> <td>    0.005</td> <td>    1.080</td> <td> 0.289</td> <td>   -0.005</td> <td>    0.015</td>\n",
       "</tr>\n",
       "<tr>\n",
       "  <th>s(6,12)</th>            <td>    0.0055</td> <td>    0.004</td> <td>    1.441</td> <td> 0.161</td> <td>   -0.002</td> <td>    0.013</td>\n",
       "</tr>\n",
       "<tr>\n",
       "  <th>s(7,12)</th>            <td>    0.0105</td> <td>    0.005</td> <td>    2.203</td> <td> 0.036</td> <td>    0.001</td> <td>    0.020</td>\n",
       "</tr>\n",
       "<tr>\n",
       "  <th>s(8,12)</th>            <td>    0.0019</td> <td>    0.004</td> <td>    0.544</td> <td> 0.591</td> <td>   -0.005</td> <td>    0.009</td>\n",
       "</tr>\n",
       "<tr>\n",
       "  <th>s(9,12)</th>            <td>    0.0051</td> <td>    0.005</td> <td>    1.017</td> <td> 0.318</td> <td>   -0.005</td> <td>    0.015</td>\n",
       "</tr>\n",
       "<tr>\n",
       "  <th>s(10,12)</th>           <td>    0.0059</td> <td>    0.003</td> <td>    1.756</td> <td> 0.090</td> <td>   -0.001</td> <td>    0.013</td>\n",
       "</tr>\n",
       "<tr>\n",
       "  <th>s(11,12)</th>           <td>    0.0055</td> <td>    0.005</td> <td>    1.152</td> <td> 0.259</td> <td>   -0.004</td> <td>    0.015</td>\n",
       "</tr>\n",
       "<tr>\n",
       "  <th>s(12,12)</th>           <td>    0.0104</td> <td>    0.006</td> <td>    1.748</td> <td> 0.091</td> <td>   -0.002</td> <td>    0.022</td>\n",
       "</tr>\n",
       "<tr>\n",
       "  <th>activar.L1</th>         <td>   -0.1442</td> <td>    0.151</td> <td>   -0.955</td> <td> 0.348</td> <td>   -0.453</td> <td>    0.165</td>\n",
       "</tr>\n",
       "<tr>\n",
       "  <th>activar.L2</th>         <td>   -0.3068</td> <td>    0.141</td> <td>   -2.179</td> <td> 0.038</td> <td>   -0.595</td> <td>   -0.018</td>\n",
       "</tr>\n",
       "<tr>\n",
       "  <th>activar.L3</th>         <td>   -0.4568</td> <td>    0.142</td> <td>   -3.207</td> <td> 0.003</td> <td>   -0.749</td> <td>   -0.165</td>\n",
       "</tr>\n",
       "<tr>\n",
       "  <th>activar.L4</th>         <td>   -0.2375</td> <td>    0.123</td> <td>   -1.932</td> <td> 0.064</td> <td>   -0.489</td> <td>    0.014</td>\n",
       "</tr>\n",
       "<tr>\n",
       "  <th>activar.L5</th>         <td>   -0.1174</td> <td>    0.115</td> <td>   -1.022</td> <td> 0.316</td> <td>   -0.353</td> <td>    0.118</td>\n",
       "</tr>\n",
       "<tr>\n",
       "  <th>activar.L6</th>         <td>   -0.0147</td> <td>    0.118</td> <td>   -0.125</td> <td> 0.902</td> <td>   -0.257</td> <td>    0.227</td>\n",
       "</tr>\n",
       "<tr>\n",
       "  <th>pollo.L0</th>           <td>    0.0004</td> <td>    0.001</td> <td>    0.581</td> <td> 0.566</td> <td>   -0.001</td> <td>    0.002</td>\n",
       "</tr>\n",
       "<tr>\n",
       "  <th>pollo.L1</th>           <td>   -0.0006</td> <td>    0.001</td> <td>   -0.856</td> <td> 0.399</td> <td>   -0.002</td> <td>    0.001</td>\n",
       "</tr>\n",
       "<tr>\n",
       "  <th>pollo.L2</th>           <td>    0.0008</td> <td>    0.001</td> <td>    1.266</td> <td> 0.216</td> <td>   -0.001</td> <td>    0.002</td>\n",
       "</tr>\n",
       "<tr>\n",
       "  <th>pconst_interior.L0</th> <td>   -0.0013</td> <td>    0.002</td> <td>   -0.763</td> <td> 0.452</td> <td>   -0.005</td> <td>    0.002</td>\n",
       "</tr>\n",
       "<tr>\n",
       "  <th>pconst_interior.L1</th> <td>   -0.0032</td> <td>    0.002</td> <td>   -2.073</td> <td> 0.048</td> <td>   -0.006</td> <td> -3.8e-05</td>\n",
       "</tr>\n",
       "<tr>\n",
       "  <th>pconst_interior.L2</th> <td>    0.0037</td> <td>    0.002</td> <td>    2.416</td> <td> 0.022</td> <td>    0.001</td> <td>    0.007</td>\n",
       "</tr>\n",
       "<tr>\n",
       "  <th>zl_impm.L0</th>         <td>   -0.0131</td> <td>    0.006</td> <td>   -2.310</td> <td> 0.028</td> <td>   -0.025</td> <td>   -0.001</td>\n",
       "</tr>\n",
       "<tr>\n",
       "  <th>zl_impm.L1</th>         <td>    0.0114</td> <td>    0.007</td> <td>    1.609</td> <td> 0.119</td> <td>   -0.003</td> <td>    0.026</td>\n",
       "</tr>\n",
       "<tr>\n",
       "  <th>zl_impm.L2</th>         <td>   -0.0008</td> <td>    0.009</td> <td>   -0.081</td> <td> 0.936</td> <td>   -0.020</td> <td>    0.018</td>\n",
       "</tr>\n",
       "<tr>\n",
       "  <th>zl_impm.L3</th>         <td>    0.0107</td> <td>    0.009</td> <td>    1.253</td> <td> 0.221</td> <td>   -0.007</td> <td>    0.028</td>\n",
       "</tr>\n",
       "<tr>\n",
       "  <th>zl_impm.L4</th>         <td>   -0.0090</td> <td>    0.008</td> <td>   -1.157</td> <td> 0.257</td> <td>   -0.025</td> <td>    0.007</td>\n",
       "</tr>\n",
       "<tr>\n",
       "  <th>vacuno.L0</th>          <td>    0.0078</td> <td>    0.012</td> <td>    0.674</td> <td> 0.506</td> <td>   -0.016</td> <td>    0.032</td>\n",
       "</tr>\n",
       "<tr>\n",
       "  <th>g_electricidad.L0</th>  <td>    0.0201</td> <td>    0.027</td> <td>    0.738</td> <td> 0.467</td> <td>   -0.036</td> <td>    0.076</td>\n",
       "</tr>\n",
       "<tr>\n",
       "  <th>g_electricidad.L1</th>  <td>   -0.0252</td> <td>    0.035</td> <td>   -0.717</td> <td> 0.480</td> <td>   -0.097</td> <td>    0.047</td>\n",
       "</tr>\n",
       "<tr>\n",
       "  <th>pasivar.L0</th>         <td>    0.3851</td> <td>    0.105</td> <td>    3.676</td> <td> 0.001</td> <td>    0.171</td> <td>    0.600</td>\n",
       "</tr>\n",
       "<tr>\n",
       "  <th>pasivar.L1</th>         <td>    0.3216</td> <td>    0.135</td> <td>    2.388</td> <td> 0.024</td> <td>    0.046</td> <td>    0.597</td>\n",
       "</tr>\n",
       "<tr>\n",
       "  <th>pasivar.L2</th>         <td>    0.4020</td> <td>    0.135</td> <td>    2.974</td> <td> 0.006</td> <td>    0.125</td> <td>    0.679</td>\n",
       "</tr>\n",
       "<tr>\n",
       "  <th>pasivar.L3</th>         <td>    0.4293</td> <td>    0.143</td> <td>    2.997</td> <td> 0.006</td> <td>    0.136</td> <td>    0.723</td>\n",
       "</tr>\n",
       "<tr>\n",
       "  <th>pasivar.L4</th>         <td>    0.2718</td> <td>    0.128</td> <td>    2.124</td> <td> 0.043</td> <td>    0.010</td> <td>    0.534</td>\n",
       "</tr>\n",
       "<tr>\n",
       "  <th>d2018_05.L0</th>        <td>         0</td> <td>        0</td> <td>      nan</td> <td>   nan</td> <td>        0</td> <td>        0</td>\n",
       "</tr>\n",
       "<tr>\n",
       "  <th>d2019_07.L0</th>        <td>    0.0146</td> <td>    0.005</td> <td>    2.940</td> <td> 0.007</td> <td>    0.004</td> <td>    0.025</td>\n",
       "</tr>\n",
       "</table>"
      ],
      "text/plain": [
       "<class 'statsmodels.iolib.summary.Summary'>\n",
       "\"\"\"\n",
       "                                        ARDL Model Results                                       \n",
       "=================================================================================================\n",
       "Dep. Variable:                                   activar   No. Observations:                   73\n",
       "Model:             Seas. ARDL(6, 2, 2, 4, 0, 1, 4, 0, 0)   Log Likelihood                 307.648\n",
       "Method:                                  Conditional MLE   S.D. of innovations              0.002\n",
       "Date:                                   Fri, 22 Apr 2022   AIC                           -535.296\n",
       "Time:                                           15:44:27   BIC                           -447.108\n",
       "Sample:                                       09-01-2014   HQIC                          -500.399\n",
       "                                            - 03-01-2020                                         \n",
       "======================================================================================\n",
       "                         coef    std err          z      P>|z|      [0.025      0.975]\n",
       "--------------------------------------------------------------------------------------\n",
       "const                 -0.0024      0.025     -0.095      0.925      -0.054       0.049\n",
       "s(2,12)                0.0065      0.006      1.018      0.317      -0.007       0.020\n",
       "s(3,12)                0.0095      0.005      2.088      0.046       0.000       0.019\n",
       "s(4,12)                0.0045      0.005      1.001      0.326      -0.005       0.014\n",
       "s(5,12)                0.0051      0.005      1.080      0.289      -0.005       0.015\n",
       "s(6,12)                0.0055      0.004      1.441      0.161      -0.002       0.013\n",
       "s(7,12)                0.0105      0.005      2.203      0.036       0.001       0.020\n",
       "s(8,12)                0.0019      0.004      0.544      0.591      -0.005       0.009\n",
       "s(9,12)                0.0051      0.005      1.017      0.318      -0.005       0.015\n",
       "s(10,12)               0.0059      0.003      1.756      0.090      -0.001       0.013\n",
       "s(11,12)               0.0055      0.005      1.152      0.259      -0.004       0.015\n",
       "s(12,12)               0.0104      0.006      1.748      0.091      -0.002       0.022\n",
       "activar.L1            -0.1442      0.151     -0.955      0.348      -0.453       0.165\n",
       "activar.L2            -0.3068      0.141     -2.179      0.038      -0.595      -0.018\n",
       "activar.L3            -0.4568      0.142     -3.207      0.003      -0.749      -0.165\n",
       "activar.L4            -0.2375      0.123     -1.932      0.064      -0.489       0.014\n",
       "activar.L5            -0.1174      0.115     -1.022      0.316      -0.353       0.118\n",
       "activar.L6            -0.0147      0.118     -0.125      0.902      -0.257       0.227\n",
       "pollo.L0               0.0004      0.001      0.581      0.566      -0.001       0.002\n",
       "pollo.L1              -0.0006      0.001     -0.856      0.399      -0.002       0.001\n",
       "pollo.L2               0.0008      0.001      1.266      0.216      -0.001       0.002\n",
       "pconst_interior.L0    -0.0013      0.002     -0.763      0.452      -0.005       0.002\n",
       "pconst_interior.L1    -0.0032      0.002     -2.073      0.048      -0.006    -3.8e-05\n",
       "pconst_interior.L2     0.0037      0.002      2.416      0.022       0.001       0.007\n",
       "zl_impm.L0            -0.0131      0.006     -2.310      0.028      -0.025      -0.001\n",
       "zl_impm.L1             0.0114      0.007      1.609      0.119      -0.003       0.026\n",
       "zl_impm.L2            -0.0008      0.009     -0.081      0.936      -0.020       0.018\n",
       "zl_impm.L3             0.0107      0.009      1.253      0.221      -0.007       0.028\n",
       "zl_impm.L4            -0.0090      0.008     -1.157      0.257      -0.025       0.007\n",
       "vacuno.L0              0.0078      0.012      0.674      0.506      -0.016       0.032\n",
       "g_electricidad.L0      0.0201      0.027      0.738      0.467      -0.036       0.076\n",
       "g_electricidad.L1     -0.0252      0.035     -0.717      0.480      -0.097       0.047\n",
       "pasivar.L0             0.3851      0.105      3.676      0.001       0.171       0.600\n",
       "pasivar.L1             0.3216      0.135      2.388      0.024       0.046       0.597\n",
       "pasivar.L2             0.4020      0.135      2.974      0.006       0.125       0.679\n",
       "pasivar.L3             0.4293      0.143      2.997      0.006       0.136       0.723\n",
       "pasivar.L4             0.2718      0.128      2.124      0.043       0.010       0.534\n",
       "d2018_05.L0                 0          0        nan        nan           0           0\n",
       "d2019_07.L0            0.0146      0.005      2.940      0.007       0.004       0.025\n",
       "======================================================================================\n",
       "\"\"\""
      ]
     },
     "execution_count": 84,
     "metadata": {},
     "output_type": "execute_result"
    }
   ],
   "source": [
    "modelo_1.summary()"
   ]
  },
  {
   "cell_type": "code",
   "execution_count": 86,
   "id": "4d49a424",
   "metadata": {},
   "outputs": [
    {
     "data": {
      "image/png": "[encoded data removed]",
      "text/plain": [
       "<Figure size 432x288 with 4 Axes>"
      ]
     },
     "execution_count": 86,
     "metadata": {},
     "output_type": "execute_result"
    },
    {
     "data": {
      "image/png": "[encoded data removed]",
      "text/plain": [
       "<Figure size 432x288 with 4 Axes>"
      ]
     },
     "metadata": {
      "needs_background": "light"
     },
     "output_type": "display_data"
    }
   ],
   "source": [
    "modelo_1.plot_diagnostics()"
   ]
  },
  {
   "cell_type": "code",
   "execution_count": 87,
   "id": "861ab834",
   "metadata": {},
   "outputs": [
    {
     "data": {
      "application/vnd.plotly.v1+json": {
       "config": {
        "plotlyServerURL": "https://plot.ly"
       },
       "data": [
        {
         "hovertemplate": "variable=activar<br>mes_ano=%{x}<br>value=%{y}<extra></extra>",
         "legendgroup": "activar",
         "line": {
          "color": "#636efa",
          "dash": "solid"
         },
         "marker": {
          "symbol": "circle"
         },
         "mode": "lines",
         "name": "activar",
         "orientation": "v",
         "showlegend": true,
         "type": "scatter",
         "x": [
          "2014-03-01T00:00:00",
          "2014-04-01T00:00:00",
          "2014-05-01T00:00:00",
          "2014-06-01T00:00:00",
          "2014-07-01T00:00:00",
          "2014-08-01T00:00:00",
          "2014-09-01T00:00:00",
          "2014-10-01T00:00:00",
          "2014-11-01T00:00:00",
          "2014-12-01T00:00:00",
          "2015-01-01T00:00:00",
          "2015-02-01T00:00:00",
          "2015-03-01T00:00:00",
          "2015-04-01T00:00:00",
          "2015-05-01T00:00:00",
          "2015-06-01T00:00:00",
          "2015-07-01T00:00:00",
          "2015-08-01T00:00:00",
          "2015-09-01T00:00:00",
          "2015-10-01T00:00:00",
          "2015-11-01T00:00:00",
          "2015-12-01T00:00:00",
          "2016-01-01T00:00:00",
          "2016-02-01T00:00:00",
          "2016-03-01T00:00:00",
          "2016-04-01T00:00:00",
          "2016-05-01T00:00:00",
          "2016-06-01T00:00:00",
          "2016-07-01T00:00:00",
          "2016-08-01T00:00:00",
          "2016-09-01T00:00:00",
          "2016-10-01T00:00:00",
          "2016-11-01T00:00:00",
          "2016-12-01T00:00:00",
          "2017-01-01T00:00:00",
          "2017-02-01T00:00:00",
          "2017-03-01T00:00:00",
          "2017-04-01T00:00:00",
          "2017-05-01T00:00:00",
          "2017-06-01T00:00:00",
          "2017-07-01T00:00:00",
          "2017-08-01T00:00:00",
          "2017-09-01T00:00:00",
          "2017-10-01T00:00:00",
          "2017-11-01T00:00:00",
          "2017-12-01T00:00:00",
          "2018-01-01T00:00:00",
          "2018-02-01T00:00:00",
          "2018-03-01T00:00:00",
          "2018-04-01T00:00:00",
          "2018-05-01T00:00:00",
          "2018-06-01T00:00:00",
          "2018-07-01T00:00:00",
          "2018-08-01T00:00:00",
          "2018-09-01T00:00:00",
          "2018-10-01T00:00:00",
          "2018-11-01T00:00:00",
          "2018-12-01T00:00:00",
          "2019-01-01T00:00:00",
          "2019-02-01T00:00:00",
          "2019-03-01T00:00:00",
          "2019-04-01T00:00:00",
          "2019-05-01T00:00:00",
          "2019-06-01T00:00:00",
          "2019-07-01T00:00:00",
          "2019-08-01T00:00:00",
          "2019-09-01T00:00:00",
          "2019-10-01T00:00:00",
          "2019-11-01T00:00:00",
          "2019-12-01T00:00:00",
          "2020-01-01T00:00:00",
          "2020-02-01T00:00:00",
          "2020-03-01T00:00:00"
         ],
         "xaxis": "x",
         "y": [
          0,
          0,
          0,
          0,
          0.0100503358535014,
          0,
          -0.0100503358535014,
          0.0100503358535014,
          0.009950330853168,
          0,
          0,
          0.0196084713883763,
          -0.0097561749453646,
          0,
          0,
          0,
          -0.0098522964430116,
          0.0098522964430116,
          0.0097561749453646,
          -0.0097561749453646,
          0,
          0,
          0,
          -0.0098522964430116,
          0.0098522964430116,
          0,
          0,
          0,
          0,
          0,
          -0.0098522964430116,
          0,
          0,
          0,
          0,
          -0.009950330853168,
          0.009950330853168,
          0,
          0,
          0,
          0.0098522964430116,
          -0.0098522964430116,
          0.0098522964430116,
          0,
          0,
          0,
          -0.0098522964430116,
          0,
          0,
          0,
          0,
          0,
          -0.009950330853168,
          0.009950330853168,
          0,
          0,
          0,
          0.0098522964430116,
          0,
          0.0097561749453646,
          -0.0097561749453646,
          0,
          0,
          0.0097561749453646,
          -0.0097561749453646,
          0.0097561749453646,
          0,
          0,
          0,
          -0.0097561749453646,
          0,
          0,
          0.0097561749453646
         ],
         "yaxis": "y"
        },
        {
         "hovertemplate": "variable=estimados<br>mes_ano=%{x}<br>value=%{y}<extra></extra>",
         "legendgroup": "estimados",
         "line": {
          "color": "#EF553B",
          "dash": "solid"
         },
         "marker": {
          "symbol": "circle"
         },
         "mode": "lines",
         "name": "estimados",
         "orientation": "v",
         "showlegend": true,
         "type": "scatter",
         "x": [
          "2014-03-01T00:00:00",
          "2014-04-01T00:00:00",
          "2014-05-01T00:00:00",
          "2014-06-01T00:00:00",
          "2014-07-01T00:00:00",
          "2014-08-01T00:00:00",
          "2014-09-01T00:00:00",
          "2014-10-01T00:00:00",
          "2014-11-01T00:00:00",
          "2014-12-01T00:00:00",
          "2015-01-01T00:00:00",
          "2015-02-01T00:00:00",
          "2015-03-01T00:00:00",
          "2015-04-01T00:00:00",
          "2015-05-01T00:00:00",
          "2015-06-01T00:00:00",
          "2015-07-01T00:00:00",
          "2015-08-01T00:00:00",
          "2015-09-01T00:00:00",
          "2015-10-01T00:00:00",
          "2015-11-01T00:00:00",
          "2015-12-01T00:00:00",
          "2016-01-01T00:00:00",
          "2016-02-01T00:00:00",
          "2016-03-01T00:00:00",
          "2016-04-01T00:00:00",
          "2016-05-01T00:00:00",
          "2016-06-01T00:00:00",
          "2016-07-01T00:00:00",
          "2016-08-01T00:00:00",
          "2016-09-01T00:00:00",
          "2016-10-01T00:00:00",
          "2016-11-01T00:00:00",
          "2016-12-01T00:00:00",
          "2017-01-01T00:00:00",
          "2017-02-01T00:00:00",
          "2017-03-01T00:00:00",
          "2017-04-01T00:00:00",
          "2017-05-01T00:00:00",
          "2017-06-01T00:00:00",
          "2017-07-01T00:00:00",
          "2017-08-01T00:00:00",
          "2017-09-01T00:00:00",
          "2017-10-01T00:00:00",
          "2017-11-01T00:00:00",
          "2017-12-01T00:00:00",
          "2018-01-01T00:00:00",
          "2018-02-01T00:00:00",
          "2018-03-01T00:00:00",
          "2018-04-01T00:00:00",
          "2018-05-01T00:00:00",
          "2018-06-01T00:00:00",
          "2018-07-01T00:00:00",
          "2018-08-01T00:00:00",
          "2018-09-01T00:00:00",
          "2018-10-01T00:00:00",
          "2018-11-01T00:00:00",
          "2018-12-01T00:00:00",
          "2019-01-01T00:00:00",
          "2019-02-01T00:00:00",
          "2019-03-01T00:00:00",
          "2019-04-01T00:00:00",
          "2019-05-01T00:00:00",
          "2019-06-01T00:00:00",
          "2019-07-01T00:00:00",
          "2019-08-01T00:00:00",
          "2019-09-01T00:00:00",
          "2019-10-01T00:00:00",
          "2019-11-01T00:00:00",
          "2019-12-01T00:00:00",
          "2020-01-01T00:00:00",
          "2020-02-01T00:00:00",
          "2020-03-01T00:00:00"
         ],
         "xaxis": "x",
         "y": [
          null,
          null,
          null,
          null,
          null,
          null,
          0.0004415391331789445,
          0.002147974835003063,
          0.0022593829577026484,
          0.009495781693349189,
          -0.0007178930558745538,
          0.020798486076165367,
          -0.007837660444971101,
          0.00038200048901027993,
          -0.0011447564562309458,
          0.0010864899160079528,
          -0.00943532561996812,
          0.004543570611798858,
          0.007649558638139316,
          0.0012764835793989597,
          -0.006669119986330278,
          -7.132159662579571e-05,
          -0.00014694543317583992,
          -0.009599935980073266,
          0.0014918178036362616,
          0.004188828449162361,
          0.0079326963166846,
          -0.0014288311788785465,
          0.0038786531075060506,
          -0.007583267225958349,
          0.003261046229431705,
          -0.005542358105376513,
          0.0013512352930051769,
          2.4561750961569494e-05,
          -0.007615032070406104,
          -0.0007454211677665051,
          0.008585835308315604,
          -0.003290203015491589,
          0.004611975784479772,
          -0.0024906494254812402,
          -0.0025762421846309367,
          0.0010181829288499642,
          0.0012476125412833143,
          0.0008086721135772422,
          0.0011149449064523952,
          0.002176927298053349,
          -0.002542718901894213,
          0.0012748665921634831,
          -6.876884906404871e-05,
          -0.008900045441247815,
          0.0060694747896896575,
          0.001795768196612564,
          -0.0013458292574505615,
          0.003664562015141326,
          0.005162896642838166,
          -0.004084651539174644,
          0.0051692567808251984,
          -0.0006405099431031307,
          0.007002370796500598,
          -2.569552141572317e-06,
          -4.2573118407579816e-05,
          -0.0018593244359764683,
          0.001488097474464439,
          0.0010372224917399827,
          0.00930239266231358,
          0.007573606775092759,
          0.0011058311195109032,
          -0.004084864837970239,
          -0.0031366963469493868,
          -0.00141598818648433,
          -0.005376147106384525,
          -0.0023356856185082903,
          0.007267715071727713
         ],
         "yaxis": "y"
        }
       ],
       "layout": {
        "legend": {
         "title": {
          "text": "variable"
         },
         "tracegroupgap": 0
        },
        "margin": {
         "t": 60
        },
        "template": {
         "data": {
          "bar": [
           {
            "error_x": {
             "color": "#2a3f5f"
            },
            "error_y": {
             "color": "#2a3f5f"
            },
            "marker": {
             "line": {
              "color": "#E5ECF6",
              "width": 0.5
             },
             "pattern": {
              "fillmode": "overlay",
              "size": 10,
              "solidity": 0.2
             }
            },
            "type": "bar"
           }
          ],
          "barpolar": [
           {
            "marker": {
             "line": {
              "color": "#E5ECF6",
              "width": 0.5
             },
             "pattern": {
              "fillmode": "overlay",
              "size": 10,
              "solidity": 0.2
             }
            },
            "type": "barpolar"
           }
          ],
          "carpet": [
           {
            "aaxis": {
             "endlinecolor": "#2a3f5f",
             "gridcolor": "white",
             "linecolor": "white",
             "minorgridcolor": "white",
             "startlinecolor": "#2a3f5f"
            },
            "baxis": {
             "endlinecolor": "#2a3f5f",
             "gridcolor": "white",
             "linecolor": "white",
             "minorgridcolor": "white",
             "startlinecolor": "#2a3f5f"
            },
            "type": "carpet"
           }
          ],
          "choropleth": [
           {
            "colorbar": {
             "outlinewidth": 0,
             "ticks": ""
            },
            "type": "choropleth"
           }
          ],
          "contour": [
           {
            "colorbar": {
             "outlinewidth": 0,
             "ticks": ""
            },
            "colorscale": [
             [
              0,
              "#0d0887"
             ],
             [
              0.1111111111111111,
              "#46039f"
             ],
             [
              0.2222222222222222,
              "#7201a8"
             ],
             [
              0.3333333333333333,
              "#9c179e"
             ],
             [
              0.4444444444444444,
              "#bd3786"
             ],
             [
              0.5555555555555556,
              "#d8576b"
             ],
             [
              0.6666666666666666,
              "#ed7953"
             ],
             [
              0.7777777777777778,
              "#fb9f3a"
             ],
             [
              0.8888888888888888,
              "#fdca26"
             ],
             [
              1,
              "#f0f921"
             ]
            ],
            "type": "contour"
           }
          ],
          "contourcarpet": [
           {
            "colorbar": {
             "outlinewidth": 0,
             "ticks": ""
            },
            "type": "contourcarpet"
           }
          ],
          "heatmap": [
           {
            "colorbar": {
             "outlinewidth": 0,
             "ticks": ""
            },
            "colorscale": [
             [
              0,
              "#0d0887"
             ],
             [
              0.1111111111111111,
              "#46039f"
             ],
             [
              0.2222222222222222,
              "#7201a8"
             ],
             [
              0.3333333333333333,
              "#9c179e"
             ],
             [
              0.4444444444444444,
              "#bd3786"
             ],
             [
              0.5555555555555556,
              "#d8576b"
             ],
             [
              0.6666666666666666,
              "#ed7953"
             ],
             [
              0.7777777777777778,
              "#fb9f3a"
             ],
             [
              0.8888888888888888,
              "#fdca26"
             ],
             [
              1,
              "#f0f921"
             ]
            ],
            "type": "heatmap"
           }
          ],
          "heatmapgl": [
           {
            "colorbar": {
             "outlinewidth": 0,
             "ticks": ""
            },
            "colorscale": [
             [
              0,
              "#0d0887"
             ],
             [
              0.1111111111111111,
              "#46039f"
             ],
             [
              0.2222222222222222,
              "#7201a8"
             ],
             [
              0.3333333333333333,
              "#9c179e"
             ],
             [
              0.4444444444444444,
              "#bd3786"
             ],
             [
              0.5555555555555556,
              "#d8576b"
             ],
             [
              0.6666666666666666,
              "#ed7953"
             ],
             [
              0.7777777777777778,
              "#fb9f3a"
             ],
             [
              0.8888888888888888,
              "#fdca26"
             ],
             [
              1,
              "#f0f921"
             ]
            ],
            "type": "heatmapgl"
           }
          ],
          "histogram": [
           {
            "marker": {
             "pattern": {
              "fillmode": "overlay",
              "size": 10,
              "solidity": 0.2
             }
            },
            "type": "histogram"
           }
          ],
          "histogram2d": [
           {
            "colorbar": {
             "outlinewidth": 0,
             "ticks": ""
            },
            "colorscale": [
             [
              0,
              "#0d0887"
             ],
             [
              0.1111111111111111,
              "#46039f"
             ],
             [
              0.2222222222222222,
              "#7201a8"
             ],
             [
              0.3333333333333333,
              "#9c179e"
             ],
             [
              0.4444444444444444,
              "#bd3786"
             ],
             [
              0.5555555555555556,
              "#d8576b"
             ],
             [
              0.6666666666666666,
              "#ed7953"
             ],
             [
              0.7777777777777778,
              "#fb9f3a"
             ],
             [
              0.8888888888888888,
              "#fdca26"
             ],
             [
              1,
              "#f0f921"
             ]
            ],
            "type": "histogram2d"
           }
          ],
          "histogram2dcontour": [
           {
            "colorbar": {
             "outlinewidth": 0,
             "ticks": ""
            },
            "colorscale": [
             [
              0,
              "#0d0887"
             ],
             [
              0.1111111111111111,
              "#46039f"
             ],
             [
              0.2222222222222222,
              "#7201a8"
             ],
             [
              0.3333333333333333,
              "#9c179e"
             ],
             [
              0.4444444444444444,
              "#bd3786"
             ],
             [
              0.5555555555555556,
              "#d8576b"
             ],
             [
              0.6666666666666666,
              "#ed7953"
             ],
             [
              0.7777777777777778,
              "#fb9f3a"
             ],
             [
              0.8888888888888888,
              "#fdca26"
             ],
             [
              1,
              "#f0f921"
             ]
            ],
            "type": "histogram2dcontour"
           }
          ],
          "mesh3d": [
           {
            "colorbar": {
             "outlinewidth": 0,
             "ticks": ""
            },
            "type": "mesh3d"
           }
          ],
          "parcoords": [
           {
            "line": {
             "colorbar": {
              "outlinewidth": 0,
              "ticks": ""
             }
            },
            "type": "parcoords"
           }
          ],
          "pie": [
           {
            "automargin": true,
            "type": "pie"
           }
          ],
          "scatter": [
           {
            "marker": {
             "colorbar": {
              "outlinewidth": 0,
              "ticks": ""
             }
            },
            "type": "scatter"
           }
          ],
          "scatter3d": [
           {
            "line": {
             "colorbar": {
              "outlinewidth": 0,
              "ticks": ""
             }
            },
            "marker": {
             "colorbar": {
              "outlinewidth": 0,
              "ticks": ""
             }
            },
            "type": "scatter3d"
           }
          ],
          "scattercarpet": [
           {
            "marker": {
             "colorbar": {
              "outlinewidth": 0,
              "ticks": ""
             }
            },
            "type": "scattercarpet"
           }
          ],
          "scattergeo": [
           {
            "marker": {
             "colorbar": {
              "outlinewidth": 0,
              "ticks": ""
             }
            },
            "type": "scattergeo"
           }
          ],
          "scattergl": [
           {
            "marker": {
             "colorbar": {
              "outlinewidth": 0,
              "ticks": ""
             }
            },
            "type": "scattergl"
           }
          ],
          "scattermapbox": [
           {
            "marker": {
             "colorbar": {
              "outlinewidth": 0,
              "ticks": ""
             }
            },
            "type": "scattermapbox"
           }
          ],
          "scatterpolar": [
           {
            "marker": {
             "colorbar": {
              "outlinewidth": 0,
              "ticks": ""
             }
            },
            "type": "scatterpolar"
           }
          ],
          "scatterpolargl": [
           {
            "marker": {
             "colorbar": {
              "outlinewidth": 0,
              "ticks": ""
             }
            },
            "type": "scatterpolargl"
           }
          ],
          "scatterternary": [
           {
            "marker": {
             "colorbar": {
              "outlinewidth": 0,
              "ticks": ""
             }
            },
            "type": "scatterternary"
           }
          ],
          "surface": [
           {
            "colorbar": {
             "outlinewidth": 0,
             "ticks": ""
            },
            "colorscale": [
             [
              0,
              "#0d0887"
             ],
             [
              0.1111111111111111,
              "#46039f"
             ],
             [
              0.2222222222222222,
              "#7201a8"
             ],
             [
              0.3333333333333333,
              "#9c179e"
             ],
             [
              0.4444444444444444,
              "#bd3786"
             ],
             [
              0.5555555555555556,
              "#d8576b"
             ],
             [
              0.6666666666666666,
              "#ed7953"
             ],
             [
              0.7777777777777778,
              "#fb9f3a"
             ],
             [
              0.8888888888888888,
              "#fdca26"
             ],
             [
              1,
              "#f0f921"
             ]
            ],
            "type": "surface"
           }
          ],
          "table": [
           {
            "cells": {
             "fill": {
              "color": "#EBF0F8"
             },
             "line": {
              "color": "white"
             }
            },
            "header": {
             "fill": {
              "color": "#C8D4E3"
             },
             "line": {
              "color": "white"
             }
            },
            "type": "table"
           }
          ]
         },
         "layout": {
          "annotationdefaults": {
           "arrowcolor": "#2a3f5f",
           "arrowhead": 0,
           "arrowwidth": 1
          },
          "autotypenumbers": "strict",
          "coloraxis": {
           "colorbar": {
            "outlinewidth": 0,
            "ticks": ""
           }
          },
          "colorscale": {
           "diverging": [
            [
             0,
             "#8e0152"
            ],
            [
             0.1,
             "#c51b7d"
            ],
            [
             0.2,
             "#de77ae"
            ],
            [
             0.3,
             "#f1b6da"
            ],
            [
             0.4,
             "#fde0ef"
            ],
            [
             0.5,
             "#f7f7f7"
            ],
            [
             0.6,
             "#e6f5d0"
            ],
            [
             0.7,
             "#b8e186"
            ],
            [
             0.8,
             "#7fbc41"
            ],
            [
             0.9,
             "#4d9221"
            ],
            [
             1,
             "#276419"
            ]
           ],
           "sequential": [
            [
             0,
             "#0d0887"
            ],
            [
             0.1111111111111111,
             "#46039f"
            ],
            [
             0.2222222222222222,
             "#7201a8"
            ],
            [
             0.3333333333333333,
             "#9c179e"
            ],
            [
             0.4444444444444444,
             "#bd3786"
            ],
            [
             0.5555555555555556,
             "#d8576b"
            ],
            [
             0.6666666666666666,
             "#ed7953"
            ],
            [
             0.7777777777777778,
             "#fb9f3a"
            ],
            [
             0.8888888888888888,
             "#fdca26"
            ],
            [
             1,
             "#f0f921"
            ]
           ],
           "sequentialminus": [
            [
             0,
             "#0d0887"
            ],
            [
             0.1111111111111111,
             "#46039f"
            ],
            [
             0.2222222222222222,
             "#7201a8"
            ],
            [
             0.3333333333333333,
             "#9c179e"
            ],
            [
             0.4444444444444444,
             "#bd3786"
            ],
            [
             0.5555555555555556,
             "#d8576b"
            ],
            [
             0.6666666666666666,
             "#ed7953"
            ],
            [
             0.7777777777777778,
             "#fb9f3a"
            ],
            [
             0.8888888888888888,
             "#fdca26"
            ],
            [
             1,
             "#f0f921"
            ]
           ]
          },
          "colorway": [
           "#636efa",
           "#EF553B",
           "#00cc96",
           "#ab63fa",
           "#FFA15A",
           "#19d3f3",
           "#FF6692",
           "#B6E880",
           "#FF97FF",
           "#FECB52"
          ],
          "font": {
           "color": "#2a3f5f"
          },
          "geo": {
           "bgcolor": "white",
           "lakecolor": "white",
           "landcolor": "#E5ECF6",
           "showlakes": true,
           "showland": true,
           "subunitcolor": "white"
          },
          "hoverlabel": {
           "align": "left"
          },
          "hovermode": "closest",
          "mapbox": {
           "style": "light"
          },
          "paper_bgcolor": "white",
          "plot_bgcolor": "#E5ECF6",
          "polar": {
           "angularaxis": {
            "gridcolor": "white",
            "linecolor": "white",
            "ticks": ""
           },
           "bgcolor": "#E5ECF6",
           "radialaxis": {
            "gridcolor": "white",
            "linecolor": "white",
            "ticks": ""
           }
          },
          "scene": {
           "xaxis": {
            "backgroundcolor": "#E5ECF6",
            "gridcolor": "white",
            "gridwidth": 2,
            "linecolor": "white",
            "showbackground": true,
            "ticks": "",
            "zerolinecolor": "white"
           },
           "yaxis": {
            "backgroundcolor": "#E5ECF6",
            "gridcolor": "white",
            "gridwidth": 2,
            "linecolor": "white",
            "showbackground": true,
            "ticks": "",
            "zerolinecolor": "white"
           },
           "zaxis": {
            "backgroundcolor": "#E5ECF6",
            "gridcolor": "white",
            "gridwidth": 2,
            "linecolor": "white",
            "showbackground": true,
            "ticks": "",
            "zerolinecolor": "white"
           }
          },
          "shapedefaults": {
           "line": {
            "color": "#2a3f5f"
           }
          },
          "ternary": {
           "aaxis": {
            "gridcolor": "white",
            "linecolor": "white",
            "ticks": ""
           },
           "baxis": {
            "gridcolor": "white",
            "linecolor": "white",
            "ticks": ""
           },
           "bgcolor": "#E5ECF6",
           "caxis": {
            "gridcolor": "white",
            "linecolor": "white",
            "ticks": ""
           }
          },
          "title": {
           "x": 0.05
          },
          "xaxis": {
           "automargin": true,
           "gridcolor": "white",
           "linecolor": "white",
           "ticks": "",
           "title": {
            "standoff": 15
           },
           "zerolinecolor": "white",
           "zerolinewidth": 2
          },
          "yaxis": {
           "automargin": true,
           "gridcolor": "white",
           "linecolor": "white",
           "ticks": "",
           "title": {
            "standoff": 15
           },
           "zerolinecolor": "white",
           "zerolinewidth": 2
          }
         }
        },
        "title": {
         "text": "Ajuste Ene-2014, Mar-2020"
        },
        "xaxis": {
         "anchor": "y",
         "domain": [
          0,
          1
         ],
         "title": {
          "text": "mes_ano"
         }
        },
        "yaxis": {
         "anchor": "x",
         "domain": [
          0,
          1
         ],
         "title": {
          "text": "value"
         }
        }
       }
      },
      "text/html": [
       "<div>                            <div id=\"f3a567cc-d19a-46d1-a026-e5adadf923bf\" class=\"plotly-graph-div\" style=\"height:525px; width:100%;\"></div>            <script type=\"text/javascript\">                require([\"plotly\"], function(Plotly) {                    window.PLOTLYENV=window.PLOTLYENV || {};                                    if (document.getElementById(\"f3a567cc-d19a-46d1-a026-e5adadf923bf\")) {                    Plotly.newPlot(                        \"f3a567cc-d19a-46d1-a026-e5adadf923bf\",                        [{\"hovertemplate\":\"variable=activar<br>mes_ano=%{x}<br>value=%{y}<extra></extra>\",\"legendgroup\":\"activar\",\"line\":{\"color\":\"#636efa\",\"dash\":\"solid\"},\"marker\":{\"symbol\":\"circle\"},\"mode\":\"lines\",\"name\":\"activar\",\"orientation\":\"v\",\"showlegend\":true,\"x\":[\"2014-03-01T00:00:00\",\"2014-04-01T00:00:00\",\"2014-05-01T00:00:00\",\"2014-06-01T00:00:00\",\"2014-07-01T00:00:00\",\"2014-08-01T00:00:00\",\"2014-09-01T00:00:00\",\"2014-10-01T00:00:00\",\"2014-11-01T00:00:00\",\"2014-12-01T00:00:00\",\"2015-01-01T00:00:00\",\"2015-02-01T00:00:00\",\"2015-03-01T00:00:00\",\"2015-04-01T00:00:00\",\"2015-05-01T00:00:00\",\"2015-06-01T00:00:00\",\"2015-07-01T00:00:00\",\"2015-08-01T00:00:00\",\"2015-09-01T00:00:00\",\"2015-10-01T00:00:00\",\"2015-11-01T00:00:00\",\"2015-12-01T00:00:00\",\"2016-01-01T00:00:00\",\"2016-02-01T00:00:00\",\"2016-03-01T00:00:00\",\"2016-04-01T00:00:00\",\"2016-05-01T00:00:00\",\"2016-06-01T00:00:00\",\"2016-07-01T00:00:00\",\"2016-08-01T00:00:00\",\"2016-09-01T00:00:00\",\"2016-10-01T00:00:00\",\"2016-11-01T00:00:00\",\"2016-12-01T00:00:00\",\"2017-01-01T00:00:00\",\"2017-02-01T00:00:00\",\"2017-03-01T00:00:00\",\"2017-04-01T00:00:00\",\"2017-05-01T00:00:00\",\"2017-06-01T00:00:00\",\"2017-07-01T00:00:00\",\"2017-08-01T00:00:00\",\"2017-09-01T00:00:00\",\"2017-10-01T00:00:00\",\"2017-11-01T00:00:00\",\"2017-12-01T00:00:00\",\"2018-01-01T00:00:00\",\"2018-02-01T00:00:00\",\"2018-03-01T00:00:00\",\"2018-04-01T00:00:00\",\"2018-05-01T00:00:00\",\"2018-06-01T00:00:00\",\"2018-07-01T00:00:00\",\"2018-08-01T00:00:00\",\"2018-09-01T00:00:00\",\"2018-10-01T00:00:00\",\"2018-11-01T00:00:00\",\"2018-12-01T00:00:00\",\"2019-01-01T00:00:00\",\"2019-02-01T00:00:00\",\"2019-03-01T00:00:00\",\"2019-04-01T00:00:00\",\"2019-05-01T00:00:00\",\"2019-06-01T00:00:00\",\"2019-07-01T00:00:00\",\"2019-08-01T00:00:00\",\"2019-09-01T00:00:00\",\"2019-10-01T00:00:00\",\"2019-11-01T00:00:00\",\"2019-12-01T00:00:00\",\"2020-01-01T00:00:00\",\"2020-02-01T00:00:00\",\"2020-03-01T00:00:00\"],\"xaxis\":\"x\",\"y\":[0.0,0.0,0.0,0.0,0.0100503358535014,0.0,-0.0100503358535014,0.0100503358535014,0.009950330853168,0.0,0.0,0.0196084713883763,-0.0097561749453646,0.0,0.0,0.0,-0.0098522964430116,0.0098522964430116,0.0097561749453646,-0.0097561749453646,0.0,0.0,0.0,-0.0098522964430116,0.0098522964430116,0.0,0.0,0.0,0.0,0.0,-0.0098522964430116,0.0,0.0,0.0,0.0,-0.009950330853168,0.009950330853168,0.0,0.0,0.0,0.0098522964430116,-0.0098522964430116,0.0098522964430116,0.0,0.0,0.0,-0.0098522964430116,0.0,0.0,0.0,0.0,0.0,-0.009950330853168,0.009950330853168,0.0,0.0,0.0,0.0098522964430116,0.0,0.0097561749453646,-0.0097561749453646,0.0,0.0,0.0097561749453646,-0.0097561749453646,0.0097561749453646,0.0,0.0,0.0,-0.0097561749453646,0.0,0.0,0.0097561749453646],\"yaxis\":\"y\",\"type\":\"scatter\"},{\"hovertemplate\":\"variable=estimados<br>mes_ano=%{x}<br>value=%{y}<extra></extra>\",\"legendgroup\":\"estimados\",\"line\":{\"color\":\"#EF553B\",\"dash\":\"solid\"},\"marker\":{\"symbol\":\"circle\"},\"mode\":\"lines\",\"name\":\"estimados\",\"orientation\":\"v\",\"showlegend\":true,\"x\":[\"2014-03-01T00:00:00\",\"2014-04-01T00:00:00\",\"2014-05-01T00:00:00\",\"2014-06-01T00:00:00\",\"2014-07-01T00:00:00\",\"2014-08-01T00:00:00\",\"2014-09-01T00:00:00\",\"2014-10-01T00:00:00\",\"2014-11-01T00:00:00\",\"2014-12-01T00:00:00\",\"2015-01-01T00:00:00\",\"2015-02-01T00:00:00\",\"2015-03-01T00:00:00\",\"2015-04-01T00:00:00\",\"2015-05-01T00:00:00\",\"2015-06-01T00:00:00\",\"2015-07-01T00:00:00\",\"2015-08-01T00:00:00\",\"2015-09-01T00:00:00\",\"2015-10-01T00:00:00\",\"2015-11-01T00:00:00\",\"2015-12-01T00:00:00\",\"2016-01-01T00:00:00\",\"2016-02-01T00:00:00\",\"2016-03-01T00:00:00\",\"2016-04-01T00:00:00\",\"2016-05-01T00:00:00\",\"2016-06-01T00:00:00\",\"2016-07-01T00:00:00\",\"2016-08-01T00:00:00\",\"2016-09-01T00:00:00\",\"2016-10-01T00:00:00\",\"2016-11-01T00:00:00\",\"2016-12-01T00:00:00\",\"2017-01-01T00:00:00\",\"2017-02-01T00:00:00\",\"2017-03-01T00:00:00\",\"2017-04-01T00:00:00\",\"2017-05-01T00:00:00\",\"2017-06-01T00:00:00\",\"2017-07-01T00:00:00\",\"2017-08-01T00:00:00\",\"2017-09-01T00:00:00\",\"2017-10-01T00:00:00\",\"2017-11-01T00:00:00\",\"2017-12-01T00:00:00\",\"2018-01-01T00:00:00\",\"2018-02-01T00:00:00\",\"2018-03-01T00:00:00\",\"2018-04-01T00:00:00\",\"2018-05-01T00:00:00\",\"2018-06-01T00:00:00\",\"2018-07-01T00:00:00\",\"2018-08-01T00:00:00\",\"2018-09-01T00:00:00\",\"2018-10-01T00:00:00\",\"2018-11-01T00:00:00\",\"2018-12-01T00:00:00\",\"2019-01-01T00:00:00\",\"2019-02-01T00:00:00\",\"2019-03-01T00:00:00\",\"2019-04-01T00:00:00\",\"2019-05-01T00:00:00\",\"2019-06-01T00:00:00\",\"2019-07-01T00:00:00\",\"2019-08-01T00:00:00\",\"2019-09-01T00:00:00\",\"2019-10-01T00:00:00\",\"2019-11-01T00:00:00\",\"2019-12-01T00:00:00\",\"2020-01-01T00:00:00\",\"2020-02-01T00:00:00\",\"2020-03-01T00:00:00\"],\"xaxis\":\"x\",\"y\":[null,null,null,null,null,null,0.0004415391331789445,0.002147974835003063,0.0022593829577026484,0.009495781693349189,-0.0007178930558745538,0.020798486076165367,-0.007837660444971101,0.00038200048901027993,-0.0011447564562309458,0.0010864899160079528,-0.00943532561996812,0.004543570611798858,0.007649558638139316,0.0012764835793989597,-0.006669119986330278,-7.132159662579571e-05,-0.00014694543317583992,-0.009599935980073266,0.0014918178036362616,0.004188828449162361,0.0079326963166846,-0.0014288311788785465,0.0038786531075060506,-0.007583267225958349,0.003261046229431705,-0.005542358105376513,0.0013512352930051769,2.4561750961569494e-05,-0.007615032070406104,-0.0007454211677665051,0.008585835308315604,-0.003290203015491589,0.004611975784479772,-0.0024906494254812402,-0.0025762421846309367,0.0010181829288499642,0.0012476125412833143,0.0008086721135772422,0.0011149449064523952,0.002176927298053349,-0.002542718901894213,0.0012748665921634831,-6.876884906404871e-05,-0.008900045441247815,0.0060694747896896575,0.001795768196612564,-0.0013458292574505615,0.003664562015141326,0.005162896642838166,-0.004084651539174644,0.0051692567808251984,-0.0006405099431031307,0.007002370796500598,-2.569552141572317e-06,-4.2573118407579816e-05,-0.0018593244359764683,0.001488097474464439,0.0010372224917399827,0.00930239266231358,0.007573606775092759,0.0011058311195109032,-0.004084864837970239,-0.0031366963469493868,-0.00141598818648433,-0.005376147106384525,-0.0023356856185082903,0.007267715071727713],\"yaxis\":\"y\",\"type\":\"scatter\"}],                        {\"template\":{\"data\":{\"bar\":[{\"error_x\":{\"color\":\"#2a3f5f\"},\"error_y\":{\"color\":\"#2a3f5f\"},\"marker\":{\"line\":{\"color\":\"#E5ECF6\",\"width\":0.5},\"pattern\":{\"fillmode\":\"overlay\",\"size\":10,\"solidity\":0.2}},\"type\":\"bar\"}],\"barpolar\":[{\"marker\":{\"line\":{\"color\":\"#E5ECF6\",\"width\":0.5},\"pattern\":{\"fillmode\":\"overlay\",\"size\":10,\"solidity\":0.2}},\"type\":\"barpolar\"}],\"carpet\":[{\"aaxis\":{\"endlinecolor\":\"#2a3f5f\",\"gridcolor\":\"white\",\"linecolor\":\"white\",\"minorgridcolor\":\"white\",\"startlinecolor\":\"#2a3f5f\"},\"baxis\":{\"endlinecolor\":\"#2a3f5f\",\"gridcolor\":\"white\",\"linecolor\":\"white\",\"minorgridcolor\":\"white\",\"startlinecolor\":\"#2a3f5f\"},\"type\":\"carpet\"}],\"choropleth\":[{\"colorbar\":{\"outlinewidth\":0,\"ticks\":\"\"},\"type\":\"choropleth\"}],\"contour\":[{\"colorbar\":{\"outlinewidth\":0,\"ticks\":\"\"},\"colorscale\":[[0.0,\"#0d0887\"],[0.1111111111111111,\"#46039f\"],[0.2222222222222222,\"#7201a8\"],[0.3333333333333333,\"#9c179e\"],[0.4444444444444444,\"#bd3786\"],[0.5555555555555556,\"#d8576b\"],[0.6666666666666666,\"#ed7953\"],[0.7777777777777778,\"#fb9f3a\"],[0.8888888888888888,\"#fdca26\"],[1.0,\"#f0f921\"]],\"type\":\"contour\"}],\"contourcarpet\":[{\"colorbar\":{\"outlinewidth\":0,\"ticks\":\"\"},\"type\":\"contourcarpet\"}],\"heatmap\":[{\"colorbar\":{\"outlinewidth\":0,\"ticks\":\"\"},\"colorscale\":[[0.0,\"#0d0887\"],[0.1111111111111111,\"#46039f\"],[0.2222222222222222,\"#7201a8\"],[0.3333333333333333,\"#9c179e\"],[0.4444444444444444,\"#bd3786\"],[0.5555555555555556,\"#d8576b\"],[0.6666666666666666,\"#ed7953\"],[0.7777777777777778,\"#fb9f3a\"],[0.8888888888888888,\"#fdca26\"],[1.0,\"#f0f921\"]],\"type\":\"heatmap\"}],\"heatmapgl\":[{\"colorbar\":{\"outlinewidth\":0,\"ticks\":\"\"},\"colorscale\":[[0.0,\"#0d0887\"],[0.1111111111111111,\"#46039f\"],[0.2222222222222222,\"#7201a8\"],[0.3333333333333333,\"#9c179e\"],[0.4444444444444444,\"#bd3786\"],[0.5555555555555556,\"#d8576b\"],[0.6666666666666666,\"#ed7953\"],[0.7777777777777778,\"#fb9f3a\"],[0.8888888888888888,\"#fdca26\"],[1.0,\"#f0f921\"]],\"type\":\"heatmapgl\"}],\"histogram\":[{\"marker\":{\"pattern\":{\"fillmode\":\"overlay\",\"size\":10,\"solidity\":0.2}},\"type\":\"histogram\"}],\"histogram2d\":[{\"colorbar\":{\"outlinewidth\":0,\"ticks\":\"\"},\"colorscale\":[[0.0,\"#0d0887\"],[0.1111111111111111,\"#46039f\"],[0.2222222222222222,\"#7201a8\"],[0.3333333333333333,\"#9c179e\"],[0.4444444444444444,\"#bd3786\"],[0.5555555555555556,\"#d8576b\"],[0.6666666666666666,\"#ed7953\"],[0.7777777777777778,\"#fb9f3a\"],[0.8888888888888888,\"#fdca26\"],[1.0,\"#f0f921\"]],\"type\":\"histogram2d\"}],\"histogram2dcontour\":[{\"colorbar\":{\"outlinewidth\":0,\"ticks\":\"\"},\"colorscale\":[[0.0,\"#0d0887\"],[0.1111111111111111,\"#46039f\"],[0.2222222222222222,\"#7201a8\"],[0.3333333333333333,\"#9c179e\"],[0.4444444444444444,\"#bd3786\"],[0.5555555555555556,\"#d8576b\"],[0.6666666666666666,\"#ed7953\"],[0.7777777777777778,\"#fb9f3a\"],[0.8888888888888888,\"#fdca26\"],[1.0,\"#f0f921\"]],\"type\":\"histogram2dcontour\"}],\"mesh3d\":[{\"colorbar\":{\"outlinewidth\":0,\"ticks\":\"\"},\"type\":\"mesh3d\"}],\"parcoords\":[{\"line\":{\"colorbar\":{\"outlinewidth\":0,\"ticks\":\"\"}},\"type\":\"parcoords\"}],\"pie\":[{\"automargin\":true,\"type\":\"pie\"}],\"scatter\":[{\"marker\":{\"colorbar\":{\"outlinewidth\":0,\"ticks\":\"\"}},\"type\":\"scatter\"}],\"scatter3d\":[{\"line\":{\"colorbar\":{\"outlinewidth\":0,\"ticks\":\"\"}},\"marker\":{\"colorbar\":{\"outlinewidth\":0,\"ticks\":\"\"}},\"type\":\"scatter3d\"}],\"scattercarpet\":[{\"marker\":{\"colorbar\":{\"outlinewidth\":0,\"ticks\":\"\"}},\"type\":\"scattercarpet\"}],\"scattergeo\":[{\"marker\":{\"colorbar\":{\"outlinewidth\":0,\"ticks\":\"\"}},\"type\":\"scattergeo\"}],\"scattergl\":[{\"marker\":{\"colorbar\":{\"outlinewidth\":0,\"ticks\":\"\"}},\"type\":\"scattergl\"}],\"scattermapbox\":[{\"marker\":{\"colorbar\":{\"outlinewidth\":0,\"ticks\":\"\"}},\"type\":\"scattermapbox\"}],\"scatterpolar\":[{\"marker\":{\"colorbar\":{\"outlinewidth\":0,\"ticks\":\"\"}},\"type\":\"scatterpolar\"}],\"scatterpolargl\":[{\"marker\":{\"colorbar\":{\"outlinewidth\":0,\"ticks\":\"\"}},\"type\":\"scatterpolargl\"}],\"scatterternary\":[{\"marker\":{\"colorbar\":{\"outlinewidth\":0,\"ticks\":\"\"}},\"type\":\"scatterternary\"}],\"surface\":[{\"colorbar\":{\"outlinewidth\":0,\"ticks\":\"\"},\"colorscale\":[[0.0,\"#0d0887\"],[0.1111111111111111,\"#46039f\"],[0.2222222222222222,\"#7201a8\"],[0.3333333333333333,\"#9c179e\"],[0.4444444444444444,\"#bd3786\"],[0.5555555555555556,\"#d8576b\"],[0.6666666666666666,\"#ed7953\"],[0.7777777777777778,\"#fb9f3a\"],[0.8888888888888888,\"#fdca26\"],[1.0,\"#f0f921\"]],\"type\":\"surface\"}],\"table\":[{\"cells\":{\"fill\":{\"color\":\"#EBF0F8\"},\"line\":{\"color\":\"white\"}},\"header\":{\"fill\":{\"color\":\"#C8D4E3\"},\"line\":{\"color\":\"white\"}},\"type\":\"table\"}]},\"layout\":{\"annotationdefaults\":{\"arrowcolor\":\"#2a3f5f\",\"arrowhead\":0,\"arrowwidth\":1},\"autotypenumbers\":\"strict\",\"coloraxis\":{\"colorbar\":{\"outlinewidth\":0,\"ticks\":\"\"}},\"colorscale\":{\"diverging\":[[0,\"#8e0152\"],[0.1,\"#c51b7d\"],[0.2,\"#de77ae\"],[0.3,\"#f1b6da\"],[0.4,\"#fde0ef\"],[0.5,\"#f7f7f7\"],[0.6,\"#e6f5d0\"],[0.7,\"#b8e186\"],[0.8,\"#7fbc41\"],[0.9,\"#4d9221\"],[1,\"#276419\"]],\"sequential\":[[0.0,\"#0d0887\"],[0.1111111111111111,\"#46039f\"],[0.2222222222222222,\"#7201a8\"],[0.3333333333333333,\"#9c179e\"],[0.4444444444444444,\"#bd3786\"],[0.5555555555555556,\"#d8576b\"],[0.6666666666666666,\"#ed7953\"],[0.7777777777777778,\"#fb9f3a\"],[0.8888888888888888,\"#fdca26\"],[1.0,\"#f0f921\"]],\"sequentialminus\":[[0.0,\"#0d0887\"],[0.1111111111111111,\"#46039f\"],[0.2222222222222222,\"#7201a8\"],[0.3333333333333333,\"#9c179e\"],[0.4444444444444444,\"#bd3786\"],[0.5555555555555556,\"#d8576b\"],[0.6666666666666666,\"#ed7953\"],[0.7777777777777778,\"#fb9f3a\"],[0.8888888888888888,\"#fdca26\"],[1.0,\"#f0f921\"]]},\"colorway\":[\"#636efa\",\"#EF553B\",\"#00cc96\",\"#ab63fa\",\"#FFA15A\",\"#19d3f3\",\"#FF6692\",\"#B6E880\",\"#FF97FF\",\"#FECB52\"],\"font\":{\"color\":\"#2a3f5f\"},\"geo\":{\"bgcolor\":\"white\",\"lakecolor\":\"white\",\"landcolor\":\"#E5ECF6\",\"showlakes\":true,\"showland\":true,\"subunitcolor\":\"white\"},\"hoverlabel\":{\"align\":\"left\"},\"hovermode\":\"closest\",\"mapbox\":{\"style\":\"light\"},\"paper_bgcolor\":\"white\",\"plot_bgcolor\":\"#E5ECF6\",\"polar\":{\"angularaxis\":{\"gridcolor\":\"white\",\"linecolor\":\"white\",\"ticks\":\"\"},\"bgcolor\":\"#E5ECF6\",\"radialaxis\":{\"gridcolor\":\"white\",\"linecolor\":\"white\",\"ticks\":\"\"}},\"scene\":{\"xaxis\":{\"backgroundcolor\":\"#E5ECF6\",\"gridcolor\":\"white\",\"gridwidth\":2,\"linecolor\":\"white\",\"showbackground\":true,\"ticks\":\"\",\"zerolinecolor\":\"white\"},\"yaxis\":{\"backgroundcolor\":\"#E5ECF6\",\"gridcolor\":\"white\",\"gridwidth\":2,\"linecolor\":\"white\",\"showbackground\":true,\"ticks\":\"\",\"zerolinecolor\":\"white\"},\"zaxis\":{\"backgroundcolor\":\"#E5ECF6\",\"gridcolor\":\"white\",\"gridwidth\":2,\"linecolor\":\"white\",\"showbackground\":true,\"ticks\":\"\",\"zerolinecolor\":\"white\"}},\"shapedefaults\":{\"line\":{\"color\":\"#2a3f5f\"}},\"ternary\":{\"aaxis\":{\"gridcolor\":\"white\",\"linecolor\":\"white\",\"ticks\":\"\"},\"baxis\":{\"gridcolor\":\"white\",\"linecolor\":\"white\",\"ticks\":\"\"},\"bgcolor\":\"#E5ECF6\",\"caxis\":{\"gridcolor\":\"white\",\"linecolor\":\"white\",\"ticks\":\"\"}},\"title\":{\"x\":0.05},\"xaxis\":{\"automargin\":true,\"gridcolor\":\"white\",\"linecolor\":\"white\",\"ticks\":\"\",\"title\":{\"standoff\":15},\"zerolinecolor\":\"white\",\"zerolinewidth\":2},\"yaxis\":{\"automargin\":true,\"gridcolor\":\"white\",\"linecolor\":\"white\",\"ticks\":\"\",\"title\":{\"standoff\":15},\"zerolinecolor\":\"white\",\"zerolinewidth\":2}}},\"xaxis\":{\"anchor\":\"y\",\"domain\":[0.0,1.0],\"title\":{\"text\":\"mes_ano\"}},\"yaxis\":{\"anchor\":\"x\",\"domain\":[0.0,1.0],\"title\":{\"text\":\"value\"}},\"legend\":{\"title\":{\"text\":\"variable\"},\"tracegroupgap\":0},\"margin\":{\"t\":60},\"title\":{\"text\":\"Ajuste Ene-2014, Mar-2020\"}},                        {\"responsive\": true}                    ).then(function(){\n",
       "                            \n",
       "var gd = document.getElementById('f3a567cc-d19a-46d1-a026-e5adadf923bf');\n",
       "var x = new MutationObserver(function (mutations, observer) {{\n",
       "        var display = window.getComputedStyle(gd).display;\n",
       "        if (!display || display === 'none') {{\n",
       "            console.log([gd, 'removed!']);\n",
       "            Plotly.purge(gd);\n",
       "            observer.disconnect();\n",
       "        }}\n",
       "}});\n",
       "\n",
       "// Listen for the removal of the full notebook cells\n",
       "var notebookContainer = gd.closest('#notebook-container');\n",
       "if (notebookContainer) {{\n",
       "    x.observe(notebookContainer, {childList: true});\n",
       "}}\n",
       "\n",
       "// Listen for the clearing of the current output cell\n",
       "var outputEl = gd.closest('.output');\n",
       "if (outputEl) {{\n",
       "    x.observe(outputEl, {childList: true});\n",
       "}}\n",
       "\n",
       "                        })                };                });            </script>        </div>"
      ]
     },
     "metadata": {},
     "output_type": "display_data"
    }
   ],
   "source": [
    "d = {'activar': data3.iloc[:88,9] ,'estimados': modelo_1.fittedvalues}\n",
    "ajuste = pd.DataFrame(d)\n",
    "#data_mora.loc[:,'mora']\n",
    "#print(len(vecm_res.resid[:,0]))\n",
    "#print(data_mora.iloc[:82,0])\n",
    "#ajuste.head()\n",
    "#res.predict()\n",
    "fig = px.line(\n",
    "    data_frame=ajuste, \n",
    ")\n",
    "fig.update_layout(title='Ajuste Ene-2014, Mar-2020')\n",
    "fig.show()"
   ]
  },
  {
   "cell_type": "code",
   "execution_count": 29,
   "id": "794c2819",
   "metadata": {},
   "outputs": [],
   "source": [
    "#ajuste.plot()"
   ]
  },
  {
   "cell_type": "code",
   "execution_count": 90,
   "id": "22709619",
   "metadata": {},
   "outputs": [
    {
     "name": "stdout",
     "output_type": "stream",
     "text": [
      "9.38061775258721\n",
      "89.33692152555298\n"
     ]
    }
   ],
   "source": [
    "from sklearn.metrics import mean_absolute_error\n",
    "neg_mae = mean_absolute_error(data2.iloc[:67,0], modelo_1.fittedvalues)\n",
    "print(neg_mae)\n",
    "from sklearn.metrics import mean_squared_error\n",
    "neg_msr = mean_squared_error(data2.iloc[:67,0], modelo_1.fittedvalues)\n",
    "print(neg_msr)"
   ]
  },
  {
   "cell_type": "code",
   "execution_count": 55,
   "id": "7d0143cb",
   "metadata": {},
   "outputs": [
    {
     "data": {
      "text/plain": [
       "['m_mora_pp.pkl']"
      ]
     },
     "execution_count": 55,
     "metadata": {},
     "output_type": "execute_result"
    }
   ],
   "source": [
    "import joblib\n",
    "joblib.dump(modelo_mora, 'm_mora_pp.pkl')"
   ]
  }
 ],
 "metadata": {
  "kernelspec": {
   "display_name": "Python 3",
   "language": "python",
   "name": "python3"
  },
  "language_info": {
   "codemirror_mode": {
    "name": "ipython",
    "version": 3
   },
   "file_extension": ".py",
   "mimetype": "text/x-python",
   "name": "python",
   "nbconvert_exporter": "python",
   "pygments_lexer": "ipython3",
   "version": "3.8.8"
  }
 },
 "nbformat": 4,
 "nbformat_minor": 5
}

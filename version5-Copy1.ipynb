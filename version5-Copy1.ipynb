{
 "cells": [
  {
   "cell_type": "code",
   "execution_count": 3,
   "metadata": {},
   "outputs": [],
   "source": [
    "from IPython.display import set_matplotlib_formats, display\n",
    "import pandas as pd\n",
    "import numpy as np\n",
    "import matplotlib.pyplot as plt\n",
    "#import mglearn\n",
    "from cycler import cycler\n",
    "import warnings\n",
    "import seaborn as sns\n",
    "\n",
    "warnings.filterwarnings(\"ignore\")\n",
    "set_matplotlib_formats('pdf', 'png')\n",
    "plt.rcParams['savefig.dpi'] = 300\n",
    "plt.rcParams['image.cmap'] = \"viridis\"\n",
    "plt.rcParams['image.interpolation'] = \"none\"\n",
    "plt.rcParams['savefig.bbox'] = \"tight\"\n",
    "plt.rcParams['lines.linewidth'] = 2\n",
    "plt.rcParams['legend.numpoints'] = 1\n",
    "plt.rc('axes', prop_cycle=(\n",
    "  #  cycler('color', mglearn.plot_helpers.cm_cycle.colors) +\n",
    "    cycler('linestyle', ['-', '-', \"--\", (0, (3, 3)), (0, (1.5, 1.5))])))\n",
    "\n",
    "np.set_printoptions(precision=3, suppress=True)\n",
    "\n",
    "pd.set_option(\"display.max_columns\", 8)\n",
    "pd.set_option('precision', 2)\n",
    "\n",
    "_all_ = ['np', #'mglearn', \n",
    "         'display', 'plt', 'pd']"
   ]
  },
  {
   "cell_type": "code",
   "execution_count": 8,
   "metadata": {},
   "outputs": [],
   "source": [
    "data = pd.read_table('C:/1 Proyecto Samurai/30_04_2021/DATA31.rpt', sep=\"~\")\n",
    "df1 = pd.DataFrame(data)\n",
    "#df1.shape\n",
    "#df1.tail()"
   ]
  },
  {
   "cell_type": "code",
   "execution_count": null,
   "metadata": {},
   "outputs": [],
   "source": [
    "#df1.groupby(\"DIAS_MORA\")[\"ID_CLIENTE\"].count()"
   ]
  },
  {
   "cell_type": "code",
   "execution_count": 10,
   "metadata": {},
   "outputs": [],
   "source": [
    "variable = ['RESIDENCIA_PROVINCIA', 'RESIDENCIA_CORREGIMIENTO', \"RESIDENCIA_DISTRITO\", \"TRABAJO_PROVINCIA\"]\n",
    "#df1[\"NOM_SUBACTIVIDADECONOMICA\"].unique()"
   ]
  },
  {
   "cell_type": "code",
   "execution_count": null,
   "metadata": {},
   "outputs": [],
   "source": [
    "#df1.groupby(\"NOM_SUBACTIVIDADECONOMICA\")['DIAS_MORA'].mean()"
   ]
  },
  {
   "cell_type": "code",
   "execution_count": 11,
   "metadata": {},
   "outputs": [],
   "source": [
    "variables = ['PRODUCTO','EDAD','NIVEL_ENDEUDAMIENTO','TASA_AV','HIPOTECA_USO','DURACION',\n",
    "'MONTO_BANCOS','HIPOTECA_MONTO','PREST_AUTO_MORA','MORA_OTROS','USO_OTROS','HIPOTECA_MORA','PREST_AUTO_DURACION','TARJ_CREDITO_DURACION',\n",
    "'LROTATIVA_MORA','PREST_PERSONAL_USO','DURACION_OTROS','NUMDEPEND','LEASING_MONTO','PCOMERCIAL_MORA','DURACION_BANCOS',\n",
    "'USO_BANCOS','HIPOTECA_DURACION','AGROPECUARIO_USO','PREST_PERSONAL_DURACION','LEASING_MORA','TMA_USO',\n",
    "'PREST_PERSONAL_MORA','EXCLUIR','TRABAJO_MESES_CONTINUIDAD','MORA_BANCOS','NUMERO_EMPLEADOS', 'RESIDENCIA_PROVINCIA', \n",
    "'RESIDENCIA_CORREGIMIENTO',\"RESIDENCIA_DISTRITO\",'DIRECCION_RESIDENCIA','DIRECCION_TRABAJO',\"TRABAJO_PROVINCIA\",\"TRABAJO_DISTRITO\",\n",
    "'NOM_SUBACTIVIDADECONOMICA','DIAS_MORA']"
   ]
  },
  {
   "cell_type": "code",
   "execution_count": 12,
   "metadata": {},
   "outputs": [],
   "source": [
    "df1 = df1[variables]\n",
    "#df1.shape"
   ]
  },
  {
   "cell_type": "code",
   "execution_count": null,
   "metadata": {},
   "outputs": [],
   "source": [
    "#df1.info()"
   ]
  },
  {
   "cell_type": "code",
   "execution_count": 13,
   "metadata": {},
   "outputs": [],
   "source": [
    "def impute(df):\n",
    "    for name in df.select_dtypes(\"float\"):\n",
    "        df[name] = df[name].fillna(0)\n",
    "    for name in df.select_dtypes([\"category\", \"object\"]):\n",
    "        df[name] = df[name].fillna(\"None\")\n",
    "    return df"
   ]
  },
  {
   "cell_type": "code",
   "execution_count": 14,
   "metadata": {},
   "outputs": [],
   "source": [
    "df2 = impute(df1)\n",
    "#df2.info()"
   ]
  },
  {
   "cell_type": "code",
   "execution_count": null,
   "metadata": {},
   "outputs": [],
   "source": [
    "#df2.groupby('RESIDENCIA_CORREGIMIENTO')['DIAS_MORA'].mean()"
   ]
  },
  {
   "cell_type": "code",
   "execution_count": null,
   "metadata": {},
   "outputs": [],
   "source": [
    "#df2.groupby(\"DIAS_MORA\")[\"EDAD\"].count()"
   ]
  },
  {
   "cell_type": "code",
   "execution_count": 15,
   "metadata": {},
   "outputs": [],
   "source": [
    "variables_nominales = df2.select_dtypes(\"object\").columns\n",
    "#variables_nominales"
   ]
  },
  {
   "cell_type": "code",
   "execution_count": 16,
   "metadata": {},
   "outputs": [],
   "source": [
    "for name in variables_nominales:\n",
    "    df2[name] = df2[name].astype(\"category\")\n",
    "#df2.info()"
   ]
  },
  {
   "cell_type": "code",
   "execution_count": null,
   "metadata": {},
   "outputs": [],
   "source": [
    "#df3.groupby('RESIDENCIA_CORREGIMIENTO')['DIAS_MORA'].mean()"
   ]
  },
  {
   "cell_type": "code",
   "execution_count": 17,
   "metadata": {},
   "outputs": [],
   "source": [
    "def log(df):\n",
    "    for colname in df.select_dtypes(exclude=[\"object\",\"category\"]).columns:\n",
    "        df[colname] = df[colname].apply(np.log1p)\n",
    "    return df"
   ]
  },
  {
   "cell_type": "code",
   "execution_count": 18,
   "metadata": {},
   "outputs": [],
   "source": [
    "df3 = log(df2)\n",
    "df3.describe()\n",
    "df3 = impute(df3)"
   ]
  },
  {
   "cell_type": "code",
   "execution_count": null,
   "metadata": {},
   "outputs": [],
   "source": [
    "#valores_null = df3.isnull().sum()\n",
    "#valores_null"
   ]
  },
  {
   "cell_type": "code",
   "execution_count": 19,
   "metadata": {},
   "outputs": [],
   "source": [
    "from sklearn.feature_selection import mutual_info_regression\n",
    "def make_mi_scores(X, y):\n",
    "    X = X.copy()\n",
    "    for colname in X.select_dtypes([\"object\", \"category\"]):\n",
    "        X[colname], _ = X[colname].factorize()\n",
    "    # All discrete features should now have integer dtypes\n",
    "    discrete_features = [pd.api.types.is_integer_dtype(t) for t in X.dtypes]\n",
    "    mi_scores = mutual_info_regression(X, y, discrete_features=discrete_features, random_state=0)\n",
    "    mi_scores = pd.Series(mi_scores, name=\"MI Scores\", index=X.columns)\n",
    "    mi_scores = mi_scores.sort_values(ascending=False)\n",
    "    return mi_scores\n",
    "\n",
    "\n",
    "def plot_mi_scores(scores):\n",
    "    scores = scores.sort_values(ascending=True)\n",
    "    width = np.arange(len(scores))\n",
    "    ticks = list(scores.index)\n",
    "    plt.barh(width, scores)\n",
    "    plt.yticks(width, ticks)\n",
    "    plt.title(\"Mutual Information Scores\")"
   ]
  },
  {
   "cell_type": "code",
   "execution_count": 20,
   "metadata": {},
   "outputs": [
    {
     "data": {
      "text/plain": [
       "USO_OTROS                    9.04e-02\n",
       "DURACION_OTROS               8.56e-02\n",
       "DURACION                     7.73e-02\n",
       "PREST_PERSONAL_USO           4.61e-02\n",
       "PREST_PERSONAL_DURACION      3.88e-02\n",
       "MORA_OTROS                   3.55e-02\n",
       "DURACION_BANCOS              3.04e-02\n",
       "NUMDEPEND                    2.82e-02\n",
       "TRABAJO_MESES_CONTINUIDAD    2.82e-02\n",
       "NOM_SUBACTIVIDADECONOMICA    2.77e-02\n",
       "RESIDENCIA_DISTRITO          2.66e-02\n",
       "RESIDENCIA_CORREGIMIENTO     2.42e-02\n",
       "TRABAJO_DISTRITO             1.99e-02\n",
       "USO_BANCOS                   1.91e-02\n",
       "HIPOTECA_USO                 1.63e-02\n",
       "TARJ_CREDITO_DURACION        1.50e-02\n",
       "RESIDENCIA_PROVINCIA         1.48e-02\n",
       "NIVEL_ENDEUDAMIENTO          1.39e-02\n",
       "PCOMERCIAL_MORA              1.29e-02\n",
       "TASA_AV                      1.09e-02\n",
       "PRODUCTO                     1.08e-02\n",
       "PREST_AUTO_MORA              6.69e-03\n",
       "EDAD                         4.42e-03\n",
       "NUMERO_EMPLEADOS             0.00e+00\n",
       "TRABAJO_PROVINCIA            0.00e+00\n",
       "DIRECCION_TRABAJO            0.00e+00\n",
       "DIRECCION_RESIDENCIA         0.00e+00\n",
       "MONTO_BANCOS                 0.00e+00\n",
       "HIPOTECA_MONTO               0.00e+00\n",
       "HIPOTECA_DURACION            0.00e+00\n",
       "AGROPECUARIO_USO             0.00e+00\n",
       "HIPOTECA_MORA                0.00e+00\n",
       "PREST_AUTO_DURACION          0.00e+00\n",
       "EXCLUIR                      0.00e+00\n",
       "LROTATIVA_MORA               0.00e+00\n",
       "PREST_PERSONAL_MORA          0.00e+00\n",
       "TMA_USO                      0.00e+00\n",
       "LEASING_MORA                 0.00e+00\n",
       "LEASING_MONTO                0.00e+00\n",
       "MORA_BANCOS                  0.00e+00\n",
       "Name: MI Scores, dtype: float64"
      ]
     },
     "execution_count": 20,
     "metadata": {},
     "output_type": "execute_result"
    }
   ],
   "source": [
    "X = df3.copy()\n",
    "y = X.pop(\"DIAS_MORA\")\n",
    "\n",
    "mi_scores = make_mi_scores(X, y)\n",
    "mi_scores"
   ]
  },
  {
   "cell_type": "code",
   "execution_count": null,
   "metadata": {},
   "outputs": [],
   "source": [
    "for feature in df3.select_dtypes(exclude=[\"object\",\"category\"]).columns:\n",
    "    fig = sns.boxplot(data = df3,\n",
    "                x = feature,\n",
    "                palette='pastel')\n",
    "    plt.title(\"Distribución de  \" + feature)\n",
    "    plt.figure(figsize=(10,6))\n",
    "    plt.show()"
   ]
  },
  {
   "cell_type": "code",
   "execution_count": null,
   "metadata": {},
   "outputs": [],
   "source": [
    "corr = df3.select_dtypes(\"float\").corr()\n",
    "#corr"
   ]
  },
  {
   "cell_type": "code",
   "execution_count": null,
   "metadata": {},
   "outputs": [],
   "source": [
    "def plot_corr_mat(corr):\n",
    "    sns.set_style(\"white\")\n",
    "    # Generar una máscara para el triángulo superior\n",
    "    mask = np.triu(np.ones_like(corr,dtype=bool))\n",
    "    # Configurar el tamaño\n",
    "    fig, ax = plt.subplots(figsize=(11,9))\n",
    "    # Generar el colormap divergente\n",
    "    cmap = sns.diverging_palette(230, 20, as_cmap=True)\n",
    "    # Graficar el mapa de calor de la matriz de correlación\n",
    "    sns.heatmap(corr, mask=mask, cmap=cmap, \n",
    "                vmax=.3, center=0,\n",
    "                square=True, linewidths=0.5,\n",
    "                cbar_kws={\"shrink\":.5})\n",
    "    plt.show()"
   ]
  },
  {
   "cell_type": "code",
   "execution_count": 22,
   "metadata": {},
   "outputs": [
    {
     "ename": "NameError",
     "evalue": "name 'plot_corr_mat' is not defined",
     "output_type": "error",
     "traceback": [
      "\u001b[1;31m---------------------------------------------------------------------------\u001b[0m",
      "\u001b[1;31mNameError\u001b[0m                                 Traceback (most recent call last)",
      "\u001b[1;32m<ipython-input-22-8d1ecd6fff64>\u001b[0m in \u001b[0;36m<module>\u001b[1;34m\u001b[0m\n\u001b[1;32m----> 1\u001b[1;33m \u001b[0mplot_corr_mat\u001b[0m\u001b[1;33m(\u001b[0m\u001b[0mcorr\u001b[0m\u001b[1;33m)\u001b[0m\u001b[1;33m\u001b[0m\u001b[1;33m\u001b[0m\u001b[0m\n\u001b[0m",
      "\u001b[1;31mNameError\u001b[0m: name 'plot_corr_mat' is not defined"
     ]
    }
   ],
   "source": [
    "plot_corr_mat(corr)"
   ]
  },
  {
   "cell_type": "markdown",
   "metadata": {},
   "source": [
    "df1.loc[df1['DIAS_MORA']> 90, 'mora_90d']= 'moroso'\n",
    "df1.loc[df1['DIAS_MORA'].isnull(), 'mora_90d']= 'no_moroso'\n",
    "df1.loc[df1['DIAS_MORA']<= 90, 'mora_90d']= 'no_moroso'"
   ]
  },
  {
   "cell_type": "markdown",
   "metadata": {},
   "source": [
    "def group_transforms(df):\n",
    "    X = pd.DataFrame()\n",
    "    X[\"DURACION_PROVINCIA\"] = df.groupby(\"RESIDENCIA_PROVINCIA\")[\"DURACION\"].transform(\"median\")\n",
    "    X[\"DURACION_CORREGIMIENTO\"] = df.groupby(\"RESIDENCIA_CORREGIMIENTO\")[\"DURACION\"].transform(\"median\")\n",
    "    X[\"DURACION_PROVINCIA_T\"] = df.groupby(\"TRABAJO_PROVINCIA\")[\"DURACION\"].transform(\"median\")\n",
    "    X[\"DURACION_CORREGIMIENTO\"] = df.groupby(\"RESIDENCIA_CORREGIMIENTO\")[\"DURACION\"].transform(\"median\")\n",
    "    X[\"DURACION_ACTIVIDAD\"] = df.groupby(\"NOM_SUBACTIVIDADECONOMICA\")[\"DURACION\"].transform(\"median\")\n",
    "    return X"
   ]
  },
  {
   "cell_type": "code",
   "execution_count": null,
   "metadata": {},
   "outputs": [],
   "source": [
    "#group_transforms(df3)"
   ]
  },
  {
   "cell_type": "code",
   "execution_count": 23,
   "metadata": {},
   "outputs": [],
   "source": [
    "class CrossFoldEncoder:\n",
    "    def __init__(self, encoder, **kwargs):\n",
    "        self.encoder_ = encoder\n",
    "        self.kwargs_ = kwargs  # keyword arguments for the encoder\n",
    "        self.cv_ = KFold(n_splits=5)\n",
    "\n",
    "    # Fit an encoder on one split and transform the feature on the\n",
    "    # other. Iterating over the splits in all folds gives a complete\n",
    "    # transformation. We also now have one trained encoder on each\n",
    "    # fold.\n",
    "    def fit_transform(self, X, y, cols):\n",
    "        self.fitted_encoders_ = []\n",
    "        self.cols_ = cols\n",
    "        X_encoded = []\n",
    "        for idx_encode, idx_train in self.cv_.split(X):\n",
    "            fitted_encoder = self.encoder_(cols=cols, **self.kwargs_)\n",
    "            fitted_encoder.fit(\n",
    "                X.iloc[idx_encode, :], y.iloc[idx_encode],\n",
    "            )\n",
    "            X_encoded.append(fitted_encoder.transform(X.iloc[idx_train, :])[cols])\n",
    "            self.fitted_encoders_.append(fitted_encoder)\n",
    "        X_encoded = pd.concat(X_encoded)\n",
    "        X_encoded.columns = [name + \"_encoded\" for name in X_encoded.columns]\n",
    "        return X_encoded\n",
    "\n",
    "    # To transform the test data, average the encodings learned from\n",
    "    # each fold.\n",
    "    def transform(self, X):\n",
    "        from functools import reduce\n",
    "\n",
    "        X_encoded_list = []\n",
    "        for fitted_encoder in self.fitted_encoders_:\n",
    "            X_encoded = fitted_encoder.transform(X)\n",
    "            X_encoded_list.append(X_encoded[self.cols_])\n",
    "        X_encoded = reduce(\n",
    "            lambda x, y: x.add(y, fill_value=0), X_encoded_list\n",
    "        ) / len(X_encoded_list)\n",
    "        X_encoded.columns = [name + \"_encoded\" for name in X_encoded.columns]\n",
    "        return X_encoded"
   ]
  },
  {
   "cell_type": "code",
   "execution_count": 24,
   "metadata": {},
   "outputs": [],
   "source": [
    "from pandas.api.types import CategoricalDtype\n",
    "from category_encoders import MEstimateEncoder\n",
    "from sklearn.model_selection import KFold, cross_val_score\n",
    "encoder = CrossFoldEncoder(MEstimateEncoder, m=1)\n",
    "X_encoded = encoder.fit_transform(X, y, cols=[\"NOM_SUBACTIVIDADECONOMICA\"])\n",
    "X_encoded1 = encoder.fit_transform(X, y, cols=[\"RESIDENCIA_PROVINCIA\"])\n",
    "X_encoded2 = encoder.fit_transform(X, y, cols=[\"RESIDENCIA_DISTRITO\"])\n",
    "X_encoded3 = encoder.fit_transform(X, y, cols=[\"RESIDENCIA_CORREGIMIENTO\"])\n",
    "X_encoded4 = encoder.fit_transform(X, y, cols=[\"RESIDENCIA_DISTRITO\"])\n",
    "X_encoded5 = encoder.fit_transform(X, y, cols=[\"TRABAJO_PROVINCIA\"])\n",
    "X_encoded6 = encoder.fit_transform(X, y, cols=[\"TRABAJO_DISTRITO\"])"
   ]
  },
  {
   "cell_type": "code",
   "execution_count": 25,
   "metadata": {},
   "outputs": [
    {
     "name": "stdout",
     "output_type": "stream",
     "text": [
      "<class 'pandas.core.frame.DataFrame'>\n",
      "RangeIndex: 418 entries, 0 to 417\n",
      "Data columns (total 48 columns):\n",
      " #   Column                             Non-Null Count  Dtype   \n",
      "---  ------                             --------------  -----   \n",
      " 0   PRODUCTO                           418 non-null    float64 \n",
      " 1   EDAD                               418 non-null    float64 \n",
      " 2   NIVEL_ENDEUDAMIENTO                418 non-null    float64 \n",
      " 3   TASA_AV                            418 non-null    float64 \n",
      " 4   HIPOTECA_USO                       418 non-null    float64 \n",
      " 5   DURACION                           418 non-null    float64 \n",
      " 6   MONTO_BANCOS                       418 non-null    float64 \n",
      " 7   HIPOTECA_MONTO                     418 non-null    float64 \n",
      " 8   PREST_AUTO_MORA                    418 non-null    float64 \n",
      " 9   MORA_OTROS                         418 non-null    float64 \n",
      " 10  USO_OTROS                          418 non-null    float64 \n",
      " 11  HIPOTECA_MORA                      418 non-null    float64 \n",
      " 12  PREST_AUTO_DURACION                418 non-null    float64 \n",
      " 13  TARJ_CREDITO_DURACION              418 non-null    float64 \n",
      " 14  LROTATIVA_MORA                     418 non-null    float64 \n",
      " 15  PREST_PERSONAL_USO                 418 non-null    float64 \n",
      " 16  DURACION_OTROS                     418 non-null    float64 \n",
      " 17  NUMDEPEND                          418 non-null    float64 \n",
      " 18  LEASING_MONTO                      418 non-null    float64 \n",
      " 19  PCOMERCIAL_MORA                    418 non-null    float64 \n",
      " 20  DURACION_BANCOS                    418 non-null    float64 \n",
      " 21  USO_BANCOS                         418 non-null    float64 \n",
      " 22  HIPOTECA_DURACION                  418 non-null    float64 \n",
      " 23  AGROPECUARIO_USO                   418 non-null    float64 \n",
      " 24  PREST_PERSONAL_DURACION            418 non-null    float64 \n",
      " 25  LEASING_MORA                       418 non-null    float64 \n",
      " 26  TMA_USO                            418 non-null    float64 \n",
      " 27  PREST_PERSONAL_MORA                418 non-null    float64 \n",
      " 28  EXCLUIR                            418 non-null    float64 \n",
      " 29  TRABAJO_MESES_CONTINUIDAD          418 non-null    float64 \n",
      " 30  MORA_BANCOS                        418 non-null    float64 \n",
      " 31  NUMERO_EMPLEADOS                   418 non-null    float64 \n",
      " 32  RESIDENCIA_PROVINCIA               418 non-null    category\n",
      " 33  RESIDENCIA_CORREGIMIENTO           418 non-null    category\n",
      " 34  RESIDENCIA_DISTRITO                418 non-null    category\n",
      " 35  DIRECCION_RESIDENCIA               418 non-null    float64 \n",
      " 36  DIRECCION_TRABAJO                  418 non-null    float64 \n",
      " 37  TRABAJO_PROVINCIA                  418 non-null    category\n",
      " 38  TRABAJO_DISTRITO                   418 non-null    category\n",
      " 39  NOM_SUBACTIVIDADECONOMICA          418 non-null    category\n",
      " 40  DIAS_MORA                          418 non-null    float64 \n",
      " 41  NOM_SUBACTIVIDADECONOMICA_encoded  418 non-null    float64 \n",
      " 42  RESIDENCIA_PROVINCIA_encoded       418 non-null    float64 \n",
      " 43  RESIDENCIA_DISTRITO_encoded        418 non-null    float64 \n",
      " 44  RESIDENCIA_CORREGIMIENTO_encoded   418 non-null    float64 \n",
      " 45  RESIDENCIA_DISTRITO_encoded        418 non-null    float64 \n",
      " 46  TRABAJO_PROVINCIA_encoded          418 non-null    float64 \n",
      " 47  TRABAJO_DISTRITO_encoded           418 non-null    float64 \n",
      "dtypes: category(6), float64(42)\n",
      "memory usage: 149.6 KB\n"
     ]
    }
   ],
   "source": [
    "df4 = pd.concat([df3, X_encoded, X_encoded1, X_encoded2, X_encoded3, X_encoded4, X_encoded5, X_encoded6], axis = 1)\n",
    "df4.info()"
   ]
  },
  {
   "cell_type": "code",
   "execution_count": 26,
   "metadata": {},
   "outputs": [],
   "source": [
    "df5 = df4.select_dtypes(exclude=[\"object\",\"category\"])\n",
    "#df5.shape"
   ]
  },
  {
   "cell_type": "code",
   "execution_count": 27,
   "metadata": {},
   "outputs": [],
   "source": [
    "# pca\n",
    "from sklearn.decomposition import PCA\n",
    "\n",
    "def apply_pca(X, standardize=True):\n",
    "    # Standardize\n",
    "    if standardize:\n",
    "        X = (X - X.mean(axis=0)) / X.std(axis=0)\n",
    "    # Create principal components\n",
    "    pca = PCA()\n",
    "    X_pca = pca.fit_transform(X)\n",
    "    # Convert to dataframe\n",
    "    component_names = [f\"PC{i+1}\" for i in range(X_pca.shape[1])]\n",
    "    X_pca = pd.DataFrame(X_pca, columns=component_names)\n",
    "    # Create loadings\n",
    "    loadings = pd.DataFrame(\n",
    "        pca.components_.T,  # transpose the matrix of loadings\n",
    "        columns=component_names,  # so the columns are the principal components\n",
    "        index=X.columns,  # and the rows are the original features\n",
    "    )\n",
    "    return pca, X_pca, loadings\n",
    "\n",
    "\n",
    "def plot_variance(pca, width=8, dpi=100):\n",
    "    # Create figure\n",
    "    fig, axs = plt.subplots(1, 2)\n",
    "    n = pca.n_components_\n",
    "    grid = np.arange(1, n + 1)\n",
    "    # Explained variance\n",
    "    evr = pca.explained_variance_ratio_\n",
    "    axs[0].bar(grid, evr)\n",
    "    axs[0].set(\n",
    "        xlabel=\"Component\", title=\"% Explained Variance\", ylim=(0.0, 1.0)\n",
    "    )\n",
    "    # Cumulative Variance\n",
    "    cv = np.cumsum(evr)\n",
    "    axs[1].plot(np.r_[0, grid], np.r_[0, cv], \"o-\")\n",
    "    axs[1].set(\n",
    "        xlabel=\"Component\", title=\"% Cumulative Variance\", ylim=(0.0, 1.0)\n",
    "    )\n",
    "    # Set up figure\n",
    "    fig.set(figwidth=8, dpi=100)\n",
    "    return axs"
   ]
  },
  {
   "cell_type": "code",
   "execution_count": 28,
   "metadata": {},
   "outputs": [
    {
     "data": {
      "text/plain": [
       "(PCA(),\n",
       "       PC1   PC2   PC3   PC4  ...      PC38      PC39      PC40      PC41\n",
       " 0   -2.56 -0.71  1.63 -0.77  ... -1.43e-02  2.41e-02 -4.50e-03 -9.45e-17\n",
       " 1   -3.20  0.27  2.32 -1.11  ...  6.62e-03 -1.42e-04  6.78e-04 -3.98e-16\n",
       " 2   -2.46 -1.23  1.74 -0.71  ... -5.35e-02  5.12e-03  1.73e-03 -2.70e-16\n",
       " 3   -2.73 -2.13  0.62 -0.08  ...  1.82e-02 -1.03e-02  7.69e-03  2.46e-16\n",
       " 4   -2.04 -2.87  1.00 -0.51  ... -2.18e-03  3.19e-03  1.25e-02 -2.96e-17\n",
       " ..    ...   ...   ...   ...  ...       ...       ...       ...       ...\n",
       " 413 -3.11  6.08 -0.89  0.32  ... -1.58e-02  1.73e-02 -6.19e-03  4.52e-17\n",
       " 414 -2.07  1.71 -0.83  0.74  ...  2.47e-02 -1.29e-02  1.45e-03  1.20e-16\n",
       " 415  2.51 -3.59 -2.38  0.83  ...  2.19e-01  1.24e-01 -4.67e-02  9.64e-17\n",
       " 416 -4.48  6.18  0.91 -0.47  ... -1.01e-02  2.90e-02 -2.25e-02 -7.01e-17\n",
       " 417 -4.48  6.18  0.91 -0.47  ... -1.01e-02  2.90e-02 -2.25e-02 -7.01e-17\n",
       " \n",
       " [418 rows x 41 columns],\n",
       "                                         PC1       PC2       PC3       PC4  \\\n",
       " PRODUCTO                           9.80e-02 -2.16e-01 -1.84e-01  2.37e-02   \n",
       " EDAD                               1.69e-01  9.75e-02 -1.71e-01  7.56e-02   \n",
       " NIVEL_ENDEUDAMIENTO                1.58e-01  1.23e-02 -1.48e-01  8.20e-03   \n",
       " TASA_AV                            1.35e-01 -2.50e-01 -1.06e-01  7.25e-02   \n",
       " HIPOTECA_USO                       2.43e-01  1.09e-01  2.34e-01 -1.96e-01   \n",
       " DURACION                           1.51e-01 -2.25e-01 -1.61e-01  9.53e-02   \n",
       " MONTO_BANCOS                       2.92e-01  7.46e-02 -3.95e-02 -1.17e-02   \n",
       " HIPOTECA_MONTO                     2.42e-01  1.11e-01  2.29e-01 -2.02e-01   \n",
       " PREST_AUTO_MORA                    1.62e-01 -7.35e-03 -6.59e-02 -1.37e-01   \n",
       " MORA_OTROS                         1.79e-01 -7.13e-02 -1.33e-01  6.58e-02   \n",
       " USO_OTROS                          1.15e-01 -3.78e-02 -6.61e-02  7.92e-02   \n",
       " HIPOTECA_MORA                      2.35e-01  1.15e-01  2.44e-01 -1.79e-01   \n",
       " PREST_AUTO_DURACION                1.64e-01 -1.65e-02 -7.02e-02 -1.28e-01   \n",
       " TARJ_CREDITO_DURACION              2.41e-01 -9.06e-03 -1.29e-01 -3.06e-02   \n",
       " LROTATIVA_MORA                     4.01e-02 -1.41e-02 -1.25e-01  4.39e-02   \n",
       " PREST_PERSONAL_USO                 1.09e-01  2.99e-02  2.74e-01  4.68e-01   \n",
       " DURACION_OTROS                     1.93e-01 -5.31e-02 -1.19e-01  2.79e-03   \n",
       " NUMDEPEND                         -2.80e-03 -2.09e-02 -1.87e-02 -7.49e-03   \n",
       " LEASING_MONTO                      9.26e-02  3.18e-02 -9.16e-02 -1.32e-01   \n",
       " PCOMERCIAL_MORA                    9.69e-02 -2.43e-02 -6.98e-02 -3.45e-02   \n",
       " DURACION_BANCOS                    2.78e-01  6.05e-02 -1.21e-02 -2.68e-02   \n",
       " USO_BANCOS                         2.73e-01  5.94e-02 -2.32e-02  4.03e-02   \n",
       " HIPOTECA_DURACION                  2.44e-01  1.08e-01  2.34e-01 -1.98e-01   \n",
       " AGROPECUARIO_USO                   6.88e-02  2.11e-02  1.42e-01 -5.52e-02   \n",
       " PREST_PERSONAL_DURACION            1.09e-01  2.84e-02  2.82e-01  4.54e-01   \n",
       " LEASING_MORA                       8.30e-02  1.74e-02 -1.07e-01 -1.08e-01   \n",
       " TMA_USO                            6.41e-02  1.23e-02  1.01e-01 -2.42e-02   \n",
       " PREST_PERSONAL_MORA                1.01e-01  2.86e-02  2.56e-01  4.59e-01   \n",
       " EXCLUIR                           -3.35e-02 -2.15e-02  6.93e-02 -4.19e-02   \n",
       " TRABAJO_MESES_CONTINUIDAD          1.91e-01  7.16e-02 -2.18e-01  1.09e-01   \n",
       " MORA_BANCOS                        2.75e-01  7.62e-02 -8.86e-03  7.18e-02   \n",
       " NUMERO_EMPLEADOS                  -1.22e-01 -1.54e-01  1.66e-01 -7.22e-02   \n",
       " DIRECCION_RESIDENCIA               9.57e-02 -1.01e-01 -2.04e-01  1.12e-01   \n",
       " DIRECCION_TRABAJO                  4.83e-03 -1.46e-01 -7.75e-02  3.07e-02   \n",
       " NOM_SUBACTIVIDADECONOMICA_encoded -6.59e-02 -1.44e-02  3.45e-02 -2.22e-02   \n",
       " RESIDENCIA_PROVINCIA_encoded      -7.89e-02  4.06e-01 -1.04e-01  4.44e-02   \n",
       " RESIDENCIA_DISTRITO_encoded       -6.60e-02  4.33e-01 -1.38e-01  6.62e-02   \n",
       " RESIDENCIA_CORREGIMIENTO_encoded  -7.28e-02  3.80e-01 -1.09e-01 -3.70e-03   \n",
       " RESIDENCIA_DISTRITO_encoded       -6.60e-02  4.33e-01 -1.38e-01  6.62e-02   \n",
       " TRABAJO_PROVINCIA_encoded          2.45e-02  4.32e-02 -2.42e-01  1.63e-01   \n",
       " TRABAJO_DISTRITO_encoded           1.17e-02  2.16e-02 -2.30e-01  1.78e-01   \n",
       " \n",
       "                                    ...      PC38      PC39      PC40      PC41  \n",
       " PRODUCTO                           ...  2.40e-02  3.04e-03  3.08e-03 -0.00e+00  \n",
       " EDAD                               ... -2.06e-02 -3.17e-03  3.66e-03 -4.82e-17  \n",
       " NIVEL_ENDEUDAMIENTO                ...  1.79e-02 -8.52e-03 -3.52e-03  1.76e-16  \n",
       " TASA_AV                            ...  4.25e-03 -9.57e-03  6.71e-03 -3.58e-17  \n",
       " HIPOTECA_USO                       ...  1.35e-02 -7.28e-01  1.72e-01  1.77e-16  \n",
       " DURACION                           ... -2.08e-02  1.63e-02 -8.44e-03  3.86e-17  \n",
       " MONTO_BANCOS                       ... -8.88e-02 -9.76e-02 -3.26e-02  3.29e-17  \n",
       " HIPOTECA_MONTO                     ... -5.39e-02  5.60e-01  6.00e-01 -7.24e-16  \n",
       " PREST_AUTO_MORA                    ... -1.40e-04 -1.23e-01 -1.62e-02  2.37e-16  \n",
       " MORA_OTROS                         ...  4.94e-02 -2.97e-02 -3.46e-03  3.22e-16  \n",
       " USO_OTROS                          ...  9.75e-03  2.44e-02 -6.93e-03  5.89e-17  \n",
       " HIPOTECA_MORA                      ...  1.15e-01 -1.00e-01  6.91e-03  5.96e-17  \n",
       " PREST_AUTO_DURACION                ...  1.71e-02  1.53e-01  2.34e-02 -3.02e-16  \n",
       " TARJ_CREDITO_DURACION              ...  7.78e-03  2.51e-02 -1.39e-02 -1.51e-16  \n",
       " LROTATIVA_MORA                     ... -4.97e-03  1.92e-02  3.89e-03 -2.12e-16  \n",
       " PREST_PERSONAL_USO                 ... -7.35e-01 -4.70e-02  2.61e-02  5.06e-16  \n",
       " DURACION_OTROS                     ... -5.69e-02 -1.06e-02  1.14e-02 -1.77e-16  \n",
       " NUMDEPEND                          ...  1.22e-02 -1.62e-03 -4.49e-03  1.59e-17  \n",
       " LEASING_MONTO                      ...  5.82e-02 -2.41e-02 -1.74e-02  3.79e-16  \n",
       " PCOMERCIAL_MORA                    ...  1.17e-02  2.28e-02  4.99e-03 -3.55e-17  \n",
       " DURACION_BANCOS                    ...  9.51e-02 -3.38e-02  1.28e-02  1.47e-16  \n",
       " USO_BANCOS                         ... -1.31e-02  1.14e-02 -5.89e-03 -5.31e-17  \n",
       " HIPOTECA_DURACION                  ... -7.67e-02  2.82e-01 -7.78e-01  3.28e-16  \n",
       " AGROPECUARIO_USO                   ... -1.24e-02  1.06e-02  9.67e-04 -1.58e-16  \n",
       " PREST_PERSONAL_DURACION            ...  6.21e-01  5.71e-02 -1.91e-02 -3.36e-16  \n",
       " LEASING_MORA                       ... -4.91e-02  1.69e-02  8.77e-03 -3.58e-16  \n",
       " TMA_USO                            ... -1.18e-02 -3.53e-03  6.98e-03  2.61e-16  \n",
       " PREST_PERSONAL_MORA                ...  1.36e-01 -3.30e-03 -7.38e-03 -2.83e-16  \n",
       " EXCLUIR                            ... -4.03e-03  1.13e-04 -1.73e-04 -4.60e-17  \n",
       " TRABAJO_MESES_CONTINUIDAD          ...  2.10e-02  3.88e-03 -2.51e-03  5.62e-17  \n",
       " MORA_BANCOS                        ... -1.17e-02  8.00e-02  3.37e-02  1.81e-17  \n",
       " NUMERO_EMPLEADOS                   ...  5.21e-04 -9.26e-04 -1.63e-03  2.89e-17  \n",
       " DIRECCION_RESIDENCIA               ... -1.47e-02 -7.88e-03  2.92e-03 -2.02e-16  \n",
       " DIRECCION_TRABAJO                  ... -7.29e-03 -4.05e-04  9.56e-04  7.39e-17  \n",
       " NOM_SUBACTIVIDADECONOMICA_encoded  ...  9.32e-05 -1.56e-03 -3.43e-04 -2.84e-18  \n",
       " RESIDENCIA_PROVINCIA_encoded       ... -2.11e-02  7.22e-03 -1.39e-03 -2.33e-16  \n",
       " RESIDENCIA_DISTRITO_encoded        ...  1.34e-02 -3.27e-03 -2.19e-03  7.07e-01  \n",
       " RESIDENCIA_CORREGIMIENTO_encoded   ... -2.05e-03  8.70e-03  1.78e-03  1.09e-16  \n",
       " RESIDENCIA_DISTRITO_encoded        ...  1.34e-02 -3.27e-03 -2.19e-03 -7.07e-01  \n",
       " TRABAJO_PROVINCIA_encoded          ...  1.99e-02 -8.05e-03  9.38e-04  1.31e-16  \n",
       " TRABAJO_DISTRITO_encoded           ... -7.07e-03  7.07e-03 -1.85e-03 -1.13e-16  \n",
       " \n",
       " [41 rows x 41 columns])"
      ]
     },
     "execution_count": 28,
     "metadata": {},
     "output_type": "execute_result"
    }
   ],
   "source": [
    "X = df5.copy()\n",
    "y = X.pop(\"DIAS_MORA\")\n",
    "apply_pca(X)"
   ]
  },
  {
   "cell_type": "code",
   "execution_count": 29,
   "metadata": {},
   "outputs": [],
   "source": [
    "from sklearn.cluster import KMeans\n",
    "pca1 = PCA(n_components= 5).fit_transform(X)\n",
    "kmeans = KMeans(n_clusters=5, init=\"k-means++\", max_iter=300, random_state=42)\n",
    "y_means = kmeans.fit_predict(pca1)"
   ]
  },
  {
   "cell_type": "code",
   "execution_count": 30,
   "metadata": {},
   "outputs": [
    {
     "data": {
      "text/plain": [
       "<matplotlib.axes._subplots.AxesSubplot at 0x1519877c310>"
      ]
     },
     "execution_count": 30,
     "metadata": {},
     "output_type": "execute_result"
    },
    {
     "data": {
      "application/pdf": "[encoded data removed]",
      "image/png": "[encoded data removed]",
      "text/plain": [
       "<Figure size 432x288 with 1 Axes>"
      ]
     },
     "metadata": {
      "needs_background": "light"
     },
     "output_type": "display_data"
    }
   ],
   "source": [
    "kmeans = KMeans(n_clusters=5, init=\"k-means++\", max_iter=300, random_state=42)\n",
    "df_clusters = pd.DataFrame(pca1)\n",
    "df_clusters[\"cluster\"] = y_means\n",
    "sns.scatterplot(df_clusters.iloc[:,0] , df_clusters.iloc[:,1] ,\n",
    "                data=df_clusters, hue=\"cluster\", palette=\"deep\")"
   ]
  },
  {
   "cell_type": "code",
   "execution_count": 31,
   "metadata": {},
   "outputs": [],
   "source": [
    "df_clusters.columns = ['PC1', 'PC2','PC3','PC4', 'PC5', 'cluster']\n",
    "df6 = pd.concat([df5, df_clusters], axis = 1)"
   ]
  },
  {
   "cell_type": "code",
   "execution_count": null,
   "metadata": {},
   "outputs": [],
   "source": [
    "#df1.groupby(\"DIAS_MORA\")[\"EDAD\"].count()"
   ]
  },
  {
   "cell_type": "code",
   "execution_count": 32,
   "metadata": {},
   "outputs": [],
   "source": [
    "df6.loc[df6['DIAS_MORA']> np.log1p(90), 'mora_90d']= 1\n",
    "df6.loc[df6['DIAS_MORA']<= np.log1p(90), 'mora_90d']= 0"
   ]
  },
  {
   "cell_type": "code",
   "execution_count": null,
   "metadata": {},
   "outputs": [],
   "source": [
    "#df6[df6['DIAS_MORA']> np.log1p(90)]"
   ]
  },
  {
   "cell_type": "code",
   "execution_count": null,
   "metadata": {},
   "outputs": [],
   "source": [
    "ax=sns.scatterplot(df6['PC1'] , df6['PC2'] ,\n",
    "                data=df6, hue=\"cluster\", size = 'mora_90d', palette=\"deep\")\n",
    "plt.legend(bbox_to_anchor=(1.01, 1),borderaxespad=0)"
   ]
  },
  {
   "cell_type": "code",
   "execution_count": null,
   "metadata": {},
   "outputs": [],
   "source": [
    "ax=sns.scatterplot(df6['PC1'] , df6['PC2'] ,\n",
    "                data=df6, size=\"cluster\", hue = 'mora_90d',palette=\"deep\")\n",
    "plt.legend(bbox_to_anchor=(1.01, 1),borderaxespad=0)"
   ]
  },
  {
   "cell_type": "code",
   "execution_count": null,
   "metadata": {},
   "outputs": [],
   "source": [
    "df6.groupby(\"cluster\")[\"PC1\"].mean()"
   ]
  },
  {
   "cell_type": "code",
   "execution_count": null,
   "metadata": {},
   "outputs": [],
   "source": [
    "df6.groupby(\"cluster\")[\"mora_90d\"].sum()"
   ]
  },
  {
   "cell_type": "code",
   "execution_count": null,
   "metadata": {},
   "outputs": [],
   "source": [
    "df6.groupby(\"cluster\")[\"mora_90d\"].count()"
   ]
  },
  {
   "cell_type": "code",
   "execution_count": 33,
   "metadata": {},
   "outputs": [],
   "source": [
    "var_modelo = [\n",
    "'PREST_PERSONAL_DURACION',\n",
    "'PREST_PERSONAL_USO',\n",
    "'PREST_PERSONAL_MORA',\n",
    "'HIPOTECA_MORA',\n",
    "'TRABAJO_PROVINCIA_encoded',\n",
    "'HIPOTECA_USO',\n",
    "'HIPOTECA_DURACION',\n",
    "'TRABAJO_DISTRITO_encoded',\n",
    "'HIPOTECA_MONTO',\n",
    "'TRABAJO_MESES_CONTINUIDAD',\n",
    "'DIRECCION_RESIDENCIA',\n",
    "'mora_90d']\n"
   ]
  },
  {
   "cell_type": "code",
   "execution_count": 34,
   "metadata": {},
   "outputs": [
    {
     "name": "stdout",
     "output_type": "stream",
     "text": [
      "(418, 12) (71, 12)\n"
     ]
    }
   ],
   "source": [
    "df7 = df6[var_modelo]\n",
    "df7_cluster_3 = df6[df6[\"cluster\"]==3][var_modelo]\n",
    "print(\n",
    "df7.shape,\n",
    "df7_cluster_3.shape)"
   ]
  },
  {
   "cell_type": "code",
   "execution_count": 35,
   "metadata": {},
   "outputs": [],
   "source": [
    "### importing lazypredict library\n",
    "import lazypredict\n",
    "### importing LazyClassifier for classification problem\n",
    "from lazypredict.Supervised import LazyClassifier\n",
    "### importing LazyClassifier for classification problem because here we are solving Classification use case.\n",
    "from lazypredict.Supervised import LazyClassifier\n",
    "from sklearn.model_selection import train_test_split"
   ]
  },
  {
   "cell_type": "code",
   "execution_count": 36,
   "metadata": {},
   "outputs": [
    {
     "name": "stderr",
     "output_type": "stream",
     "text": [
      "100%|██████████| 29/29 [00:01<00:00, 22.55it/s]\n"
     ]
    }
   ],
   "source": [
    "from sklearn.model_selection import train_test_split\n",
    "X = df7.copy()\n",
    "y = X.pop(\"mora_90d\")\n",
    "X_train, X_test, y_train, y_test = train_test_split(X, y, test_size=.5, random_state =123)\n",
    "clf = LazyClassifier(verbose=0, ignore_warnings=True, custom_metric = None)\n",
    "models,predictions = clf.fit(X_train, X_test, y_train, y_test)"
   ]
  },
  {
   "cell_type": "code",
   "execution_count": null,
   "metadata": {},
   "outputs": [],
   "source": [
    "X_cluster_3 = df7_cluster_3.copy()\n",
    "y_cluster_3 = X_cluster_3.pop(\"mora_90d\")\n",
    "X_train, X_test, y_train, y_test = train_test_split(X_cluster_3, y_cluster_3, test_size=.5, random_state =123)\n",
    "clf_cluster_3 = LazyClassifier(verbose=0, ignore_warnings=True, custom_metric = None)\n",
    "models_cluster_3,predictions_cluster_3 = clf_cluster_3.fit(X_train, X_test, y_train, y_test)"
   ]
  },
  {
   "cell_type": "code",
   "execution_count": null,
   "metadata": {},
   "outputs": [],
   "source": [
    "print(models_cluster_3)"
   ]
  },
  {
   "cell_type": "code",
   "execution_count": 37,
   "metadata": {},
   "outputs": [
    {
     "name": "stdout",
     "output_type": "stream",
     "text": [
      "                               Accuracy  Balanced Accuracy  ROC AUC  F1 Score  \\\n",
      "Model                                                                           \n",
      "Perceptron                         0.90               0.65     0.65      0.92   \n",
      "NearestCentroid                    0.78               0.64     0.64      0.84   \n",
      "PassiveAggressiveClassifier        0.92               0.60     0.60      0.93   \n",
      "QuadraticDiscriminantAnalysis      0.18               0.57     0.57      0.25   \n",
      "RandomForestClassifier             0.95               0.56     0.56      0.94   \n",
      "LGBMClassifier                     0.95               0.55     0.55      0.94   \n",
      "LabelPropagation                   0.95               0.55     0.55      0.94   \n",
      "XGBClassifier                      0.95               0.55     0.55      0.94   \n",
      "ExtraTreesClassifier               0.95               0.55     0.55      0.94   \n",
      "LabelSpreading                     0.95               0.55     0.55      0.94   \n",
      "AdaBoostClassifier                 0.94               0.55     0.55      0.94   \n",
      "DecisionTreeClassifier             0.92               0.54     0.54      0.93   \n",
      "DummyClassifier                    0.91               0.54     0.54      0.92   \n",
      "KNeighborsClassifier               0.96               0.50     0.50      0.94   \n",
      "LogisticRegression                 0.96               0.50     0.50      0.94   \n",
      "CalibratedClassifierCV             0.96               0.50     0.50      0.94   \n",
      "RidgeClassifier                    0.96               0.50     0.50      0.94   \n",
      "RidgeClassifierCV                  0.96               0.50     0.50      0.94   \n",
      "SGDClassifier                      0.96               0.50     0.50      0.94   \n",
      "SVC                                0.96               0.50     0.50      0.94   \n",
      "LinearSVC                          0.96               0.50     0.50      0.94   \n",
      "LinearDiscriminantAnalysis         0.96               0.50     0.50      0.94   \n",
      "BaggingClassifier                  0.95               0.50     0.50      0.94   \n",
      "BernoulliNB                        0.95               0.50     0.50      0.94   \n",
      "GaussianNB                         0.93               0.48     0.48      0.93   \n",
      "ExtraTreeClassifier                0.90               0.47     0.47      0.91   \n",
      "\n",
      "                               Time Taken  \n",
      "Model                                      \n",
      "Perceptron                           0.02  \n",
      "NearestCentroid                      0.01  \n",
      "PassiveAggressiveClassifier          0.03  \n",
      "QuadraticDiscriminantAnalysis        0.04  \n",
      "RandomForestClassifier               0.18  \n",
      "LGBMClassifier                       0.08  \n",
      "LabelPropagation                     0.02  \n",
      "XGBClassifier                        0.06  \n",
      "ExtraTreesClassifier                 0.14  \n",
      "LabelSpreading                       0.02  \n",
      "AdaBoostClassifier                   0.18  \n",
      "DecisionTreeClassifier               0.01  \n",
      "DummyClassifier                      0.02  \n",
      "KNeighborsClassifier                 0.04  \n",
      "LogisticRegression                   0.04  \n",
      "CalibratedClassifierCV               0.04  \n",
      "RidgeClassifier                      0.05  \n",
      "RidgeClassifierCV                    0.02  \n",
      "SGDClassifier                        0.02  \n",
      "SVC                                  0.03  \n",
      "LinearSVC                            0.03  \n",
      "LinearDiscriminantAnalysis           0.00  \n",
      "BaggingClassifier                    0.09  \n",
      "BernoulliNB                          0.02  \n",
      "GaussianNB                           0.02  \n",
      "ExtraTreeClassifier                  0.03  \n"
     ]
    }
   ],
   "source": [
    "print(models)"
   ]
  },
  {
   "cell_type": "code",
   "execution_count": null,
   "metadata": {},
   "outputs": [],
   "source": [
    "df_final = pd.DataFrame(data)\n",
    "df_final.loc[df_final['DIAS_MORA']> np.log1p(90), 'mora_90d']= 1\n",
    "df_final.loc[df_final['DIAS_MORA']<= np.log1p(90), 'mora_90d']= 0\n",
    "\n",
    "def media1 (data, variable):\n",
    "    print( data.groupby('mora_90d').agg(\n",
    "            {\n",
    "            # variable[i]: 'mean',\n",
    "             variable: 'mean'\n",
    "            }    \n",
    "        )\n",
    "        )"
   ]
  },
  {
   "cell_type": "code",
   "execution_count": null,
   "metadata": {},
   "outputs": [],
   "source": [
    "for variable in ['PREST_PERSONAL_DURACION','PREST_PERSONAL_USO','PREST_PERSONAL_MORA','HIPOTECA_MORA','HIPOTECA_USO',\n",
    "                 'HIPOTECA_DURACION','HIPOTECA_MONTO','TRABAJO_MESES_CONTINUIDAD','DIRECCION_RESIDENCIA']:\n",
    "        media1(df_final,variable)"
   ]
  },
  {
   "cell_type": "code",
   "execution_count": null,
   "metadata": {},
   "outputs": [],
   "source": [
    "df_final1 = pd.concat([df_final, df_clusters], axis = 1)\n",
    "columns = ['ID_CLIENTE', 'cluster']\n",
    "#z = df_final.reindex(columns =columns)\n",
    "df_final1[columns].to_csv('cluster.csv', header=True, index=True)"
   ]
  },
  {
   "cell_type": "code",
   "execution_count": null,
   "metadata": {},
   "outputs": [],
   "source": [
    "var_modelo1 = [\n",
    "'MONTO_BANCOS',\n",
    "'DURACION_BANCOS',\n",
    "'MORA_BANCOS',\n",
    "'USO_BANCOS',\n",
    "'HIPOTECA_DURACION',\n",
    "'HIPOTECA_USO',\n",
    "'HIPOTECA_MONTO',\n",
    "'TARJ_CREDITO_DURACION',\n",
    "'HIPOTECA_MORA',\n",
    "'mora_90d']\n",
    "\n",
    "df71 = df6[var_modelo1]\n",
    "df71_cluster_3 = df6[df6[\"cluster\"]==3][var_modelo1]\n",
    "print(\n",
    "df71.shape,\n",
    "df71_cluster_3.shape)\n",
    "\n",
    "#from sklearn.model_selection import train_test_split\n",
    "X1 = df71.copy()\n",
    "y1 = X1.pop(\"mora_90d\")\n",
    "X1_train, X1_test, y1_train, y1_test = train_test_split(X1, y1, test_size=.5, random_state =123)\n",
    "clf1 = LazyClassifier(verbose=0, ignore_warnings=True, custom_metric = None)\n",
    "models1,predictions1 = clf1.fit(X1_train, X1_test, y1_train, y1_test)\n",
    "\n",
    "X1_cluster_3 = df71_cluster_3.copy()\n",
    "y1_cluster_3 = X1_cluster_3.pop(\"mora_90d\")\n",
    "X1_train, X1_test, y1_train, y1_test = train_test_split(X1_cluster_3, y1_cluster_3, test_size=.5, random_state =123)\n",
    "clf1_cluster_3 = LazyClassifier(verbose=0, ignore_warnings=True, custom_metric = None)\n",
    "models1_cluster_3,predictions1_cluster_3 = clf1_cluster_3.fit(X1_train, X1_test, y1_train, y1_test)"
   ]
  },
  {
   "cell_type": "code",
   "execution_count": null,
   "metadata": {},
   "outputs": [],
   "source": [
    "print(models1_cluster_3)"
   ]
  },
  {
   "cell_type": "code",
   "execution_count": null,
   "metadata": {},
   "outputs": [],
   "source": [
    "print(models1)"
   ]
  },
  {
   "cell_type": "code",
   "execution_count": null,
   "metadata": {},
   "outputs": [],
   "source": [
    "var_modelo2 = [\n",
    "'RESIDENCIA_DISTRITO_encoded',\n",
    "'RESIDENCIA_DISTRITO_encoded',\n",
    "'RESIDENCIA_PROVINCIA_encoded',\n",
    "'RESIDENCIA_CORREGIMIENTO_encoded',\n",
    "'TASA_AV',\n",
    "'DURACION',\n",
    "'PRODUCTO',\n",
    "'mora_90d']\n",
    "\n",
    "df72 = df6[var_modelo2]\n",
    "df72_cluster_3 = df6[df6[\"cluster\"]==3][var_modelo2]\n",
    "print(\n",
    "df72.shape,\n",
    "df72_cluster_3.shape)\n",
    "\n",
    "#from sklearn.model_selection import train_test_split\n",
    "X2 = df72.copy()\n",
    "y2 = X2.pop(\"mora_90d\")\n",
    "X2_train, X2_test, y2_train, y2_test = train_test_split(X2, y2, test_size=.5, random_state =123)\n",
    "clf2 = LazyClassifier(verbose=0, ignore_warnings=True, custom_metric = None)\n",
    "models2,predictions2 = clf2.fit(X2_train, X2_test, y2_train, y2_test)\n",
    "\n",
    "X2_cluster_3 = df72_cluster_3.copy()\n",
    "y2_cluster_3 = X2_cluster_3.pop(\"mora_90d\")\n",
    "X2_train, X2_test, y2_train, y2_test = train_test_split(X2_cluster_3, y2_cluster_3, test_size=.5, random_state =123)\n",
    "clf2_cluster_3 = LazyClassifier(verbose=0, ignore_warnings=True, custom_metric = None)\n",
    "models2_cluster_3,predictions2_cluster_3 = clf2_cluster_3.fit(X2_train, X2_test, y2_train, y2_test)"
   ]
  },
  {
   "cell_type": "code",
   "execution_count": null,
   "metadata": {},
   "outputs": [],
   "source": [
    "print(models2_cluster_3)"
   ]
  }
 ],
 "metadata": {
  "kernelspec": {
   "display_name": "Python 3",
   "language": "python",
   "name": "python3"
  },
  "language_info": {
   "codemirror_mode": {
    "name": "ipython",
    "version": 3
   },
   "file_extension": ".py",
   "mimetype": "text/x-python",
   "name": "python",
   "nbconvert_exporter": "python",
   "pygments_lexer": "ipython3",
   "version": "3.8.3"
  }
 },
 "nbformat": 4,
 "nbformat_minor": 4
}
